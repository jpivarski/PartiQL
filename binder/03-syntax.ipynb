{
 "cells": [
  {
   "cell_type": "markdown",
   "metadata": {},
   "source": [
    "# Syntax of PartiQL\n",
    "\n",
    "The syntax of PartiQL is completely provisional, but there are reasons behind each choice. In this notebook, I will explain those reasons."
   ]
  },
  {
   "cell_type": "markdown",
   "metadata": {},
   "source": [
    "## Why not SQL?\n",
    "\n",
    "Although I want to demonstrate the value of relational concepts like surrogate indexes and set operations for particle physics, strict SQL would limit usability in ways that would be too distracting for the demo.\n",
    "\n",
    "   * PartiQL indexes are not visible, but SQL's are. In PartiQL, we are only using the indexes and index-matching to ensure that particles retain their identity, so there is only one choice for the `ON` clause of a `JOIN`. SQL is more general: SQL users sometimes want to match on surrogate keys, sometimes natural keys, and their choice will depend on their domain. Following this path, PartiQL should at least drop SQL's `ON` clause.\n",
    "   * SQL's {database, table, row} hierarchy corresponds to the awkward array structure `ListArray(RecordArray(PrimitiveArrays...)))`. In particle physics, we want to deal with more structures than this. It would be possible in SQL by emulating deeper structures using table normalization, but that would require an `ON` clause to select the right foreign keys to link tables. Arguably, what PartiQL does is internally manage foreign keys with its implicit `ON` clauses to provide the appearance of deeply nested data structures, which makes it more high-level than SQL: it maintains data in a way that is appropriate for particle physics only.\n",
    "   * If we apply queries to individual events, we will need new constructs to perform operations across events, such as cutting events and histogramming.\n",
    "   * SQL seems to have bad design decisions, patched over by decades of practice (e.g. [common table expressions](https://www.citusdata.com/blog/2018/08/09/fun-with-sql-common-table-expressions/) is a heavy boilerplate and out-of-order way to do functional composition, the evaluation order is visible and [very different](https://sqlbolt.com/lesson/select_queries_order_of_execution) from the order in which queries are written, etc.). Adhering to SQL's syntax would put a burden on physicists who are new to it.\n",
    "   * PartiQL queries are never going to be exact SQL queries, so the value of interoperability is at the level of concepts: for that, we use the same names. Data scientists who know SQL will find familiar ideas in PartiQL and physicists who learn something like PartiQL will recognize those terms when they encounter them in SQL.\n",
    "   * The `cut/vary/hist` block syntax of my October 2018 language was a good idea and should be replicated here."
   ]
  },
  {
   "cell_type": "markdown",
   "metadata": {},
   "source": [
    "## General design\n",
    "\n",
    "PartiQL has an expression syntax like Python's, including Python's operator precedence. It has the standard binary operators `+`, `-`, `*`, `/`, and `**`, comparison operators (not chained as in Python, but that would be a good idea), and `==` checks for equality. The logical operators are words: `and`, `or`, `not`, and there are no bitwise operators. Use `in` or `not in` to determine whether a value is a member of a set.\n",
    "\n",
    "Python and C/C++ comments are both supported.\n",
    "\n",
    "As we will see in the notebook about runtime evaluation, missing data are supported but not explicitly visible to the user as a `None` or `null` object. (A set containing missing data is the same as an empty set and a missing value for a record field is the same as not having that field.) To support missing data handling, PartiQL has [safe navigation operators](https://en.wikipedia.org/wiki/Safe_navigation_operator) `?possibly_missing` and `not_missing?.possibly_missing`, as well as a `has possibly_missing` expression that returns true or false.\n",
    "\n",
    "Rather than being a statement, `if` is a ternary expression: `x = if a > 0 then b else c`. Without the `else` clause, it may return missing data.\n",
    "\n",
    "Join operations are words, `join`, `cross`, `union`, `except`, and are infix binary operators, just as they are in SQL. However, they form part of the general expression syntax with other binary operators (e.g. `+`, `-`, `*`, `/`), though with lower precedence. Similarly, `where`, `group by` and `min by`/`max by` are infix binary operators.\n",
    "\n",
    "The `X as x` syntax promotes any set to a set of records with field `x` containing the original data. This can prevent set operations from overlapping data when joining sets of records with the same field names. When multiple variable names are provided, `X as (x1, x2)` (parentheses are required), it samples without replacement, which acts as a counterpoint to `X as x1 cross X as x2` to sample with replacement.\n",
    "\n",
    "Curly brackets are used (1) to isolate scope, so that temporary variables do not overshadow other variables with the same name, (2) to add data to a set of records after a `with` keyword, and (3) to enclose nested `cut/vary/hist` statements.\n",
    "\n",
    "Whitespace is not significant, except that a newline can end a statement (as can a semicolon `;`). Nesting is expressed with curly brackets `{...}`, not indentation.\n",
    "\n",
    "The outermost structures can be `cut` (to select events) and/or `vary` (to compute a block with different inputs for systematic variations). These statements are like the `region` and `vary` of the October 2018 language, but not as extensive and interchangeable with histogram binning specifiers. (It would be good to make them so.) Like the October 2018 language, `cut` and `vary` can be nested within each other, and doing so builds a hierarchy of counters for cut flows. Events have weights, which are multiplied by expressions in `weight by ...` clauses as an event descends the hierarchy.\n",
    "\n",
    "Histograms can be placed anywhere in the hierarchy with a `hist` statement, and the corresponding histogram appears in the hierarchy of counters. This way, the binning, name, and title of the histogram are specified next to the expressions to fill and `weight by`. The number of entries in a histogram depends on its location in the hierarchy of cuts and whether it is in any `with` expressions for a set of records.\n",
    "\n",
    "Although the language has no functions, macros (defined with `def`) are expanded during parsing to avoid repetitive typing. Macros are not runtime objects—it is as though all functions are inlined."
   ]
  },
  {
   "cell_type": "markdown",
   "metadata": {},
   "source": [
    "## Illustrative examples\n",
    "\n",
    "To execute the examples, be sure to have the [Lark parser](https://github.com/lark-parser/lark#readme) installed."
   ]
  },
  {
   "cell_type": "code",
   "execution_count": 1,
   "metadata": {},
   "outputs": [
    {
     "name": "stdout",
     "output_type": "stream",
     "text": [
      "Requirement already satisfied: lark-parser in /home/pivarski/miniconda3/lib/python3.7/site-packages (0.7.2)\n"
     ]
    }
   ],
   "source": [
    "!pip install lark-parser"
   ]
  },
  {
   "cell_type": "code",
   "execution_count": 2,
   "metadata": {},
   "outputs": [],
   "source": [
    "import parser"
   ]
  },
  {
   "cell_type": "markdown",
   "metadata": {},
   "source": [
    "Simple expressions look like any modern language."
   ]
  },
  {
   "cell_type": "markdown",
   "metadata": {},
   "source": [
    "### Scalar expressions"
   ]
  },
  {
   "cell_type": "code",
   "execution_count": 3,
   "metadata": {},
   "outputs": [
    {
     "data": {
      "text/plain": [
       "[Call(Symbol('/'), [Call(Symbol('+'), [Call(Symbol('*-1'), [Symbol('b')]), Call(Symbol('sqrt'), [Call(Symbol('-'), [Call(Symbol('**'), [Symbol('b'), Literal(2)]), Call(Symbol('*'), [Call(Symbol('*'), [Literal(4), Symbol('a')]), Symbol('c')])])])]), Call(Symbol('*'), [Literal(2), Symbol('a')])])]"
      ]
     },
     "execution_count": 3,
     "metadata": {},
     "output_type": "execute_result"
    }
   ],
   "source": [
    "parser.parse(r\"(-b + sqrt(b**2 -4*a*c))/(2*a)\")"
   ]
  },
  {
   "cell_type": "markdown",
   "metadata": {},
   "source": [
    "Logical operations are words (like Python) and the precedence order is respected (e.g. `and` before `or`)."
   ]
  },
  {
   "cell_type": "code",
   "execution_count": 4,
   "metadata": {},
   "outputs": [
    {
     "data": {
      "text/plain": [
       "[Call(Symbol('.or'), [Call(Symbol('.not'), [Symbol('a')]), Call(Symbol('.and'), [Symbol('b'), Symbol('c')])])]"
      ]
     },
     "execution_count": 4,
     "metadata": {},
     "output_type": "execute_result"
    }
   ],
   "source": [
    "parser.parse(r\"not a or b and c\")"
   ]
  },
  {
   "cell_type": "markdown",
   "metadata": {},
   "source": [
    "Three comment syntaxes are supported."
   ]
  },
  {
   "cell_type": "code",
   "execution_count": 5,
   "metadata": {},
   "outputs": [
    {
     "data": {
      "text/plain": [
       "[Symbol('one'), Symbol('two'), Symbol('three')]"
      ]
     },
     "execution_count": 5,
     "metadata": {},
     "output_type": "execute_result"
    }
   ],
   "source": [
    "parser.parse(r\"\"\"\n",
    "one     # this is a comment\n",
    "two     // also a comment\n",
    "three   /* multi-line\n",
    "           comment */\n",
    "\"\"\")"
   ]
  },
  {
   "cell_type": "markdown",
   "metadata": {},
   "source": [
    "Without `?`, missing names raise `QueryErrors` (as they should). With `?`, they are passed through as more missing data."
   ]
  },
  {
   "cell_type": "code",
   "execution_count": 6,
   "metadata": {},
   "outputs": [
    {
     "data": {
      "text/plain": [
       "[GetAttr(GetAttr(GetAttr(GetAttr(GetAttr(Symbol('safe', maybe=True), 'navigation', maybe=True), 'for', maybe=True), 'possibly', maybe=True), 'missing', maybe=True), 'data', maybe=True)]"
      ]
     },
     "execution_count": 6,
     "metadata": {},
     "output_type": "execute_result"
    }
   ],
   "source": [
    "parser.parse(r\"?safe?.navigation?.for?.possibly?.missing?.data\")"
   ]
  },
  {
   "cell_type": "markdown",
   "metadata": {},
   "source": [
    "The `if` expression is implemented as a function with a return value."
   ]
  },
  {
   "cell_type": "code",
   "execution_count": 7,
   "metadata": {},
   "outputs": [
    {
     "data": {
      "text/plain": [
       "[Assignment('x', Call(Symbol('.if'), [Call(Symbol('>'), [Symbol('a'), Literal(0)]), Symbol('b'), Symbol('c')]))]"
      ]
     },
     "execution_count": 7,
     "metadata": {},
     "output_type": "execute_result"
    }
   ],
   "source": [
    "parser.parse(r\"x = if a > 0 then b else c\")"
   ]
  },
  {
   "cell_type": "code",
   "execution_count": 8,
   "metadata": {},
   "outputs": [
    {
     "data": {
      "text/plain": [
       "[Assignment('x', Call(Symbol('.if'), [Call(Symbol('>'), [Symbol('a'), Literal(0)]), Symbol('b')]))]"
      ]
     },
     "execution_count": 8,
     "metadata": {},
     "output_type": "execute_result"
    }
   ],
   "source": [
    "parser.parse(r\"x = if a > 0 then b\")"
   ]
  },
  {
   "cell_type": "code",
   "execution_count": 9,
   "metadata": {},
   "outputs": [
    {
     "data": {
      "text/plain": [
       "[Assignment('x', Call(Symbol('.if'), [Has(['possibly_mising']), Symbol('a'), Symbol('b')]))]"
      ]
     },
     "execution_count": 9,
     "metadata": {},
     "output_type": "execute_result"
    }
   ],
   "source": [
    "parser.parse(r\"x = if has possibly_mising then a else b\")"
   ]
  },
  {
   "cell_type": "markdown",
   "metadata": {},
   "source": [
    "Curly brackets can be used to limit the scope of temporary variables."
   ]
  },
  {
   "cell_type": "code",
   "execution_count": 10,
   "metadata": {},
   "outputs": [
    {
     "data": {
      "text/plain": [
       "[Assignment('result', Block([Assignment('tmp1', Call(Symbol('+'), [Symbol('x'), Symbol('y')])), Assignment('tmp2', Call(Symbol('*'), [Symbol('y'), Symbol('z')])), Call(Symbol('/'), [Symbol('tmp1'), Symbol('tmp2')])]))]"
      ]
     },
     "execution_count": 10,
     "metadata": {},
     "output_type": "execute_result"
    }
   ],
   "source": [
    "parser.parse(r\"\"\"\n",
    "result = {\n",
    "    tmp1 = x + y\n",
    "    tmp2 = y * z\n",
    "    tmp1 / tmp2\n",
    "}\n",
    "\"\"\")"
   ]
  },
  {
   "cell_type": "code",
   "execution_count": 11,
   "metadata": {},
   "outputs": [
    {
     "data": {
      "text/plain": [
       "[Assignment('result', Block([Assignment('tmp1', Call(Symbol('+'), [Symbol('x'), Symbol('y')])), Assignment('tmp2', Call(Symbol('*'), [Symbol('y'), Symbol('z')])), Call(Symbol('/'), [Symbol('tmp1'), Symbol('tmp2')])]))]"
      ]
     },
     "execution_count": 11,
     "metadata": {},
     "output_type": "execute_result"
    }
   ],
   "source": [
    "parser.parse(r\"\"\"\n",
    "result = { tmp1 = x + y; tmp2 = y * z; tmp1 / tmp2 }\n",
    "\"\"\")"
   ]
  },
  {
   "cell_type": "markdown",
   "metadata": {},
   "source": [
    "### Table (set of records) expressions"
   ]
  },
  {
   "cell_type": "markdown",
   "metadata": {},
   "source": [
    "Join operations apply to sets of records (like SQL's tables) and they have an operator precedence: `join` and `cross` (like `*`) bind more tightly than `union` and `except` (like `+`)."
   ]
  },
  {
   "cell_type": "code",
   "execution_count": 12,
   "metadata": {},
   "outputs": [
    {
     "data": {
      "text/plain": [
       "[Call(Symbol('.except'), [Call(Symbol('.union'), [Symbol('a'), Call(Symbol('.cross'), [Call(Symbol('.join'), [Symbol('b'), Symbol('c')]), Symbol('d')])]), Symbol('e')])]"
      ]
     },
     "execution_count": 12,
     "metadata": {},
     "output_type": "execute_result"
    }
   ],
   "source": [
    "parser.parse(r\"a union b join c cross d except e\")"
   ]
  },
  {
   "cell_type": "markdown",
   "metadata": {},
   "source": [
    "The `as` operator turns a set into a set of records and can also be used for combinatorics (depending on whether it's *N choose 1* or *N choose k* for 1 or *k* variable names)."
   ]
  },
  {
   "cell_type": "code",
   "execution_count": 13,
   "metadata": {},
   "outputs": [
    {
     "data": {
      "text/plain": [
       "[Pack(Symbol('table'), ['x'])]"
      ]
     },
     "execution_count": 13,
     "metadata": {},
     "output_type": "execute_result"
    }
   ],
   "source": [
    "parser.parse(r\"table as x\")"
   ]
  },
  {
   "cell_type": "code",
   "execution_count": 14,
   "metadata": {},
   "outputs": [
    {
     "data": {
      "text/plain": [
       "[Pack(Symbol('table'), ['x', 'y', 'z'])]"
      ]
     },
     "execution_count": 14,
     "metadata": {},
     "output_type": "execute_result"
    }
   ],
   "source": [
    "parser.parse(r\"table as (x, y, z)\")"
   ]
  },
  {
   "cell_type": "markdown",
   "metadata": {},
   "source": [
    "The `with` operator adds derived fields to a set of records. Names in the `with` expression are record fields."
   ]
  },
  {
   "cell_type": "code",
   "execution_count": 15,
   "metadata": {},
   "outputs": [
    {
     "data": {
      "text/plain": [
       "[With(Symbol('table'), [Assignment('z', Call(Symbol('+'), [Symbol('x'), Symbol('y')]))], False)]"
      ]
     },
     "execution_count": 15,
     "metadata": {},
     "output_type": "execute_result"
    }
   ],
   "source": [
    "parser.parse(r\"table with { z = x + y }\")"
   ]
  },
  {
   "cell_type": "markdown",
   "metadata": {},
   "source": [
    "The `where` operator selects from a set of records. Names in the `where` expression are record fields."
   ]
  },
  {
   "cell_type": "code",
   "execution_count": 16,
   "metadata": {},
   "outputs": [
    {
     "data": {
      "text/plain": [
       "[Call(Symbol('.where'), [Symbol('table'), Call(Symbol('>'), [Symbol('x'), Symbol('y')])])]"
      ]
     },
     "execution_count": 16,
     "metadata": {},
     "output_type": "execute_result"
    }
   ],
   "source": [
    "parser.parse(r\"table where x > y\")"
   ]
  },
  {
   "cell_type": "code",
   "execution_count": 17,
   "metadata": {},
   "outputs": [
    {
     "data": {
      "text/plain": [
       "[Call(Symbol('.where'), [With(Symbol('table'), [Assignment('z', Call(Symbol('+'), [Symbol('x'), Symbol('y')]))], False), Call(Symbol('>'), [Symbol('z'), Literal(10)])])]"
      ]
     },
     "execution_count": 17,
     "metadata": {},
     "output_type": "execute_result"
    }
   ],
   "source": [
    "parser.parse(r\"table with { z = x + y } where z > 10\")"
   ]
  },
  {
   "cell_type": "markdown",
   "metadata": {},
   "source": [
    "The `group by` operator restructures data inside a set of records to make a set of sets of records. Names in the `group by` expression are record fields."
   ]
  },
  {
   "cell_type": "code",
   "execution_count": 18,
   "metadata": {},
   "outputs": [
    {
     "data": {
      "text/plain": [
       "[Call(Symbol('.group'), [Symbol('table'), Symbol('x')])]"
      ]
     },
     "execution_count": 18,
     "metadata": {},
     "output_type": "execute_result"
    }
   ],
   "source": [
    "parser.parse(r\"table group by x\")"
   ]
  },
  {
   "cell_type": "markdown",
   "metadata": {},
   "source": [
    "The `min by` and `max by` operators replace a set of records with a single record or missing data."
   ]
  },
  {
   "cell_type": "code",
   "execution_count": 19,
   "metadata": {},
   "outputs": [
    {
     "data": {
      "text/plain": [
       "[Call(Symbol('.max'), [Symbol('table'), Symbol('x')])]"
      ]
     },
     "execution_count": 19,
     "metadata": {},
     "output_type": "execute_result"
    }
   ],
   "source": [
    "parser.parse(r\"table max by x\")"
   ]
  },
  {
   "cell_type": "markdown",
   "metadata": {},
   "source": [
    "### Cut and vary blocks"
   ]
  },
  {
   "cell_type": "markdown",
   "metadata": {},
   "source": [
    "The `cut` and `vary` statements are the most domain-specific aspects of PartiQL, apart from histograms (below)."
   ]
  },
  {
   "cell_type": "code",
   "execution_count": 20,
   "metadata": {},
   "outputs": [
    {
     "data": {
      "text/plain": [
       "[Cut(Call(Symbol('>'), [Symbol('x'), Literal(0)]), None, None, None, [Cut(Call(Symbol('>'), [Symbol('y'), Literal(0)]), None, None, None, [Vary([Trial([Assignment('z', Literal(0.01))], None), Trial([Assignment('z', Call(Symbol('*-1'), [Literal(0.01)]))], None)], [Call(Symbol('+'), [Call(Symbol('+'), [Symbol('x'), Symbol('y')]), Symbol('z')])])])])]"
      ]
     },
     "execution_count": 20,
     "metadata": {},
     "output_type": "execute_result"
    }
   ],
   "source": [
    "parser.parse(r\"\"\"\n",
    "cut x > 0 {\n",
    "    cut y > 0 {\n",
    "        vary by { z = 0.01 } by { z = -0.01 } {\n",
    "            x + y + z\n",
    "        }\n",
    "    }\n",
    "}\n",
    "\"\"\")"
   ]
  },
  {
   "cell_type": "markdown",
   "metadata": {},
   "source": [
    "The `cut` statement can be modified by a `weight`, `name` (for lookup), and `title` (for human-readability), in any order."
   ]
  },
  {
   "cell_type": "code",
   "execution_count": 21,
   "metadata": {},
   "outputs": [
    {
     "data": {
      "text/plain": [
       "[Cut(Call(Symbol('>'), [Symbol('x'), Literal(0)]), Symbol('w'), Literal('cut1'), Literal('first cut'), [Call(Symbol('+'), [Symbol('x'), Symbol('y')])])]"
      ]
     },
     "execution_count": 21,
     "metadata": {},
     "output_type": "execute_result"
    }
   ],
   "source": [
    "parser.parse(r\"\"\"\n",
    "cut x > 0 weight by w named \"cut1\" titled \"first cut\" {\n",
    "    x + y\n",
    "}\n",
    "\"\"\")"
   ]
  },
  {
   "cell_type": "markdown",
   "metadata": {},
   "source": [
    "A `vary` statement takes arbitrarily many sets of assignments, each of which can be named."
   ]
  },
  {
   "cell_type": "code",
   "execution_count": 22,
   "metadata": {},
   "outputs": [
    {
     "data": {
      "text/plain": [
       "[Vary([Trial([Assignment('x', Literal(0.1)), Assignment('y', Literal(0)), Assignment('z', Literal(0))], Literal('x')), Trial([Assignment('x', Literal(0)), Assignment('y', Literal(0.001)), Assignment('z', Literal(0))], Literal('y')), Trial([Assignment('x', Literal(0)), Assignment('y', Literal(0)), Assignment('z', Literal(0.01))], Literal('z'))], [Call(Symbol('+'), [Call(Symbol('+'), [Symbol('x'), Symbol('y')]), Symbol('z')])])]"
      ]
     },
     "execution_count": 22,
     "metadata": {},
     "output_type": "execute_result"
    }
   ],
   "source": [
    "parser.parse(r\"\"\"\n",
    "vary\n",
    "  by {\n",
    "      x = 0.1\n",
    "      y = 0\n",
    "      z = 0\n",
    "  } named \"x\"\n",
    "  by {\n",
    "      x = 0\n",
    "      y = 0.001\n",
    "      z = 0\n",
    "  } named \"y\"\n",
    "  by {\n",
    "      x = 0\n",
    "      y = 0\n",
    "      z = 0.01\n",
    "  } named \"z\"\n",
    "  {\n",
    "      x + y + z\n",
    "  }\n",
    "\"\"\")"
   ]
  },
  {
   "cell_type": "code",
   "execution_count": 23,
   "metadata": {},
   "outputs": [
    {
     "data": {
      "text/plain": [
       "[Vary([Trial([Assignment('x', Literal(0.1)), Assignment('y', Literal(0)), Assignment('z', Literal(0))], Literal('x')), Trial([Assignment('x', Literal(0)), Assignment('y', Literal(0.001)), Assignment('z', Literal(0))], Literal('y')), Trial([Assignment('x', Literal(0)), Assignment('y', Literal(0)), Assignment('z', Literal(0.01))], Literal('z'))], [Call(Symbol('+'), [Call(Symbol('+'), [Symbol('x'), Symbol('y')]), Symbol('z')])])]"
      ]
     },
     "execution_count": 23,
     "metadata": {},
     "output_type": "execute_result"
    }
   ],
   "source": [
    "parser.parse(r\"\"\"\n",
    "vary by { x = 0.1; y = 0;     z = 0    } named \"x\"\n",
    "     by { x = 0;   y = 0.001; z = 0    } named \"y\"\n",
    "     by { x = 0;   y = 0;     z = 0.01 } named \"z\"\n",
    "  {\n",
    "      x + y + z\n",
    "  }\n",
    "\"\"\")"
   ]
  },
  {
   "cell_type": "markdown",
   "metadata": {},
   "source": [
    "### Histograms"
   ]
  },
  {
   "cell_type": "markdown",
   "metadata": {},
   "source": [
    "A histogram (`hist` statement) may be as simple as a single variable."
   ]
  },
  {
   "cell_type": "code",
   "execution_count": 24,
   "metadata": {},
   "outputs": [
    {
     "data": {
      "text/plain": [
       "[Histogram([Axis(Symbol('x'), None)], None, None, None)]"
      ]
     },
     "execution_count": 24,
     "metadata": {},
     "output_type": "execute_result"
    }
   ],
   "source": [
    "parser.parse(r\"hist x\")"
   ]
  },
  {
   "cell_type": "markdown",
   "metadata": {},
   "source": [
    "It may be a multidimensional histogram over several variables."
   ]
  },
  {
   "cell_type": "code",
   "execution_count": 25,
   "metadata": {},
   "outputs": [
    {
     "data": {
      "text/plain": [
       "[Histogram([Axis(Symbol('x'), None), Axis(Symbol('y'), None), Axis(Symbol('z'), None)], None, None, None)]"
      ]
     },
     "execution_count": 25,
     "metadata": {},
     "output_type": "execute_result"
    }
   ],
   "source": [
    "parser.parse(r\"hist x, y, z\")"
   ]
  },
  {
   "cell_type": "markdown",
   "metadata": {},
   "source": [
    "And each of these variables may be given an explicit binning."
   ]
  },
  {
   "cell_type": "code",
   "execution_count": 26,
   "metadata": {},
   "outputs": [
    {
     "data": {
      "text/plain": [
       "[Histogram([Axis(Symbol('x'), Call(Symbol('regular'), [Literal(100), Call(Symbol('*-1'), [Literal(5)]), Literal(5)])), Axis(Symbol('y'), Call(Symbol('regular'), [Literal(10), Literal(0), Literal(0.01)]))], None, None, None)]"
      ]
     },
     "execution_count": 26,
     "metadata": {},
     "output_type": "execute_result"
    }
   ],
   "source": [
    "parser.parse(r\"\"\"\n",
    "hist x by regular(100, -5, 5),\n",
    "     y by regular(10, 0, 0.01)\n",
    "\"\"\")"
   ]
  },
  {
   "cell_type": "markdown",
   "metadata": {},
   "source": [
    "The histogram (as a whole, not each axis) may have a `weight`, `name` (for lookup), and `title` (for human-readability), in any order."
   ]
  },
  {
   "cell_type": "code",
   "execution_count": 27,
   "metadata": {},
   "outputs": [
    {
     "data": {
      "text/plain": [
       "[Histogram([Axis(Symbol('x'), None)], Symbol('w'), Literal('h'), Literal('my first histogram'))]"
      ]
     },
     "execution_count": 27,
     "metadata": {},
     "output_type": "execute_result"
    }
   ],
   "source": [
    "parser.parse(r\"\"\"\n",
    "hist x weight by w named \"h\" titled \"my first histogram\"\n",
    "\"\"\")"
   ]
  },
  {
   "cell_type": "markdown",
   "metadata": {},
   "source": [
    "Histograms may be placed inside `cut` and `vary` statements, temporary variable blocks, or a set of records' `with` expression. In any case, it will be included in the hierarchy of counters. The number of times it is filled depends on *where* it is placed—if it is in a set of records' `with` expression, it will have an entry for each of those records (e.g. for each particle)."
   ]
  },
  {
   "cell_type": "code",
   "execution_count": 28,
   "metadata": {},
   "outputs": [
    {
     "data": {
      "text/plain": [
       "[Histogram([Axis(Symbol('x'), None)], None, None, Literal('One for every event.')),\n",
       " Cut(Call(Symbol('<'), [Symbol('x'), Literal(0)]), None, None, None, [Histogram([Axis(Symbol('x'), None)], None, None, Literal('One for every event in which x < 0.')), With(Symbol('table'), [Histogram([Axis(Symbol('x'), None)], None, None, Literal('One for every element of table for every event in which x < 0.'))], False)])]"
      ]
     },
     "execution_count": 28,
     "metadata": {},
     "output_type": "execute_result"
    }
   ],
   "source": [
    "parser.parse(r\"\"\"\n",
    "hist x titled \"One for every event.\"\n",
    "\n",
    "cut x < 0 {\n",
    "    hist x titled \"One for every event in which x < 0.\"\n",
    "\n",
    "    table with {\n",
    "        hist x titled \"One for every element of table for every event in which x < 0.\"\n",
    "    }\n",
    "}\n",
    "\"\"\")"
   ]
  },
  {
   "cell_type": "markdown",
   "metadata": {},
   "source": [
    "### Macros"
   ]
  },
  {
   "cell_type": "markdown",
   "metadata": {},
   "source": [
    "Macros look like functions, but they can be used anywhere (as statements, expressions, etc.) to reduce repetition in the source code. They act during parsing, so they are literally syntactic sugar—not runtime objects. Macros can call other macros, but not recursively."
   ]
  },
  {
   "cell_type": "code",
   "execution_count": 29,
   "metadata": {},
   "outputs": [
    {
     "data": {
      "text/plain": [
       "[Call(Symbol('+'), [Symbol('z'), Call(Symbol('+'), [Symbol('y'), Literal(1)])])]"
      ]
     },
     "execution_count": 29,
     "metadata": {},
     "output_type": "execute_result"
    }
   ],
   "source": [
    "parser.parse(r\"\"\"\n",
    "def add1(x) {\n",
    "    x + 1\n",
    "}\n",
    "\n",
    "z + add1(y)\n",
    "\"\"\")"
   ]
  },
  {
   "cell_type": "code",
   "execution_count": 30,
   "metadata": {},
   "outputs": [
    {
     "data": {
      "text/plain": [
       "[Histogram([Axis(Symbol('a'), Call(Symbol('regular'), [Literal(100), Literal(0), Literal(50)]))], None, Literal('a'), None),\n",
       " Histogram([Axis(Symbol('b'), Call(Symbol('regular'), [Literal(100), Literal(0), Literal(50)]))], None, Literal('b'), None),\n",
       " Histogram([Axis(Symbol('c'), Call(Symbol('regular'), [Literal(100), Literal(0), Literal(50)]))], None, Literal('c'), None)]"
      ]
     },
     "execution_count": 30,
     "metadata": {},
     "output_type": "execute_result"
    }
   ],
   "source": [
    "parser.parse(r\"\"\"\n",
    "def goodbinning(x, name) {\n",
    "    hist x by regular(100, 0, 50) named name\n",
    "}\n",
    "\n",
    "goodbinning(a, \"a\")\n",
    "goodbinning(b, \"b\")\n",
    "goodbinning(c, \"c\")\n",
    "\"\"\")"
   ]
  }
 ],
 "metadata": {
  "kernelspec": {
   "display_name": "Python 3",
   "language": "python",
   "name": "python3"
  },
  "language_info": {
   "codemirror_mode": {
    "name": "ipython",
    "version": 3
   },
   "file_extension": ".py",
   "mimetype": "text/x-python",
   "name": "python",
   "nbconvert_exporter": "python",
   "pygments_lexer": "ipython3",
   "version": "3.7.3"
  }
 },
 "nbformat": 4,
 "nbformat_minor": 4
}
