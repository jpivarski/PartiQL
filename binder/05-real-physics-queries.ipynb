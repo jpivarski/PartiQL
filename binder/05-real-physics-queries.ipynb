{
 "cells": [
  {
   "cell_type": "code",
   "execution_count": null,
   "metadata": {},
   "outputs": [],
   "source": [
    "from awkwardql import data, interpreter, interface\n",
    "\n",
    "events = data.RecordArray({\n",
    "        \"muons\": data.ListArray([0, 3, 3, 5], [3, 3, 5, 9], data.RecordArray({\n",
    "            \"pt\": data.PrimitiveArray([1.1, 2.2, 3.3, 4.4, 5.5, 6.6, 7.7, 8.8, 9.9]),\n",
    "            \"charge\": data.PrimitiveArray([-1, 1, -1, 1, -1, 1, -1, 1, -1]),\n",
    "            \"iso\": data.PrimitiveArray([0, 0, 100, 50, 30, 1, 2, 3, 4])\n",
    "    })),\n",
    "        \"electrons\": data.ListArray([0, 5, 6, 8], [5, 6, 8, 12], data.RecordArray({\n",
    "            \"pt\": data.PrimitiveArray([1, 2, 3, 4, 5, 100, 30, 50, 1, 2, 3, 4]),\n",
    "            \"charge\": data.PrimitiveArray([1, -1, 1, -1, 1, -1, 1, -1, 1, -1, 1, -1]),\n",
    "            \"mass\": data.PrimitiveArray([10, 10, 10, 10, 10, 5, 15, 15, 9, 8, 7, 6])\n",
    "        })),\n",
    "        \"met\": data.PrimitiveArray([100, 200, 300, 400])\n",
    "    })\n",
    "\n",
    "events.setindex()\n",
    "event_data = data.instantiate(events)\n",
    "\n",
    "@interface.query\n",
    "def third_not_in_z():\n",
    "    r\"\"\"\n",
    "    def mass(one, two) {\n",
    "        91.2 + one.pt + two.pt # yes this is just a stand in\n",
    "    }\n",
    "\n",
    "    third = {\n",
    "        leptons = electrons union muons\n",
    "        Z = electrons as (lep1, lep2) union muons as (lep1, lep2) \n",
    "                   where lep1.charge != lep2.charge               \n",
    "                   min by abs(mass(lep1, lep2) - 91.2)\n",
    "        leptons where count(leptons) >= 3 except [?Z.lep1, ?Z.lep2] max by pt\n",
    "    }\n",
    "\n",
    "    hist ?third.pt by regular(100, 0, 250) named \"third_pt\" titled \"Leading other lepton pT\"\n",
    "    \"\"\"\n",
    "\n",
    "output, counter = third_not_in_z(event_data)\n",
    "\n",
    "print(output)\n",
    "\n",
    "counter[\"third_pt\"].mpl()"
   ]
  },
  {
   "cell_type": "code",
   "execution_count": null,
   "metadata": {},
   "outputs": [],
   "source": []
  }
 ],
 "metadata": {
  "kernelspec": {
   "display_name": "Python 3",
   "language": "python",
   "name": "python3"
  },
  "language_info": {
   "codemirror_mode": {
    "name": "ipython",
    "version": 3
   },
   "file_extension": ".py",
   "mimetype": "text/x-python",
   "name": "python",
   "nbconvert_exporter": "python",
   "pygments_lexer": "ipython3",
   "version": "3.7.3"
  }
 },
 "nbformat": 4,
 "nbformat_minor": 2
}
