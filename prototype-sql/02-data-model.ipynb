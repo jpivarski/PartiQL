{
 "cells": [
  {
   "cell_type": "markdown",
   "metadata": {},
   "source": [
    "# Data model\n",
    "\n",
    "Compared to what is provided in most general-purpose programming languages, only a small set of abstract data types are needed for analysis (or high-level programming in general). Numbers, booleans, and fixed-size (rectangular) arrays of numbers and booleans are sufficient for data analysis in most fields of study. Particle physicists demonstrably need variable-length lists of numbers and booleans as well: interest in awkward-array has overwhelmingly focused on the `JaggedArray` class, which only provides this capability. For the intuitive notion of a \"particle object,\" some sort of record type is needed as well. To manipulate sets without restriction, we also need heterogeneity, which can be expressed by a union type."
   ]
  },
  {
   "cell_type": "markdown",
   "metadata": {},
   "source": [
    "## Data types\n",
    "\n",
    "The following four type generators (\"PLUR\") provide a system of surprising generality:\n",
    "\n",
    "   * **P**rimitive integers, floating-point numbers, booleans, and any fixed byte-width value (e.g. UUIDs, IP addresses, ...),\n",
    "   * **L**ists of variable length but homogeneous type,\n",
    "   * **U**nions of heterogeneous types, such as \"electrons and muons\" (with different fields in each), and\n",
    "   * **R**ecords of named, typed fields (a.k.a. objects, structs, composites, classes...).\n",
    "\n",
    "For instance, JSON (with a schema) is a PLUR system, in which numbers, boolean, and `null` are the primitives, and strings are regarded as a special case of \"lists of 1-byte characters.\" Protobuf, Avro, Thrift, Parquet, and Arrow are statically typed PLUR systems. Unions and records are the sum types and product types of [algebraic type theory](https://en.wikipedia.org/wiki/Algebraic_data_type), respectively. Only one thing from general-purpose programming might be missed by physicists:\n",
    "\n",
    "   * **P**ointers between objects.\n",
    "\n",
    "However, we can add this as a fifth type generator (\"PLURP\") by allowing cross-references and circular references. In a PLUR system, data structures are trees with a maximum depth, limited by the type schema, but in a PLURP system, data structures may be arbitrarily deep trees or even graphs. Awkward-array is PLURP with extra features beyond just representing types.\n",
    "\n",
    "Data types in a general-purpose programming language can be constructed from the above if interpreted through the appropriate interfaces. For instance, an open file object is an integer that makes system calls, a linked list is a tree of records, and a hash-table is a list with hash-collision handling. PLURP provides a layer of abstraction between raw, serialized memory (e.g. the arrays and structs of the C programming language) and rarified types of a high-level language (e.g. classes with hidden implementations)."
   ]
  },
  {
   "cell_type": "markdown",
   "metadata": {},
   "source": [
    "## Multi-paradigm columnar processing\n",
    "\n",
    "Awkward-array has been useful as a Numpy extension for particle physics, and I expect its role to increase. However, I don't think the array-programming paradigm is good for all problems. In fact, I'd like to provide three ways to perform computations on these same data structures:\n",
    "\n",
    "   * array programming, in which the columnar nature of the arrays is visible and there is no index,\n",
    "   * imperative programming in Numba, in which the columnar nature of the arrays is hidden—the user works with \"lists\" and \"records\" in compiled Python—and there is no index, and\n",
    "   * declarative programming, in which the columnar nature of the arrays is hidden and there is an index to define identity for set operations.\n",
    "\n",
    "My goal is for the three paradigms to be usable on the same data structures without translation. For example, a physicist-user might apply a first transformation of their data as an array, then do something more complex in a Numba-compiled block, treating the records as Python objects (though Numba compiles their actions into array manipulations under the hood), then do something even more complex, relying on the identity of records in a way not possible in imperative programming, using a declarative language like PartiQL."
   ]
  },
  {
   "cell_type": "markdown",
   "metadata": {},
   "source": [
    "## Mini-awkward-array\n",
    "\n",
    "Rather than using awkward-array in this demo, I reimplemented a simple version of it so that relationships between the types and the index is more clear.\n",
    "\n",
    "This implementation has only four classes: `PrimitiveArray`, `ListArray`, `UnionArray`, and `RecordArray`. As in awkward-array, the data are stored in columns but may be thought of as nested objects."
   ]
  },
  {
   "cell_type": "code",
   "execution_count": 1,
   "metadata": {},
   "outputs": [],
   "source": [
    "import data\n",
    "\n",
    "events = data.RecordArray({\n",
    "        \"muons\": data.ListArray([0, 3, 3, 5], [3, 3, 5, 9], data.RecordArray({\n",
    "            \"pt\": data.PrimitiveArray([1.1, 2.2, 3.3, 4.4, 5.5, 6.6, 7.7, 8.8, 9.9]),\n",
    "            \"iso\": data.PrimitiveArray([0, 0, 100, 50, 30, 1, 2, 3, 4])\n",
    "    })),\n",
    "        \"jets\": data.ListArray([0, 5, 6, 8], [5, 6, 8, 12], data.RecordArray({\n",
    "            \"pt\": data.PrimitiveArray([1, 2, 3, 4, 5, 100, 30, 50, 1, 2, 3, 4]),\n",
    "            \"mass\": data.PrimitiveArray([10, 10, 10, 10, 10, 5, 15, 15, 9, 8, 7, 6])\n",
    "        })),\n",
    "        \"met\": data.PrimitiveArray([100, 200, 300, 400])\n",
    "    })"
   ]
  },
  {
   "cell_type": "markdown",
   "metadata": {},
   "source": [
    "The semi-realistic event structure above is defined in its columnar representation—Python lists are stand-ins for the arrays we would use in an efficient system. We can extract data as jagged arrays:"
   ]
  },
  {
   "cell_type": "code",
   "execution_count": 2,
   "metadata": {},
   "outputs": [
    {
     "data": {
      "text/plain": [
       "<Array [[1.1, 2.2, 3.3], [], [4.4, 5.5], [6.6, 7.7, 8.8, 9.9]]>"
      ]
     },
     "execution_count": 2,
     "metadata": {},
     "output_type": "execute_result"
    }
   ],
   "source": [
    "events[\"muons\"][\"pt\"]"
   ]
  },
  {
   "cell_type": "markdown",
   "metadata": {},
   "source": [
    "Or as the nested objects the arrays represent."
   ]
  },
  {
   "cell_type": "code",
   "execution_count": 3,
   "metadata": {},
   "outputs": [
    {
     "data": {
      "text/plain": [
       "[{'pt': 1.1, 'iso': 0}, {'pt': 2.2, 'iso': 0}, {'pt': 3.3, 'iso': 100}]"
      ]
     },
     "execution_count": 3,
     "metadata": {},
     "output_type": "execute_result"
    }
   ],
   "source": [
    "events[0][\"muons\"].tolist()"
   ]
  },
  {
   "cell_type": "markdown",
   "metadata": {},
   "source": [
    "In awkward-array, we would describe the high-level type of this structure as follows:\n",
    "\n",
    "```\n",
    "[0, 4) -> \"muons\" -> [0, ?) -> \"pt\" -> float64\n",
    "                               \"iso\" -> float64\n",
    "          \"jets\" -> [0, ?) -> \"pt\" -> float64\n",
    "                              \"mass\" -> float64\n",
    "          \"met\" -> float64\n",
    "```\n",
    "\n",
    "because an array is like a function that takes an integer or string in square brackets and returns something else—an array or a scalar primitive. The first argument after `events` can be any non-negative integer less than `4`, and this returns an array/function that takes `\"muons\"`, `\"jets\"`, or `\"met\"`. The return type of the next argument depends on which string was passed. The variable-length lists take a non-negative integer `[0, ?)` because its limits are too complex to encode in the type description. (The size of the type description should not be allowed to scale with the size of the array, and this limits its expressiveness for variable-length lists.) If awkward-array is based on Numpy, the leaves of its type terminate on Numpy dtypes, such as `float64`. If the array includes a cross-reference or circular reference, the type description would be a graph with interconnections, not a tree.\n",
    "\n",
    "In awkward-array, it's possible to change the order of these arguments:"
   ]
  },
  {
   "cell_type": "code",
   "execution_count": 4,
   "metadata": {},
   "outputs": [
    {
     "data": {
      "text/plain": [
       "[{'pt': 1.1, 'iso': 0}, {'pt': 2.2, 'iso': 0}, {'pt': 3.3, 'iso': 100}]"
      ]
     },
     "execution_count": 4,
     "metadata": {},
     "output_type": "execute_result"
    }
   ],
   "source": [
    "# [0, 4) before \"muons\"/\"jets\"/\"met\"\n",
    "events[0][\"muons\"].tolist()"
   ]
  },
  {
   "cell_type": "code",
   "execution_count": 5,
   "metadata": {},
   "outputs": [
    {
     "data": {
      "text/plain": [
       "[{'pt': 1.1, 'iso': 0}, {'pt': 2.2, 'iso': 0}, {'pt': 3.3, 'iso': 100}]"
      ]
     },
     "execution_count": 5,
     "metadata": {},
     "output_type": "execute_result"
    }
   ],
   "source": [
    "# \"muons\"/\"jets\"/\"met\" before [0, 4)\n",
    "events[\"muons\"][0].tolist()"
   ]
  },
  {
   "cell_type": "markdown",
   "metadata": {},
   "source": [
    "Passing a string argument to a `ListArray`, as though it were a `RecordArray`, creates a `ListArray` of one of the nested `RecordArray`'s fields. It is a projection through the nested records."
   ]
  },
  {
   "cell_type": "code",
   "execution_count": 6,
   "metadata": {},
   "outputs": [
    {
     "data": {
      "text/plain": [
       "<Array [[1.1, 2.2, 3.3], [], [4.4, 5.5], [6.6, 7.7, 8.8, 9.9]]>"
      ]
     },
     "execution_count": 6,
     "metadata": {},
     "output_type": "execute_result"
    }
   ],
   "source": [
    "events[\"muons\"][\"pt\"]"
   ]
  },
  {
   "cell_type": "code",
   "execution_count": 7,
   "metadata": {},
   "outputs": [
    {
     "data": {
      "text/plain": [
       "<Array [[0, 0, 100], [], [50, 30], [1, 2, 3, 4]]>"
      ]
     },
     "execution_count": 7,
     "metadata": {},
     "output_type": "execute_result"
    }
   ],
   "source": [
    "events[\"muons\"][\"iso\"]"
   ]
  },
  {
   "cell_type": "markdown",
   "metadata": {},
   "source": [
    "Formally, we find that string arguments can commute leftward through integer arguments, though string arguments do not commute with string arguments (you can't reverse the order of nested records) and integer arguments do not commute with integer arguments (you can't reverse the order of nested lists). A string argument cannot commute to the right in its placement in the data type: you can't say"
   ]
  },
  {
   "cell_type": "code",
   "execution_count": 8,
   "metadata": {},
   "outputs": [
    {
     "ename": "KeyError",
     "evalue": "2",
     "output_type": "error",
     "traceback": [
      "\u001b[0;31m------------------------------------------------------------------------\u001b[0m",
      "\u001b[0;31mKeyError\u001b[0m                               Traceback (most recent call last)",
      "\u001b[0;32m<ipython-input-8-c8a2b919c77f>\u001b[0m in \u001b[0;36m<module>\u001b[0;34m\u001b[0m\n\u001b[0;32m----> 1\u001b[0;31m \u001b[0mevents\u001b[0m\u001b[0;34m[\u001b[0m\u001b[0;36m0\u001b[0m\u001b[0;34m]\u001b[0m\u001b[0;34m[\u001b[0m\u001b[0;36m2\u001b[0m\u001b[0;34m]\u001b[0m\u001b[0;34m[\u001b[0m\u001b[0;34m\"muons\"\u001b[0m\u001b[0;34m]\u001b[0m\u001b[0;34m[\u001b[0m\u001b[0;34m\"pt\"\u001b[0m\u001b[0;34m]\u001b[0m\u001b[0;34m\u001b[0m\u001b[0;34m\u001b[0m\u001b[0m\n\u001b[0m",
      "\u001b[0;31mKeyError\u001b[0m: 2"
     ]
    }
   ],
   "source": [
    "events[0][2][\"muons\"][\"pt\"]"
   ]
  },
  {
   "cell_type": "markdown",
   "metadata": {},
   "source": [
    "because the three options `\"muons\"`, `\"jets\"`, `\"met\"` do not lead to the same types: `\"met\"` yields a scalar `float64`, which cannot take any array arguments. Because of this technicality, we have to say, \"string indexes commute with integer indexes *up to their rightmost position,*\" where the \"rightmost position\" is the position of the string in the data type.\n",
    "\n",
    "Notwithstanding that technicality, the commutation relation is an important feature and will be used to define awkward indexes."
   ]
  },
  {
   "cell_type": "markdown",
   "metadata": {},
   "source": [
    "## Indexes and keys\n",
    "\n",
    "The concept that an SQL-like query language would add to awkward-array is indexing—giving each element of the arrays (at all levels) a unique identifier (\"key\").\n",
    "\n",
    "Just as the data types are determined by what types of arguments can be placed in square brackets and what types that returns, the index is determined by a specific sequence of arguments that lead to a given data element. For example:"
   ]
  },
  {
   "cell_type": "code",
   "execution_count": 9,
   "metadata": {},
   "outputs": [
    {
     "data": {
      "text/plain": [
       "3.3"
      ]
     },
     "execution_count": 9,
     "metadata": {},
     "output_type": "execute_result"
    }
   ],
   "source": [
    "events[0][\"muons\"][2][\"pt\"]"
   ]
  },
  {
   "cell_type": "markdown",
   "metadata": {},
   "source": [
    "The sequence `0`, `\"muons\"`, `2`, `\"pt\"` leads to 3.3, so this value of 3.3 could be indexed by `[0, \"muons\", 2, \"pt\"]`. There may be other values of 3.3 in the dataset, but they are different entities with different index keys.\n",
    "\n",
    "In relational databases, this is called a [surrogate key](https://en.wikipedia.org/wiki/Surrogate_key), a declaration that this entity is unique by fiat, as opposed to a [natural key](https://en.wikipedia.org/wiki/Natural_key) that determines uniqueness through the value of the measured data. For instance, if we had decided that all muons with a pT of 3.3 are the same muon, those would be natural keys. Natural keys are meaningful for time measurements in time series or latitude/longitude coordinates in geographical data, but no values in a particle physics dataset would make sense as a natural key. Even if all low-level signals in a particle physics collision were perfectly repeated by a second collision, we would want to consider that second instance as a distinct event, and all of the particles it contains as distinct from the particles of the first event. Thus, we generate surrogate keys based on their location in the array structure.\n",
    "\n",
    "Because of the commutivity of integers and strings, the following are equivalent:\n",
    "\n",
    "```\n",
    "         [0, \"muons\", 2, \"pt\"]\n",
    "         [0, \"muons\", \"pt\", 2]\n",
    "         [\"muons\", 0, 2, \"pt\"]\n",
    "         [\"muons\", 0, \"pt\", 2]\n",
    "         [\"muons\", \"pt\", 0, 2]\n",
    "(but not [0, 2, \"muons\", \"pt\"])\n",
    "```\n",
    "\n",
    "Rather than choosing one arbitrarily, we can express this commutivity by separating the index into a row index and a column index:\n",
    "\n",
    "```\n",
    "row=[0, 2], col=[\"muons\", \"pt\"]\n",
    "```\n",
    "\n",
    "Note that we can only perform this assignment in data without cross-references—PLUR, not PLURP. To accomodate indexing, future versions of awkward-array will need to demote cross-references to a second-class status: a non-cross-referenced structure may be built from direct references, but interconnections would have to be called out as \"soft links\" or \"weak references\" so that they can be ignored while assigning indexes. (Alternatively, we could do a depth-first walk with breadcrumbs to avoid walking over the same structure twice, but indexes derived that way would depend on the order in which record fields are walked. It would be safer to call out \"direct references\" from \"cross-references\" explicitly.)"
   ]
  },
  {
   "cell_type": "markdown",
   "metadata": {},
   "source": [
    "### Row and column indexes in Pandas\n",
    "\n",
    "This is the principle that Pandas uses to express arbitrary lists of records as a two-dimensional table. To see this in a few examples, install awkward-array and Pandas:"
   ]
  },
  {
   "cell_type": "code",
   "execution_count": 10,
   "metadata": {},
   "outputs": [
    {
     "name": "stdout",
     "output_type": "stream",
     "text": [
      "Requirement already satisfied: awkward in /home/pivarski/miniconda3/lib/python3.7/site-packages/awkward-0.12.6-py3.7.egg (0.12.6)\n",
      "Requirement already satisfied: pandas in /home/pivarski/miniconda3/lib/python3.7/site-packages (0.25.0)\n",
      "Requirement already satisfied: numpy>=1.13.1 in /home/pivarski/miniconda3/lib/python3.7/site-packages (from awkward) (1.17.0)\n",
      "Requirement already satisfied: pytz>=2017.2 in /home/pivarski/miniconda3/lib/python3.7/site-packages (from pandas) (2019.2)\n",
      "Requirement already satisfied: python-dateutil>=2.6.1 in /home/pivarski/miniconda3/lib/python3.7/site-packages (from pandas) (2.8.0)\n",
      "Requirement already satisfied: six>=1.5 in /home/pivarski/miniconda3/lib/python3.7/site-packages (from python-dateutil>=2.6.1->pandas) (1.12.0)\n"
     ]
    }
   ],
   "source": [
    "!pip install awkward pandas"
   ]
  },
  {
   "cell_type": "code",
   "execution_count": 11,
   "metadata": {},
   "outputs": [
    {
     "data": {
      "text/html": [
       "<div>\n",
       "<style scoped>\n",
       "    .dataframe tbody tr th:only-of-type {\n",
       "        vertical-align: middle;\n",
       "    }\n",
       "\n",
       "    .dataframe tbody tr th {\n",
       "        vertical-align: top;\n",
       "    }\n",
       "\n",
       "    .dataframe thead tr th {\n",
       "        text-align: left;\n",
       "    }\n",
       "</style>\n",
       "<table border=\"1\" class=\"dataframe\">\n",
       "  <thead>\n",
       "    <tr>\n",
       "      <th></th>\n",
       "      <th></th>\n",
       "      <th>iso</th>\n",
       "      <th>pt</th>\n",
       "    </tr>\n",
       "  </thead>\n",
       "  <tbody>\n",
       "    <tr>\n",
       "      <th rowspan=\"3\" valign=\"top\">0</th>\n",
       "      <th>0</th>\n",
       "      <td>0</td>\n",
       "      <td>1.1</td>\n",
       "    </tr>\n",
       "    <tr>\n",
       "      <th>1</th>\n",
       "      <td>0</td>\n",
       "      <td>2.2</td>\n",
       "    </tr>\n",
       "    <tr>\n",
       "      <th>2</th>\n",
       "      <td>100</td>\n",
       "      <td>3.3</td>\n",
       "    </tr>\n",
       "    <tr>\n",
       "      <th rowspan=\"2\" valign=\"top\">2</th>\n",
       "      <th>0</th>\n",
       "      <td>50</td>\n",
       "      <td>4.4</td>\n",
       "    </tr>\n",
       "    <tr>\n",
       "      <th>1</th>\n",
       "      <td>30</td>\n",
       "      <td>5.5</td>\n",
       "    </tr>\n",
       "    <tr>\n",
       "      <th rowspan=\"4\" valign=\"top\">3</th>\n",
       "      <th>0</th>\n",
       "      <td>1</td>\n",
       "      <td>6.6</td>\n",
       "    </tr>\n",
       "    <tr>\n",
       "      <th>1</th>\n",
       "      <td>2</td>\n",
       "      <td>7.7</td>\n",
       "    </tr>\n",
       "    <tr>\n",
       "      <th>2</th>\n",
       "      <td>3</td>\n",
       "      <td>8.8</td>\n",
       "    </tr>\n",
       "    <tr>\n",
       "      <th>3</th>\n",
       "      <td>4</td>\n",
       "      <td>9.9</td>\n",
       "    </tr>\n",
       "  </tbody>\n",
       "</table>\n",
       "</div>"
      ],
      "text/plain": [
       "     iso   pt\n",
       "0 0    0  1.1\n",
       "  1    0  2.2\n",
       "  2  100  3.3\n",
       "2 0   50  4.4\n",
       "  1   30  5.5\n",
       "3 0    1  6.6\n",
       "  1    2  7.7\n",
       "  2    3  8.8\n",
       "  3    4  9.9"
      ]
     },
     "execution_count": 11,
     "metadata": {},
     "output_type": "execute_result"
    }
   ],
   "source": [
    "import awkward\n",
    "awkward.topandas(awkward.fromiter(events)[\"muons\"], flatten=True)"
   ]
  },
  {
   "cell_type": "code",
   "execution_count": 12,
   "metadata": {},
   "outputs": [
    {
     "data": {
      "text/html": [
       "<div>\n",
       "<style scoped>\n",
       "    .dataframe tbody tr th:only-of-type {\n",
       "        vertical-align: middle;\n",
       "    }\n",
       "\n",
       "    .dataframe tbody tr th {\n",
       "        vertical-align: top;\n",
       "    }\n",
       "\n",
       "    .dataframe thead tr th {\n",
       "        text-align: left;\n",
       "    }\n",
       "</style>\n",
       "<table border=\"1\" class=\"dataframe\">\n",
       "  <thead>\n",
       "    <tr>\n",
       "      <th></th>\n",
       "      <th></th>\n",
       "      <th>mass</th>\n",
       "      <th>pt</th>\n",
       "    </tr>\n",
       "  </thead>\n",
       "  <tbody>\n",
       "    <tr>\n",
       "      <th rowspan=\"5\" valign=\"top\">0</th>\n",
       "      <th>0</th>\n",
       "      <td>10</td>\n",
       "      <td>1</td>\n",
       "    </tr>\n",
       "    <tr>\n",
       "      <th>1</th>\n",
       "      <td>10</td>\n",
       "      <td>2</td>\n",
       "    </tr>\n",
       "    <tr>\n",
       "      <th>2</th>\n",
       "      <td>10</td>\n",
       "      <td>3</td>\n",
       "    </tr>\n",
       "    <tr>\n",
       "      <th>3</th>\n",
       "      <td>10</td>\n",
       "      <td>4</td>\n",
       "    </tr>\n",
       "    <tr>\n",
       "      <th>4</th>\n",
       "      <td>10</td>\n",
       "      <td>5</td>\n",
       "    </tr>\n",
       "    <tr>\n",
       "      <th>1</th>\n",
       "      <th>0</th>\n",
       "      <td>5</td>\n",
       "      <td>100</td>\n",
       "    </tr>\n",
       "    <tr>\n",
       "      <th rowspan=\"2\" valign=\"top\">2</th>\n",
       "      <th>0</th>\n",
       "      <td>15</td>\n",
       "      <td>30</td>\n",
       "    </tr>\n",
       "    <tr>\n",
       "      <th>1</th>\n",
       "      <td>15</td>\n",
       "      <td>50</td>\n",
       "    </tr>\n",
       "    <tr>\n",
       "      <th rowspan=\"4\" valign=\"top\">3</th>\n",
       "      <th>0</th>\n",
       "      <td>9</td>\n",
       "      <td>1</td>\n",
       "    </tr>\n",
       "    <tr>\n",
       "      <th>1</th>\n",
       "      <td>8</td>\n",
       "      <td>2</td>\n",
       "    </tr>\n",
       "    <tr>\n",
       "      <th>2</th>\n",
       "      <td>7</td>\n",
       "      <td>3</td>\n",
       "    </tr>\n",
       "    <tr>\n",
       "      <th>3</th>\n",
       "      <td>6</td>\n",
       "      <td>4</td>\n",
       "    </tr>\n",
       "  </tbody>\n",
       "</table>\n",
       "</div>"
      ],
      "text/plain": [
       "    mass   pt\n",
       "0 0   10    1\n",
       "  1   10    2\n",
       "  2   10    3\n",
       "  3   10    4\n",
       "  4   10    5\n",
       "1 0    5  100\n",
       "2 0   15   30\n",
       "  1   15   50\n",
       "3 0    9    1\n",
       "  1    8    2\n",
       "  2    7    3\n",
       "  3    6    4"
      ]
     },
     "execution_count": 12,
     "metadata": {},
     "output_type": "execute_result"
    }
   ],
   "source": [
    "awkward.topandas(awkward.fromiter(events)[\"jets\"], flatten=True)"
   ]
  },
  {
   "cell_type": "code",
   "execution_count": 13,
   "metadata": {},
   "outputs": [
    {
     "data": {
      "text/html": [
       "<div>\n",
       "<style scoped>\n",
       "    .dataframe tbody tr th:only-of-type {\n",
       "        vertical-align: middle;\n",
       "    }\n",
       "\n",
       "    .dataframe tbody tr th {\n",
       "        vertical-align: top;\n",
       "    }\n",
       "\n",
       "    .dataframe thead tr th {\n",
       "        text-align: left;\n",
       "    }\n",
       "</style>\n",
       "<table border=\"1\" class=\"dataframe\">\n",
       "  <thead>\n",
       "    <tr>\n",
       "      <th></th>\n",
       "      <th colspan=\"2\" halign=\"left\">left</th>\n",
       "      <th colspan=\"3\" halign=\"left\">right</th>\n",
       "    </tr>\n",
       "    <tr>\n",
       "      <th></th>\n",
       "      <th>x</th>\n",
       "      <th>y</th>\n",
       "      <th>a</th>\n",
       "      <th>b</th>\n",
       "      <th>c</th>\n",
       "    </tr>\n",
       "    <tr>\n",
       "      <th></th>\n",
       "      <th></th>\n",
       "      <th>z</th>\n",
       "      <th></th>\n",
       "      <th></th>\n",
       "      <th></th>\n",
       "    </tr>\n",
       "  </thead>\n",
       "  <tbody>\n",
       "    <tr>\n",
       "      <th>0</th>\n",
       "      <td>1</td>\n",
       "      <td>1</td>\n",
       "      <td>1</td>\n",
       "      <td>1</td>\n",
       "      <td>1</td>\n",
       "    </tr>\n",
       "    <tr>\n",
       "      <th>1</th>\n",
       "      <td>2</td>\n",
       "      <td>2</td>\n",
       "      <td>2</td>\n",
       "      <td>2</td>\n",
       "      <td>2</td>\n",
       "    </tr>\n",
       "    <tr>\n",
       "      <th>2</th>\n",
       "      <td>3</td>\n",
       "      <td>3</td>\n",
       "      <td>3</td>\n",
       "      <td>3</td>\n",
       "      <td>3</td>\n",
       "    </tr>\n",
       "  </tbody>\n",
       "</table>\n",
       "</div>"
      ],
      "text/plain": [
       "  left    right      \n",
       "     x  y     a  b  c\n",
       "        z            \n",
       "0    1  1     1  1  1\n",
       "1    2  2     2  2  2\n",
       "2    3  3     3  3  3"
      ]
     },
     "execution_count": 13,
     "metadata": {},
     "output_type": "execute_result"
    }
   ],
   "source": [
    "# deeply nested records → nested column keys\n",
    "awkward.topandas(awkward.fromiter([\n",
    "    {\"left\": {\"x\": 1, \"y\": {\"z\": 1}}, \"right\": {\"a\": 1, \"b\": 1, \"c\": 1}}, \n",
    "    {\"left\": {\"x\": 2, \"y\": {\"z\": 2}}, \"right\": {\"a\": 2, \"b\": 2, \"c\": 2}}, \n",
    "    {\"left\": {\"x\": 3, \"y\": {\"z\": 3}}, \"right\": {\"a\": 3, \"b\": 3, \"c\": 3}}\n",
    "]), flatten=True)"
   ]
  },
  {
   "cell_type": "code",
   "execution_count": 14,
   "metadata": {},
   "outputs": [
    {
     "data": {
      "text/html": [
       "<div>\n",
       "<style scoped>\n",
       "    .dataframe tbody tr th:only-of-type {\n",
       "        vertical-align: middle;\n",
       "    }\n",
       "\n",
       "    .dataframe tbody tr th {\n",
       "        vertical-align: top;\n",
       "    }\n",
       "\n",
       "    .dataframe thead tr th {\n",
       "        text-align: left;\n",
       "    }\n",
       "</style>\n",
       "<table border=\"1\" class=\"dataframe\">\n",
       "  <thead>\n",
       "    <tr>\n",
       "      <th></th>\n",
       "      <th></th>\n",
       "      <th></th>\n",
       "      <th>x</th>\n",
       "    </tr>\n",
       "  </thead>\n",
       "  <tbody>\n",
       "    <tr>\n",
       "      <th rowspan=\"5\" valign=\"top\">0</th>\n",
       "      <th rowspan=\"2\" valign=\"top\">0</th>\n",
       "      <th>0</th>\n",
       "      <td>100</td>\n",
       "    </tr>\n",
       "    <tr>\n",
       "      <th>1</th>\n",
       "      <td>100</td>\n",
       "    </tr>\n",
       "    <tr>\n",
       "      <th rowspan=\"3\" valign=\"top\">1</th>\n",
       "      <th>0</th>\n",
       "      <td>100</td>\n",
       "    </tr>\n",
       "    <tr>\n",
       "      <th>1</th>\n",
       "      <td>100</td>\n",
       "    </tr>\n",
       "    <tr>\n",
       "      <th>2</th>\n",
       "      <td>100</td>\n",
       "    </tr>\n",
       "    <tr>\n",
       "      <th rowspan=\"4\" valign=\"top\">2</th>\n",
       "      <th>0</th>\n",
       "      <th>0</th>\n",
       "      <td>300</td>\n",
       "    </tr>\n",
       "    <tr>\n",
       "      <th rowspan=\"2\" valign=\"top\">2</th>\n",
       "      <th>0</th>\n",
       "      <td>300</td>\n",
       "    </tr>\n",
       "    <tr>\n",
       "      <th>1</th>\n",
       "      <td>300</td>\n",
       "    </tr>\n",
       "    <tr>\n",
       "      <th>3</th>\n",
       "      <th>0</th>\n",
       "      <td>300</td>\n",
       "    </tr>\n",
       "  </tbody>\n",
       "</table>\n",
       "</div>"
      ],
      "text/plain": [
       "         x\n",
       "0 0 0  100\n",
       "    1  100\n",
       "  1 0  100\n",
       "    1  100\n",
       "    2  100\n",
       "2 0 0  300\n",
       "  2 0  300\n",
       "    1  300\n",
       "  3 0  300"
      ]
     },
     "execution_count": 14,
     "metadata": {},
     "output_type": "execute_result"
    }
   ],
   "source": [
    "# deeply nested lists → nested row keys\n",
    "awkward.topandas(awkward.fromiter([\n",
    "    [[{\"x\": 100}, {\"x\": 100}], [{\"x\": 100}, {\"x\": 100}, {\"x\": 100}]],\n",
    "    [],\n",
    "    [[{\"x\": 300}], [], [{\"x\": 300}, {\"x\": 300}], [{\"x\": 300}]]\n",
    "]), flatten=True)"
   ]
  },
  {
   "cell_type": "markdown",
   "metadata": {},
   "source": [
    "In Pandas, rows and columns can be assigned with a `MultiIndex`. Whenever Pandas `DataFrames` are merged, rows and columns with matching `MultiIndex` tuples are considered equivalent and matched, even if they are out of order. We will do the same with data in PartiQL, which frees it from list order and possible duplication, acting at the level of sets."
   ]
  },
  {
   "cell_type": "markdown",
   "metadata": {},
   "source": [
    "### Index visibility\n",
    "\n",
    "Since surrogate keys are artificial, there are two schools of thought on their visibility:\n",
    "\n",
    "   * Hall, Owlett, and Todd (1976) describe surrogate keys as an integer field in a table;\n",
    "   * Wieringa and De Jonge (1991) describe them as an internal implementation detail.\n",
    "\n",
    "If surrogate keys are visible, users can express sampling without replacement through an inequality on the surrogate key:\n",
    "\n",
    "```sql\n",
    "... FROM muons m1 JOIN muons m2 ON m1.id < m2.id\n",
    "```\n",
    "\n",
    "If they are not visible, constructs like this have to be provided by the language—they can't be built manually. For PartiQL, I have chosen to hide them as an implementation detail and provide syntactic constructs for sampling without replacement:\n",
    "\n",
    "```\n",
    "muons as (m1, m2)\n",
    "```\n",
    "\n",
    "and sampling with replacement:\n",
    "\n",
    "```\n",
    "muons as m1 cross muons as m2\n",
    "```\n",
    "\n",
    "This puts more separation between *what* a user wants and *how* it is implemented. (Sampling without replacement in SQL could use `m1.id < m2.id`, `m1.id > m2.id`, `(m1 + n) % COUNT(muons) < (m2 + n) % COUNT(muons)`, or `permutation(m1.id) < permutation(m2.id)` for any permutation. Detecting the intent can be hard.)"
   ]
  },
  {
   "cell_type": "markdown",
   "metadata": {},
   "source": [
    "### Order visibility\n",
    "\n",
    "With hidden surrogate indexes, it would also be possible to entirely hide the order of lists. This is theoretically appealing because then the language would truly be a language of sets. Introducing a single function that reveals the order of a list would make it necessary to provide options to control the order in all other operations (such as SQL's `ORDER BY`).\n",
    "\n",
    "For simplicity (and to see how far we can take it), PartiQL does not reveal the order of lists. A \"list\" in awkward-array is a \"set\" in PartiQL. (Order is revealed if we apply awkward-array operations *after* a PartiQL operation, but that's beyond the PartiQL language.)"
   ]
  },
  {
   "cell_type": "markdown",
   "metadata": {},
   "source": [
    "### Joins and index compatibility\n",
    "\n",
    "Many mathematical operations apply to scalars, such as addition, square root, exponentiation, etc. In array programming, they can be applied to all members of two or more arrays if the arrays have the same length (or n-dimensional shape) by lining up the arrays and performing the operation on each scalar element. Awkward-array extends this to arrays of variable-length lists, as long as the lengths in each input are the same when aligned. The same can be applied to sets if they have the same index.\n",
    "\n",
    "Aligning two or more sets is called a \"join\" (\"merge\" in Pandas). The internal representations of the sets might have different list orders, so \"alignment\" for sets includes reordering.\n",
    "\n",
    "What if a user tries to join `muons` and `jets` to add their `pt`? Such an operation should be illegal because we can never guarantee that there's the same number of `muons` and `jets` in each event and there is no natural mapping from one set to the other set. Awkward-array *usually* forbids such an operation because there is *usually* at least one event in a large dataset with a different number of `muons` than `jets`. With indexes, we can *always* forbid such an operation because they have non-overlapping indexes (no keys in common).\n",
    "\n",
    "What if a user tries to join `filteredMuons` or `muonsWithCorrections` to `muons`? Such an operation should be legal and it would often be useful. If there is a different number of `filteredMuons` or `muonsWithCorrections` than `muons`, even in one event, awkward-array cannot combine them. With indexes, we can *always* perform such operations because the filtered or transformed muons carry over their indexes—their identities—through the filtering or transformation.\n",
    "\n",
    "In particular, we can even perform computations in Directed Acyclic Graphs (DAGs) that change the number or order of collections. For example:\n",
    "\n",
    "```python\n",
    "B = f(A)\n",
    "C = g(A)\n",
    "D = h(B, C)\n",
    "```\n",
    "\n",
    "where `f` and `g` might change the number or order of values in `A`, `h` is possible because elements of `B` can be matched to unique elements of `C` (and vice-versa) through the index keys they both inherited from `A` (passed through `f` and `g`).\n",
    "\n",
    "To ensure that `B` and `C` are both transformed versions of the same particles, keys must be compared by reference, not by value. The second muon in the first event has row index `[0, 1]` and the second jet in the first event also has row index `[0, 1]`, but they are not the same key because they don't derive from the same index. We can't disambiguate them on their column indexes, `[\"muons\", \"pt\"]` and `[\"jets\", \"pt\"]`, because we should be able to join different columns, such as `[\"muons\", \"pt\"]` and `[\"muons\", \"iso\"]`. When indexes are created, each index should have a globally unique identifier that gets passed through operations so that we can distinguish, e.g. `#0[0, 1]` from `#1[0, 1]`."
   ]
  },
  {
   "cell_type": "markdown",
   "metadata": {},
   "source": [
    "## Demonstration of awkward indexes\n",
    "\n",
    "The demo code includes a `setindex` method that assigns index keys to all reachable elements in an awkward-array."
   ]
  },
  {
   "cell_type": "code",
   "execution_count": 15,
   "metadata": {},
   "outputs": [],
   "source": [
    "events.setindex()"
   ]
  },
  {
   "cell_type": "code",
   "execution_count": 16,
   "metadata": {},
   "outputs": [
    {
     "data": {
      "text/plain": [
       "<Array [1.1, 2.2, 3.3, 4.4, 5.5, 6.6, 7.7, 8.8, 9.9]>"
      ]
     },
     "execution_count": 16,
     "metadata": {},
     "output_type": "execute_result"
    }
   ],
   "source": [
    "events.contents[\"muons\"].content.contents[\"pt\"]"
   ]
  },
  {
   "cell_type": "code",
   "execution_count": 17,
   "metadata": {},
   "outputs": [
    {
     "data": {
      "text/plain": [
       "RowIndex([(0, 0), (0, 1), (0, 2), (2, 0), (2, 1), (3, 0), (3, 1), (3, 2), (3, 3)], <Ref 1>)"
      ]
     },
     "execution_count": 17,
     "metadata": {},
     "output_type": "execute_result"
    }
   ],
   "source": [
    "events.contents[\"muons\"].content.contents[\"pt\"].row"
   ]
  },
  {
   "cell_type": "markdown",
   "metadata": {},
   "source": [
    "Each primitive array, such as `events.contents[\"muons\"].content.contents[\"pt\"]`, has a `RowIndex` with a `RowKey` for every element and a `Ref` for referential identity.\n",
    "\n",
    "If you reach down to individual elements, you'll see that the `Ref` is attached to each `RowKey`."
   ]
  },
  {
   "cell_type": "code",
   "execution_count": 19,
   "metadata": {},
   "outputs": [
    {
     "data": {
      "text/plain": [
       "RowKey((2, 0), <Ref 1>)"
      ]
     },
     "execution_count": 19,
     "metadata": {},
     "output_type": "execute_result"
    }
   ],
   "source": [
    "events.contents[\"muons\"].content.contents[\"pt\"].row[3]"
   ]
  },
  {
   "cell_type": "markdown",
   "metadata": {},
   "source": [
    "A different primitive array in the same object, for which indexes must be compatible, has the same `Ref`."
   ]
  },
  {
   "cell_type": "code",
   "execution_count": 21,
   "metadata": {},
   "outputs": [
    {
     "data": {
      "text/plain": [
       "RowIndex([(0, 0), (0, 1), (0, 2), (2, 0), (2, 1), (3, 0), (3, 1), (3, 2), (3, 3)], <Ref 1>)"
      ]
     },
     "execution_count": 21,
     "metadata": {},
     "output_type": "execute_result"
    }
   ],
   "source": [
    "events.contents[\"muons\"].content.contents[\"pt\"].row"
   ]
  },
  {
   "cell_type": "code",
   "execution_count": 20,
   "metadata": {},
   "outputs": [
    {
     "data": {
      "text/plain": [
       "RowKey((2, 0), <Ref 1>)"
      ]
     },
     "execution_count": 20,
     "metadata": {},
     "output_type": "execute_result"
    }
   ],
   "source": [
    "events.contents[\"muons\"].content.contents[\"iso\"].row[3]"
   ]
  },
  {
   "cell_type": "markdown",
   "metadata": {},
   "source": [
    "For different objects, like muons and jets, the indexes are incompatible, even if they happened to have the same number of elements per event."
   ]
  },
  {
   "cell_type": "code",
   "execution_count": 35,
   "metadata": {},
   "outputs": [
    {
     "data": {
      "text/plain": [
       "RowIndex([(0, 0), (0, 1), (0, 2), (0, 3), (0, 4), (1, 0), (2, 0), (2, 1), (3, 0), (3, 1), (3, 2), (3, 3)], <Ref 2>)"
      ]
     },
     "execution_count": 35,
     "metadata": {},
     "output_type": "execute_result"
    }
   ],
   "source": [
    "events.contents[\"jets\"].content.contents[\"pt\"].row"
   ]
  },
  {
   "cell_type": "code",
   "execution_count": 36,
   "metadata": {},
   "outputs": [
    {
     "data": {
      "text/plain": [
       "(<Ref 1>, <Ref 2>)"
      ]
     },
     "execution_count": 36,
     "metadata": {},
     "output_type": "execute_result"
    }
   ],
   "source": [
    "events.contents[\"muons\"].content.contents[\"pt\"].row.ref, events.contents[\"jets\"].content.contents[\"pt\"].row.ref"
   ]
  },
  {
   "cell_type": "markdown",
   "metadata": {},
   "source": [
    "There is only one `ColIndex` associated with the whole primitive array because the whole array represents a column.\n",
    "\n",
    "Columns do not need to be compared for referential equality because they are always compatible. (It is assumed that the user would be combining data from different fields of the same objects.)"
   ]
  },
  {
   "cell_type": "code",
   "execution_count": 22,
   "metadata": {},
   "outputs": [
    {
     "data": {
      "text/plain": [
       "ColIndex('muons', 'pt')"
      ]
     },
     "execution_count": 22,
     "metadata": {},
     "output_type": "execute_result"
    }
   ],
   "source": [
    "events.contents[\"muons\"].content.contents[\"pt\"].col"
   ]
  },
  {
   "cell_type": "markdown",
   "metadata": {},
   "source": [
    "In fact, in the whole implementation of PartiQL, column indexes are never needed. They seem to be superflous: a non-toy implementation might not even need such a concept."
   ]
  },
  {
   "cell_type": "markdown",
   "metadata": {},
   "source": [
    "### Unreachable elements\n",
    "\n",
    "Awkward arrays can have unreachable elements—data that are inaccessible because we wish to avoid propagating slices through all layers of the hierarchy, to make multi-step append operations effectively atomic, because TLorentzVectors from ROOT include TObject bytes that aren't relevant for analysis, or any other reason.\n",
    "\n",
    "Here is an example:"
   ]
  },
  {
   "cell_type": "code",
   "execution_count": 23,
   "metadata": {},
   "outputs": [
    {
     "data": {
      "text/plain": [
       "[[1.1, 2.2, 3.3], [], [4.4, 5.5]]"
      ]
     },
     "execution_count": 23,
     "metadata": {},
     "output_type": "execute_result"
    }
   ],
   "source": [
    "example = data.ListArray([3, 999, 0], [6, 999, 2],\n",
    "              data.PrimitiveArray([4.4, 5.5, 12345, 1.1, 2.2, 3.3, 98765]))\n",
    "example.tolist()"
   ]
  },
  {
   "cell_type": "markdown",
   "metadata": {},
   "source": [
    "In this example, not only are the inner list boundaries out of order, but there is no way to reach `12345` or `98765`.\n",
    "\n",
    "These elements do not get indexes."
   ]
  },
  {
   "cell_type": "code",
   "execution_count": 24,
   "metadata": {},
   "outputs": [],
   "source": [
    "example.setindex()"
   ]
  },
  {
   "cell_type": "code",
   "execution_count": 25,
   "metadata": {},
   "outputs": [
    {
     "data": {
      "text/plain": [
       "<Array [4.4, 5.5, 12345, 1.1, 2.2, 3.3, 98765]>"
      ]
     },
     "execution_count": 25,
     "metadata": {},
     "output_type": "execute_result"
    }
   ],
   "source": [
    "example.content"
   ]
  },
  {
   "cell_type": "code",
   "execution_count": 26,
   "metadata": {},
   "outputs": [
    {
     "data": {
      "text/plain": [
       "RowIndex([(2, 0), (2, 1), None, (0, 0), (0, 1), (0, 2), None], <Ref 4>)"
      ]
     },
     "execution_count": 26,
     "metadata": {},
     "output_type": "execute_result"
    }
   ],
   "source": [
    "example.content.row"
   ]
  },
  {
   "cell_type": "markdown",
   "metadata": {},
   "source": [
    "In a non-toy implementation, in which the index is an array, these values may be filled with `-1`. (Reachable indexes are all non-negative.)"
   ]
  },
  {
   "cell_type": "markdown",
   "metadata": {},
   "source": [
    "### Heterogeneous data\n",
    "\n",
    "Although datasets produced by reconstruction are rarely heterogeneous, intermediate steps in PartiQL frequently involve unions. Index keys have a sensible definition for heterogenous types."
   ]
  },
  {
   "cell_type": "code",
   "execution_count": 29,
   "metadata": {},
   "outputs": [],
   "source": [
    "egamma = data.UnionArray([0, 0, 1, 0, 1, 1, 1, 0, 0], [0, 1, 0, 2, 1, 2, 3, 3, 4], [\n",
    "        data.RecordArray({\n",
    "            \"q\": data.PrimitiveArray([1, -1, -1, 1, 1]),\n",
    "            \"pt\": data.PrimitiveArray([10, 20, 30, 40, 50])\n",
    "        }),\n",
    "        data.RecordArray({\n",
    "            \"pt\": data.PrimitiveArray([1.1, 2.2, 3.3, 4.4])\n",
    "        })\n",
    "    ])"
   ]
  },
  {
   "cell_type": "code",
   "execution_count": 34,
   "metadata": {},
   "outputs": [
    {
     "data": {
      "text/plain": [
       "[{'q': 1, 'pt': 10},\n",
       " {'q': -1, 'pt': 20},\n",
       " {'pt': 1.1},\n",
       " {'q': -1, 'pt': 30},\n",
       " {'pt': 2.2},\n",
       " {'pt': 3.3},\n",
       " {'pt': 4.4},\n",
       " {'q': 1, 'pt': 40},\n",
       " {'q': 1, 'pt': 50}]"
      ]
     },
     "execution_count": 34,
     "metadata": {},
     "output_type": "execute_result"
    }
   ],
   "source": [
    "egamma.tolist()"
   ]
  },
  {
   "cell_type": "code",
   "execution_count": 30,
   "metadata": {},
   "outputs": [],
   "source": [
    "egamma.setindex()"
   ]
  },
  {
   "cell_type": "code",
   "execution_count": 32,
   "metadata": {},
   "outputs": [
    {
     "data": {
      "text/plain": [
       "(<Array [10, 20, 30, 40, 50]>, <Array [1.1, 2.2, 3.3, 4.4]>)"
      ]
     },
     "execution_count": 32,
     "metadata": {},
     "output_type": "execute_result"
    }
   ],
   "source": [
    "egamma.contents[0].contents[\"pt\"], egamma.contents[1].contents[\"pt\"]"
   ]
  },
  {
   "cell_type": "code",
   "execution_count": 33,
   "metadata": {},
   "outputs": [
    {
     "data": {
      "text/plain": [
       "(RowIndex([(0,), (1,), (3,), (7,), (8,)], <Ref 6>),\n",
       " RowIndex([(2,), (4,), (5,), (6,)], <Ref 7>))"
      ]
     },
     "execution_count": 33,
     "metadata": {},
     "output_type": "execute_result"
    }
   ],
   "source": [
    "egamma.contents[0].contents[\"pt\"].row, egamma.contents[1].contents[\"pt\"].row"
   ]
  },
  {
   "cell_type": "markdown",
   "metadata": {},
   "source": [
    "Note that the key values for data in different branches of the union are both non-overlapping and have different references. An electron will never be confused with a photon."
   ]
  },
  {
   "cell_type": "markdown",
   "metadata": {},
   "source": [
    "## Intermediate objects\n",
    "\n",
    "Objects at all levels of the tree have indexes, not just leaves."
   ]
  },
  {
   "cell_type": "code",
   "execution_count": 39,
   "metadata": {},
   "outputs": [
    {
     "data": {
      "text/plain": [
       "RowIndex([(0,), (1,), (2,), (3,)], <Ref 0>)"
      ]
     },
     "execution_count": 39,
     "metadata": {},
     "output_type": "execute_result"
    }
   ],
   "source": [
    "events.contents[\"muons\"].row"
   ]
  },
  {
   "cell_type": "code",
   "execution_count": 40,
   "metadata": {},
   "outputs": [
    {
     "data": {
      "text/plain": [
       "RowIndex([(0,), (1,), (2,), (3,), (4,), (5,), (6,), (7,), (8,)], <Ref 5>)"
      ]
     },
     "execution_count": 40,
     "metadata": {},
     "output_type": "execute_result"
    }
   ],
   "source": [
    "egamma.row"
   ]
  },
  {
   "cell_type": "markdown",
   "metadata": {},
   "source": [
    "## Rowwise vs columnar calculations\n",
    "\n",
    "In a non-toy implementation, all operations should be computed on columns because it is more efficient in many ways (fewer branches in the code, less data to swap into CPU cache, and possibly even less data to load from disk). However, it is also more complicated. For simplicity in this toy implementation, the columnar data will be decomposed into rowwise objects with index keys attached."
   ]
  },
  {
   "cell_type": "code",
   "execution_count": 41,
   "metadata": {},
   "outputs": [
    {
     "data": {
      "text/plain": [
       "List{ \n",
       "    Rec#0(0)(){ \n",
       "        muons = List#0(0)('muons'){ \n",
       "            Rec#1(0 0)('muons'){ \n",
       "                pt = Value#1(0 0)('muons' 'pt'){ 1.1 }\n",
       "                iso = Value#1(0 0)('muons' 'iso'){ 0 }\n",
       "            }\n",
       "            Rec#1(0 1)('muons'){ \n",
       "                pt = Value#1(0 1)('muons' 'pt'){ 2.2 }\n",
       "                iso = Value#1(0 1)('muons' 'iso'){ 0 }\n",
       "            }\n",
       "            Rec#1(0 2)('muons'){ \n",
       "                pt = Value#1(0 2)('muons' 'pt'){ 3.3 }\n",
       "                iso = Value#1(0 2)('muons' 'iso'){ 100 }\n",
       "            }\n",
       "        }\n",
       "        jets = List#0(0)('jets'){ \n",
       "            Rec#2(0 0)('jets'){ \n",
       "                pt = Value#2(0 0)('jets' 'pt'){ 1 }\n",
       "                mass = Value#2(0 0)('jets' 'mass'){ 10 }\n",
       "            }\n",
       "            Rec#2(0 1)('jets'){ \n",
       "                pt = Value#2(0 1)('jets' 'pt'){ 2 }\n",
       "                mass = Value#2(0 1)('jets' 'mass'){ 10 }\n",
       "            }\n",
       "            Rec#2(0 2)('jets'){ \n",
       "                pt = Value#2(0 2)('jets' 'pt'){ 3 }\n",
       "                mass = Value#2(0 2)('jets' 'mass'){ 10 }\n",
       "            }\n",
       "            Rec#2(0 3)('jets'){ \n",
       "                pt = Value#2(0 3)('jets' 'pt'){ 4 }\n",
       "                mass = Value#2(0 3)('jets' 'mass'){ 10 }\n",
       "            }\n",
       "            Rec#2(0 4)('jets'){ \n",
       "                pt = Value#2(0 4)('jets' 'pt'){ 5 }\n",
       "                mass = Value#2(0 4)('jets' 'mass'){ 10 }\n",
       "            }\n",
       "        }\n",
       "        met = Value#0(0)('met'){ 100 }\n",
       "    }\n",
       "    Rec#0(1)(){ \n",
       "        muons = List#0(1)('muons'){ \n",
       "        }\n",
       "        jets = List#0(1)('jets'){ \n",
       "            Rec#2(1 0)('jets'){ \n",
       "                pt = Value#2(1 0)('jets' 'pt'){ 100 }\n",
       "                mass = Value#2(1 0)('jets' 'mass'){ 5 }\n",
       "            }\n",
       "        }\n",
       "        met = Value#0(1)('met'){ 200 }\n",
       "    }\n",
       "    Rec#0(2)(){ \n",
       "        muons = List#0(2)('muons'){ \n",
       "            Rec#1(2 0)('muons'){ \n",
       "                pt = Value#1(2 0)('muons' 'pt'){ 4.4 }\n",
       "                iso = Value#1(2 0)('muons' 'iso'){ 50 }\n",
       "            }\n",
       "            Rec#1(2 1)('muons'){ \n",
       "                pt = Value#1(2 1)('muons' 'pt'){ 5.5 }\n",
       "                iso = Value#1(2 1)('muons' 'iso'){ 30 }\n",
       "            }\n",
       "        }\n",
       "        jets = List#0(2)('jets'){ \n",
       "            Rec#2(2 0)('jets'){ \n",
       "                pt = Value#2(2 0)('jets' 'pt'){ 30 }\n",
       "                mass = Value#2(2 0)('jets' 'mass'){ 15 }\n",
       "            }\n",
       "            Rec#2(2 1)('jets'){ \n",
       "                pt = Value#2(2 1)('jets' 'pt'){ 50 }\n",
       "                mass = Value#2(2 1)('jets' 'mass'){ 15 }\n",
       "            }\n",
       "        }\n",
       "        met = Value#0(2)('met'){ 300 }\n",
       "    }\n",
       "    Rec#0(3)(){ \n",
       "        muons = List#0(3)('muons'){ \n",
       "            Rec#1(3 0)('muons'){ \n",
       "                pt = Value#1(3 0)('muons' 'pt'){ 6.6 }\n",
       "                iso = Value#1(3 0)('muons' 'iso'){ 1 }\n",
       "            }\n",
       "            Rec#1(3 1)('muons'){ \n",
       "                pt = Value#1(3 1)('muons' 'pt'){ 7.7 }\n",
       "                iso = Value#1(3 1)('muons' 'iso'){ 2 }\n",
       "            }\n",
       "            Rec#1(3 2)('muons'){ \n",
       "                pt = Value#1(3 2)('muons' 'pt'){ 8.8 }\n",
       "                iso = Value#1(3 2)('muons' 'iso'){ 3 }\n",
       "            }\n",
       "            Rec#1(3 3)('muons'){ \n",
       "                pt = Value#1(3 3)('muons' 'pt'){ 9.9 }\n",
       "                iso = Value#1(3 3)('muons' 'iso'){ 4 }\n",
       "            }\n",
       "        }\n",
       "        jets = List#0(3)('jets'){ \n",
       "            Rec#2(3 0)('jets'){ \n",
       "                pt = Value#2(3 0)('jets' 'pt'){ 1 }\n",
       "                mass = Value#2(3 0)('jets' 'mass'){ 9 }\n",
       "            }\n",
       "            Rec#2(3 1)('jets'){ \n",
       "                pt = Value#2(3 1)('jets' 'pt'){ 2 }\n",
       "                mass = Value#2(3 1)('jets' 'mass'){ 8 }\n",
       "            }\n",
       "            Rec#2(3 2)('jets'){ \n",
       "                pt = Value#2(3 2)('jets' 'pt'){ 3 }\n",
       "                mass = Value#2(3 2)('jets' 'mass'){ 7 }\n",
       "            }\n",
       "            Rec#2(3 3)('jets'){ \n",
       "                pt = Value#2(3 3)('jets' 'pt'){ 4 }\n",
       "                mass = Value#2(3 3)('jets' 'mass'){ 6 }\n",
       "            }\n",
       "        }\n",
       "        met = Value#0(3)('met'){ 400 }\n",
       "    }\n",
       "}"
      ]
     },
     "execution_count": 41,
     "metadata": {},
     "output_type": "execute_result"
    }
   ],
   "source": [
    "data.instantiate(events)"
   ]
  },
  {
   "cell_type": "code",
   "execution_count": 42,
   "metadata": {},
   "outputs": [
    {
     "data": {
      "text/plain": [
       "List{ \n",
       "    Rec#6(0)(){ \n",
       "        q = Value#6(0)('q'){ 1 }\n",
       "        pt = Value#6(0)('pt'){ 10 }\n",
       "    }\n",
       "    Rec#6(1)(){ \n",
       "        q = Value#6(1)('q'){ -1 }\n",
       "        pt = Value#6(1)('pt'){ 20 }\n",
       "    }\n",
       "    Rec#7(2)(){ \n",
       "        pt = Value#7(2)('pt'){ 1.1 }\n",
       "    }\n",
       "    Rec#6(3)(){ \n",
       "        q = Value#6(3)('q'){ -1 }\n",
       "        pt = Value#6(3)('pt'){ 30 }\n",
       "    }\n",
       "    Rec#7(4)(){ \n",
       "        pt = Value#7(4)('pt'){ 2.2 }\n",
       "    }\n",
       "    Rec#7(5)(){ \n",
       "        pt = Value#7(5)('pt'){ 3.3 }\n",
       "    }\n",
       "    Rec#7(6)(){ \n",
       "        pt = Value#7(6)('pt'){ 4.4 }\n",
       "    }\n",
       "    Rec#6(7)(){ \n",
       "        q = Value#6(7)('q'){ 1 }\n",
       "        pt = Value#6(7)('pt'){ 40 }\n",
       "    }\n",
       "    Rec#6(8)(){ \n",
       "        q = Value#6(8)('q'){ 1 }\n",
       "        pt = Value#6(8)('pt'){ 50 }\n",
       "    }\n",
       "}"
      ]
     },
     "execution_count": 42,
     "metadata": {},
     "output_type": "execute_result"
    }
   ],
   "source": [
    "data.instantiate(egamma)"
   ]
  },
  {
   "cell_type": "markdown",
   "metadata": {},
   "source": [
    "It should be clear, however, that all operations implemented on rowwise objects can be translated to columnar data for faster processing."
   ]
  },
  {
   "cell_type": "markdown",
   "metadata": {},
   "source": [
    "# Implications for awkward 1.0\n",
    "\n",
    "Awkward-array will soon be rewritten for a variety of reasons, and that gives us opportunity to revisit fundamental questions. Knowing now what is required for set operations—a `d×N` matrix of integers where `d` is the depth and `N` is the length of an internal array, with no need for a column index—awkward 1.0 can be written to accomodate for this data structure. In fact, if an index is present, it can be passed through the array programming interface, to ensure that array programming and declarative set operations can be interleaved."
   ]
  }
 ],
 "metadata": {
  "kernelspec": {
   "display_name": "Python 3",
   "language": "python",
   "name": "python3"
  },
  "language_info": {
   "codemirror_mode": {
    "name": "ipython",
    "version": 3
   },
   "file_extension": ".py",
   "mimetype": "text/x-python",
   "name": "python",
   "nbconvert_exporter": "python",
   "pygments_lexer": "ipython3",
   "version": "3.7.3"
  }
 },
 "nbformat": 4,
 "nbformat_minor": 4
}
