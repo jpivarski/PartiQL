{
 "cells": [
  {
   "cell_type": "markdown",
   "metadata": {},
   "source": [
    "# Data model\n",
    "\n",
    "Only a minimal set of data types are needed for analysis (or *high-level* programming in general). Numbers, booleans, and fixed-size (rectangular) arrays of numbers and booleans are sufficient for data analysis in most fields of study. Particle physicists demonstrably need variable-length lists of numbers and booleans as well: interest in awkward-array has overwhelmingly focused on the `JaggedArray` class, which only provides this capability.\n",
    "\n",
    "For more complete data types, such as the intuitive notion of a \"particle object,\" some sort of record type is needed as well. For the set operations common in PartiQL, we need heterogeneous lists, which can be expressed by a union type.\n",
    "\n",
    "These four type generators (\"PLUR\") provide a system of surprising generality.\n",
    "\n",
    "   * **P**rimitive integers, floating-point numbers, booleans, and any fixed byte-width value,\n",
    "   * **L**ists of variable length but homogeneous type,\n",
    "   * **U**nions of heterogeneous types, such as \"electrons and muons\" (with different fields in each), and\n",
    "   * **R**ecords of named fields with potentially different types.\n",
    "\n",
    "For instance, JSON (with a schema) is a PLUR system, in which numbers, boolean, and `null` are the primitives. Protobuf, Avro, Thrift, Parquet, and Arrow are statically typed PLUR systems. Unions and records are the sum types and product types of [algebraic type theory](https://en.wikipedia.org/wiki/Algebraic_data_type). Only one thing might be missing in physics analysis:\n",
    "\n",
    "   * **P**ointers between objects,\n",
    "\n",
    "expanding this to a PLURP system. Awkward-array is PLURP with features beyond representing types."
   ]
  },
  {
   "cell_type": "markdown",
   "metadata": {},
   "source": [
    "## Mini-awkward-array\n",
    "\n",
    "Rather than using awkward-array in this demo, I reimplemented a simple version of it, to make the relationships clear.\n",
    "\n",
    "This implementation has only four classes: `PrimitiveArray`, `ListArray`, `UnionArray`, and `RecordArray`. As in awkward-array, the data are stored in columns but may be thought of as nested objects. The `tolist` method produces nested objects."
   ]
  },
  {
   "cell_type": "code",
   "execution_count": 2,
   "metadata": {},
   "outputs": [
    {
     "data": {
      "text/plain": [
       "[{'muons': [{'pt': 1.1, 'iso': 0},\n",
       "   {'pt': 2.2, 'iso': 0},\n",
       "   {'pt': 3.3, 'iso': 100}],\n",
       "  'jets': [{'pt': 1, 'mass': 10},\n",
       "   {'pt': 2, 'mass': 10},\n",
       "   {'pt': 3, 'mass': 10},\n",
       "   {'pt': 4, 'mass': 10},\n",
       "   {'pt': 5, 'mass': 10}],\n",
       "  'met': 100},\n",
       " {'muons': [], 'jets': [{'pt': 100, 'mass': 5}], 'met': 200},\n",
       " {'muons': [{'pt': 4.4, 'iso': 50}, {'pt': 5.5, 'iso': 30}],\n",
       "  'jets': [{'pt': 30, 'mass': 15}, {'pt': 50, 'mass': 15}],\n",
       "  'met': 300},\n",
       " {'muons': [{'pt': 6.6, 'iso': 1},\n",
       "   {'pt': 7.7, 'iso': 2},\n",
       "   {'pt': 8.8, 'iso': 3},\n",
       "   {'pt': 9.9, 'iso': 4}],\n",
       "  'jets': [{'pt': 1, 'mass': 9},\n",
       "   {'pt': 2, 'mass': 8},\n",
       "   {'pt': 3, 'mass': 7},\n",
       "   {'pt': 4, 'mass': 6}],\n",
       "  'met': 400}]"
      ]
     },
     "execution_count": 2,
     "metadata": {},
     "output_type": "execute_result"
    }
   ],
   "source": [
    "import data\n",
    "\n",
    "events = data.RecordArray({\n",
    "        \"muons\": data.ListArray([0, 3, 3, 5], [3, 3, 5, 9], data.RecordArray({\n",
    "            \"pt\": data.PrimitiveArray([1.1, 2.2, 3.3, 4.4, 5.5, 6.6, 7.7, 8.8, 9.9]),\n",
    "            \"iso\": data.PrimitiveArray([0, 0, 100, 50, 30, 1, 2, 3, 4])\n",
    "    })),\n",
    "        \"jets\": data.ListArray([0, 5, 6, 8], [5, 6, 8, 12], data.RecordArray({\n",
    "            \"pt\": data.PrimitiveArray([1, 2, 3, 4, 5, 100, 30, 50, 1, 2, 3, 4]),\n",
    "            \"mass\": data.PrimitiveArray([10, 10, 10, 10, 10, 5, 15, 15, 9, 8, 7, 6])\n",
    "        })),\n",
    "        \"met\": data.PrimitiveArray([100, 200, 300, 400])\n",
    "    })\n",
    "\n",
    "events.tolist()"
   ]
  },
  {
   "cell_type": "markdown",
   "metadata": {},
   "source": [
    "## Indexes and keys\n",
    "\n",
    "The key concept that an SQL-like query language would add to awkward-array is indexing—giving each field a unique identifier.\n",
    "\n",
    "...\n",
    "\n",
    "   * as arrays (awkward-array)\n",
    "   * as objects (Numba)\n",
    "   * as relations (PartiQL)\n"
   ]
  }
 ],
 "metadata": {
  "kernelspec": {
   "display_name": "Python 3",
   "language": "python",
   "name": "python3"
  },
  "language_info": {
   "codemirror_mode": {
    "name": "ipython",
    "version": 3
   },
   "file_extension": ".py",
   "mimetype": "text/x-python",
   "name": "python",
   "nbconvert_exporter": "python",
   "pygments_lexer": "ipython3",
   "version": "3.7.3"
  }
 },
 "nbformat": 4,
 "nbformat_minor": 4
}
