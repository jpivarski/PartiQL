{
 "cells": [
  {
   "cell_type": "markdown",
   "metadata": {},
   "source": [
    "# Execution\n",
    "\n",
    "This notebook explains how PartiQL executes, with some discussion of its implementation."
   ]
  },
  {
   "cell_type": "markdown",
   "metadata": {},
   "source": [
    "## Data model\n",
    "\n",
    "As discussed in [02-data-model.ipynb](02-data-model.ipynb), the only allowed types are PLURP (PLUR in this demo). In a rowwise, dynamically typed interpreter, this means there are only values, records, and lists. Since PartiQL is list order-independent and merges items with the same key, the lists are really sets, though the word \"list\" appears in the implementation and error messages.\n",
    "\n",
    "Every value entering or exiting the PartiQL interpreter is a `data.Instance`, even simple numbers."
   ]
  },
  {
   "cell_type": "code",
   "execution_count": 1,
   "metadata": {},
   "outputs": [
    {
     "data": {
      "text/plain": [
       "[{'x': 0.1,\n",
       "  'y': 1000,\n",
       "  'table1': [{'a': 1.1, 'b': 100}, {'a': 2.2, 'b': 200}, {'a': 3.3, 'b': 300}],\n",
       "  'table2': [{'b': True, 'c': 10}, {'b': False, 'c': 20}],\n",
       "  'stuff': [1, 2, 3]},\n",
       " {'x': 0.2,\n",
       "  'y': 2000,\n",
       "  'table1': [],\n",
       "  'table2': [{'b': True, 'c': 100}],\n",
       "  'stuff': []},\n",
       " {'x': 0.3,\n",
       "  'y': 3000,\n",
       "  'table1': [{'a': 4.4, 'b': 400}, {'a': 5.5, 'b': 500}],\n",
       "  'table2': [{'b': False, 'c': 1},\n",
       "   {'b': False, 'c': 2},\n",
       "   {'b': True, 'c': 3},\n",
       "   {'b': True, 'c': 4},\n",
       "   {'b': True, 'c': 5}],\n",
       "  'stuff': [4, 5]}]"
      ]
     },
     "execution_count": 1,
     "metadata": {},
     "output_type": "execute_result"
    }
   ],
   "source": [
    "import data\n",
    "\n",
    "arrays = data.RecordArray({\n",
    "    \"x\": data.PrimitiveArray([0.1, 0.2, 0.3]),\n",
    "    \"y\": data.PrimitiveArray([1000, 2000, 3000]),\n",
    "    \"table1\": data.ListArray([0, 3, 3], [3, 3, 5], data.RecordArray({\n",
    "            \"a\": data.PrimitiveArray([1.1, 2.2, 3.3, 4.4, 5.5]),\n",
    "            \"b\": data.PrimitiveArray([100, 200, 300, 400, 500])\n",
    "        })\n",
    "    ),\n",
    "    \"table2\": data.ListArray([0, 2, 3], [2, 3, 8], data.RecordArray({\n",
    "            \"b\": data.PrimitiveArray([True, False, True, False, False, True, True, True]),\n",
    "            \"c\": data.PrimitiveArray([10, 20, 100, 1, 2, 3, 4, 5])\n",
    "        })\n",
    "    ),\n",
    "    \"stuff\": data.ListArray([0, 3, 3], [3, 3, 5], data.PrimitiveArray([1, 2, 3, 4, 5]))\n",
    "})\n",
    "\n",
    "arrays.tolist()"
   ]
  },
  {
   "cell_type": "code",
   "execution_count": 2,
   "metadata": {},
   "outputs": [
    {
     "data": {
      "text/plain": [
       "List{ \n",
       "    Rec#0(0){ \n",
       "        x = Value#0(0){ 0.1 }\n",
       "        y = Value#0(0){ 1000 }\n",
       "        table1 = List#0(0){ \n",
       "            Rec#1(0 0){ \n",
       "                a = Value#1(0 0){ 1.1 }\n",
       "                b = Value#1(0 0){ 100 }\n",
       "            }\n",
       "            Rec#1(0 1){ \n",
       "                a = Value#1(0 1){ 2.2 }\n",
       "                b = Value#1(0 1){ 200 }\n",
       "            }\n",
       "            Rec#1(0 2){ \n",
       "                a = Value#1(0 2){ 3.3 }\n",
       "                b = Value#1(0 2){ 300 }\n",
       "            }\n",
       "        }\n",
       "        table2 = List#0(0){ \n",
       "            Rec#2(0 0){ \n",
       "                b = Value#2(0 0){ True }\n",
       "                c = Value#2(0 0){ 10 }\n",
       "            }\n",
       "            Rec#2(0 1){ \n",
       "                b = Value#2(0 1){ False }\n",
       "                c = Value#2(0 1){ 20 }\n",
       "            }\n",
       "        }\n",
       "        stuff = List#0(0){ \n",
       "            Value#3(0 0){ 1 }\n",
       "            Value#3(0 1){ 2 }\n",
       "            Value#3(0 2){ 3 }\n",
       "        }\n",
       "    }\n",
       "    Rec#0(1){ \n",
       "        x = Value#0(1){ 0.2 }\n",
       "        y = Value#0(1){ 2000 }\n",
       "        table1 = List#0(1){ \n",
       "        }\n",
       "        table2 = List#0(1){ \n",
       "            Rec#2(1 0){ \n",
       "                b = Value#2(1 0){ True }\n",
       "                c = Value#2(1 0){ 100 }\n",
       "            }\n",
       "        }\n",
       "        stuff = List#0(1){ \n",
       "        }\n",
       "    }\n",
       "    Rec#0(2){ \n",
       "        x = Value#0(2){ 0.3 }\n",
       "        y = Value#0(2){ 3000 }\n",
       "        table1 = List#0(2){ \n",
       "            Rec#1(2 0){ \n",
       "                a = Value#1(2 0){ 4.4 }\n",
       "                b = Value#1(2 0){ 400 }\n",
       "            }\n",
       "            Rec#1(2 1){ \n",
       "                a = Value#1(2 1){ 5.5 }\n",
       "                b = Value#1(2 1){ 500 }\n",
       "            }\n",
       "        }\n",
       "        table2 = List#0(2){ \n",
       "            Rec#2(2 0){ \n",
       "                b = Value#2(2 0){ False }\n",
       "                c = Value#2(2 0){ 1 }\n",
       "            }\n",
       "            Rec#2(2 1){ \n",
       "                b = Value#2(2 1){ False }\n",
       "                c = Value#2(2 1){ 2 }\n",
       "            }\n",
       "            Rec#2(2 2){ \n",
       "                b = Value#2(2 2){ True }\n",
       "                c = Value#2(2 2){ 3 }\n",
       "            }\n",
       "            Rec#2(2 3){ \n",
       "                b = Value#2(2 3){ True }\n",
       "                c = Value#2(2 3){ 4 }\n",
       "            }\n",
       "            Rec#2(2 4){ \n",
       "                b = Value#2(2 4){ True }\n",
       "                c = Value#2(2 4){ 5 }\n",
       "            }\n",
       "        }\n",
       "        stuff = List#0(2){ \n",
       "            Value#3(2 0){ 4 }\n",
       "            Value#3(2 1){ 5 }\n",
       "        }\n",
       "    }\n",
       "}"
      ]
     },
     "execution_count": 2,
     "metadata": {},
     "output_type": "execute_result"
    }
   ],
   "source": [
    "arrays.setindex()\n",
    "\n",
    "instances = data.instantiate(arrays)\n",
    "instances"
   ]
  },
  {
   "cell_type": "markdown",
   "metadata": {},
   "source": [
    "## Inputs and outputs\n",
    "\n",
    "Next, we'll run a few simple examples to show what the runtime engine requires and produces.\n",
    "\n",
    "If you have not already done so, install the [Lark parser](https://github.com/lark-parser/lark#readme) and Matplotlib."
   ]
  },
  {
   "cell_type": "code",
   "execution_count": 6,
   "metadata": {},
   "outputs": [
    {
     "name": "stdout",
     "output_type": "stream",
     "text": [
      "Requirement already satisfied: lark-parser in /home/jpivarski/miniconda3/lib/python3.7/site-packages (0.7.1)\n",
      "Requirement already satisfied: matplotlib in /home/jpivarski/miniconda3/lib/python3.7/site-packages (3.1.1)\n",
      "Requirement already satisfied: cycler>=0.10 in /home/jpivarski/miniconda3/lib/python3.7/site-packages (from matplotlib) (0.10.0)\n",
      "Requirement already satisfied: pyparsing!=2.0.4,!=2.1.2,!=2.1.6,>=2.0.1 in /home/jpivarski/miniconda3/lib/python3.7/site-packages (from matplotlib) (2.4.0)\n",
      "Requirement already satisfied: python-dateutil>=2.1 in /home/jpivarski/miniconda3/lib/python3.7/site-packages (from matplotlib) (2.8.0)\n",
      "Requirement already satisfied: numpy>=1.11 in /home/jpivarski/miniconda3/lib/python3.7/site-packages (from matplotlib) (1.16.4)\n",
      "Requirement already satisfied: kiwisolver>=1.0.1 in /home/jpivarski/miniconda3/lib/python3.7/site-packages (from matplotlib) (1.1.0)\n",
      "Requirement already satisfied: six in /home/jpivarski/miniconda3/lib/python3.7/site-packages (from cycler>=0.10->matplotlib) (1.12.0)\n",
      "Requirement already satisfied: setuptools in /home/jpivarski/miniconda3/lib/python3.7/site-packages (from kiwisolver>=1.0.1->matplotlib) (41.0.1)\n"
     ]
    }
   ],
   "source": [
    "!pip install lark-parser matplotlib"
   ]
  },
  {
   "cell_type": "code",
   "execution_count": 3,
   "metadata": {},
   "outputs": [],
   "source": [
    "import interpreter"
   ]
  },
  {
   "cell_type": "markdown",
   "metadata": {},
   "source": [
    "The interpreter takes a source string and a `data.ListInstance` of `data.RecordInstances` as input.\n",
    "\n",
    "It returns any newly assigned variables (as a `data.ListInstance` of `data.RecordInstances`) and the hierarchy of counters, which may be a single counter (total number of events) or a directory of histograms."
   ]
  },
  {
   "cell_type": "code",
   "execution_count": 4,
   "metadata": {},
   "outputs": [],
   "source": [
    "output, counter = interpreter.run(r\"\"\"\n",
    "\n",
    "z = x + 1\n",
    "\n",
    "hist z by regular(100, 1, 1.5) named \"h\"\n",
    "\n",
    "\"\"\", instances)"
   ]
  },
  {
   "cell_type": "code",
   "execution_count": 5,
   "metadata": {},
   "outputs": [
    {
     "data": {
      "text/plain": [
       "List{ \n",
       "    Rec#0(0){ \n",
       "        z = Value#0(0){ 1.1 }\n",
       "    }\n",
       "    Rec#0(1){ \n",
       "        z = Value#0(1){ 1.2 }\n",
       "    }\n",
       "    Rec#0(2){ \n",
       "        z = Value#0(2){ 1.3 }\n",
       "    }\n",
       "}"
      ]
     },
     "execution_count": 5,
     "metadata": {},
     "output_type": "execute_result"
    }
   ],
   "source": [
    "output"
   ]
  },
  {
   "cell_type": "code",
   "execution_count": 6,
   "metadata": {},
   "outputs": [
    {
     "data": {
      "text/plain": [
       "['h']"
      ]
     },
     "execution_count": 6,
     "metadata": {},
     "output_type": "execute_result"
    }
   ],
   "source": [
    "counter.allkeys()"
   ]
  },
  {
   "cell_type": "code",
   "execution_count": 7,
   "metadata": {},
   "outputs": [
    {
     "data": {
      "image/png": "[encoded data removed]",
      "text/plain": [
       "<Figure size 432x288 with 1 Axes>"
      ]
     },
     "metadata": {
      "needs_background": "light"
     },
     "output_type": "display_data"
    }
   ],
   "source": [
    "counter[\"h\"].mpl()"
   ]
  },
  {
   "cell_type": "markdown",
   "metadata": {},
   "source": [
    "Variables assigned in nested blocks will *not* be returned, but histograms defined in these blocks will."
   ]
  },
  {
   "cell_type": "code",
   "execution_count": 8,
   "metadata": {},
   "outputs": [],
   "source": [
    "output, counter = interpreter.run(r\"\"\"\n",
    "\n",
    "table1 with {\n",
    "    z = a + 1\n",
    "    hist z by regular(100, 0, 10) named \"h\"\n",
    "}\n",
    "\n",
    "\"\"\", instances)"
   ]
  },
  {
   "cell_type": "code",
   "execution_count": 9,
   "metadata": {},
   "outputs": [
    {
     "data": {
      "text/plain": [
       "List{ \n",
       "}"
      ]
     },
     "execution_count": 9,
     "metadata": {},
     "output_type": "execute_result"
    }
   ],
   "source": [
    "output"
   ]
  },
  {
   "cell_type": "code",
   "execution_count": 10,
   "metadata": {},
   "outputs": [
    {
     "data": {
      "image/png": "[encoded data removed]",
      "text/plain": [
       "<Figure size 432x288 with 1 Axes>"
      ]
     },
     "metadata": {
      "needs_background": "light"
     },
     "output_type": "display_data"
    }
   ],
   "source": [
    "counter[\"h\"].mpl()"
   ]
  },
  {
   "cell_type": "markdown",
   "metadata": {},
   "source": [
    "To get nested quantities as output, be sure to assign them to a top-level variable."
   ]
  },
  {
   "cell_type": "code",
   "execution_count": 11,
   "metadata": {},
   "outputs": [],
   "source": [
    "output, counter = interpreter.run(r\"\"\"\n",
    "\n",
    "top = table1 with {\n",
    "    z = a + 1\n",
    "    hist z by regular(100, 0, 10) named \"h\"\n",
    "}\n",
    "\n",
    "\"\"\", instances)"
   ]
  },
  {
   "cell_type": "code",
   "execution_count": 12,
   "metadata": {},
   "outputs": [
    {
     "data": {
      "text/plain": [
       "List{ \n",
       "    Rec#0(0){ \n",
       "        top = List#0(0){ \n",
       "            Rec#1(0 0){ \n",
       "                a = Value#1(0 0){ 1.1 }\n",
       "                b = Value#1(0 0){ 100 }\n",
       "                z = Value#1(0 0){ 2.1 }\n",
       "            }\n",
       "            Rec#1(0 1){ \n",
       "                a = Value#1(0 1){ 2.2 }\n",
       "                b = Value#1(0 1){ 200 }\n",
       "                z = Value#1(0 1){ 3.2 }\n",
       "            }\n",
       "            Rec#1(0 2){ \n",
       "                a = Value#1(0 2){ 3.3 }\n",
       "                b = Value#1(0 2){ 300 }\n",
       "                z = Value#1(0 2){ 4.3 }\n",
       "            }\n",
       "        }\n",
       "    }\n",
       "    Rec#0(1){ \n",
       "        top = List#0(1){ \n",
       "        }\n",
       "    }\n",
       "    Rec#0(2){ \n",
       "        top = List#0(2){ \n",
       "            Rec#1(2 0){ \n",
       "                a = Value#1(2 0){ 4.4 }\n",
       "                b = Value#1(2 0){ 400 }\n",
       "                z = Value#1(2 0){ 5.4 }\n",
       "            }\n",
       "            Rec#1(2 1){ \n",
       "                a = Value#1(2 1){ 5.5 }\n",
       "                b = Value#1(2 1){ 500 }\n",
       "                z = Value#1(2 1){ 6.5 }\n",
       "            }\n",
       "        }\n",
       "    }\n",
       "}"
      ]
     },
     "execution_count": 12,
     "metadata": {},
     "output_type": "execute_result"
    }
   ],
   "source": [
    "output"
   ]
  },
  {
   "cell_type": "markdown",
   "metadata": {},
   "source": [
    "Variables assigned at the top-level of the source are a functional return value, but histograms and counters are a side-effect.\n",
    "\n",
    "Histograms nested in a `cut` or `vary` are nested in their counters."
   ]
  },
  {
   "cell_type": "code",
   "execution_count": 13,
   "metadata": {},
   "outputs": [],
   "source": [
    "output, counter = interpreter.run(r\"\"\"\n",
    "cut x > 0.1 named \"c\" {\n",
    "    table2 with {\n",
    "        hist c by regular(100, 0, 10) named \"h\"\n",
    "    }\n",
    "}\n",
    "\"\"\", instances)"
   ]
  },
  {
   "cell_type": "code",
   "execution_count": 14,
   "metadata": {},
   "outputs": [
    {
     "data": {
      "text/plain": [
       "['c', 'c/h']"
      ]
     },
     "execution_count": 14,
     "metadata": {},
     "output_type": "execute_result"
    }
   ],
   "source": [
    "counter.allkeys()"
   ]
  },
  {
   "cell_type": "code",
   "execution_count": 15,
   "metadata": {},
   "outputs": [
    {
     "data": {
      "text/plain": [
       "<DirectoryCounter 2 (2.0 +- 1.4142135623730951)>"
      ]
     },
     "execution_count": 15,
     "metadata": {},
     "output_type": "execute_result"
    }
   ],
   "source": [
    "counter[\"c\"]"
   ]
  },
  {
   "cell_type": "code",
   "execution_count": 16,
   "metadata": {},
   "outputs": [
    {
     "data": {
      "image/png": "[encoded data removed]",
      "text/plain": [
       "<Figure size 432x288 with 1 Axes>"
      ]
     },
     "metadata": {
      "needs_background": "light"
     },
     "output_type": "display_data"
    }
   ],
   "source": [
    "counter[\"c/h\"].mpl()"
   ]
  },
  {
   "cell_type": "markdown",
   "metadata": {},
   "source": [
    "## Scalar expressions"
   ]
  },
  {
   "cell_type": "markdown",
   "metadata": {},
   "source": [
    "Trivial assignment is one way to pass on values from intput to output."
   ]
  },
  {
   "cell_type": "code",
   "execution_count": 17,
   "metadata": {},
   "outputs": [
    {
     "data": {
      "text/plain": [
       "List{ \n",
       "    Rec#0(0){ \n",
       "        x = Value#0(0){ 0.1 }\n",
       "    }\n",
       "    Rec#0(1){ \n",
       "        x = Value#0(1){ 0.2 }\n",
       "    }\n",
       "    Rec#0(2){ \n",
       "        x = Value#0(2){ 0.3 }\n",
       "    }\n",
       "}"
      ]
     },
     "execution_count": 17,
     "metadata": {},
     "output_type": "execute_result"
    }
   ],
   "source": [
    "output, counter = interpreter.run(r\"\"\"\n",
    "\n",
    "x = x\n",
    "\n",
    "\"\"\", instances); output"
   ]
  },
  {
   "cell_type": "markdown",
   "metadata": {},
   "source": [
    "Missing values are handled as unions of records with a field with records without that field. They're only passed through an expression if safe navigation operators (`?`) are used (or explicit checks for `has`)."
   ]
  },
  {
   "cell_type": "code",
   "execution_count": 18,
   "metadata": {},
   "outputs": [
    {
     "data": {
      "text/plain": [
       "List{ \n",
       "    Rec#0(0){ \n",
       "        b = Value{ 200 }\n",
       "        d = Value{ 200 }\n",
       "    }\n",
       "    Rec#0(1){ \n",
       "        a = Value{ 100 }\n",
       "        b = Value{ 100 }\n",
       "        c = Value{ 100 }\n",
       "        d = Value{ 100 }\n",
       "    }\n",
       "    Rec#0(2){ \n",
       "        a = Value{ 100 }\n",
       "        b = Value{ 100 }\n",
       "        c = Value{ 100 }\n",
       "        d = Value{ 100 }\n",
       "    }\n",
       "}"
      ]
     },
     "execution_count": 18,
     "metadata": {},
     "output_type": "execute_result"
    }
   ],
   "source": [
    "output, counter = interpreter.run(r\"\"\"\n",
    "\n",
    "a = if x > 0.1 then 100\n",
    "\n",
    "b = if x > 0.1 then 100 else 200\n",
    "\n",
    "c = ?a\n",
    "\n",
    "d = if has a then 100 else 200\n",
    "\n",
    "\"\"\", instances); output"
   ]
  },
  {
   "cell_type": "markdown",
   "metadata": {},
   "source": [
    "Temporary variables don't appear if they're in a curly-brackets scope."
   ]
  },
  {
   "cell_type": "code",
   "execution_count": 19,
   "metadata": {},
   "outputs": [
    {
     "data": {
      "text/plain": [
       "List{ \n",
       "    Rec#0(0){ \n",
       "        a = Value#0(0){ 100.0 }\n",
       "    }\n",
       "    Rec#0(1){ \n",
       "        a = Value#0(1){ 400.0 }\n",
       "    }\n",
       "    Rec#0(2){ \n",
       "        a = Value#0(2){ 900.0 }\n",
       "    }\n",
       "}"
      ]
     },
     "execution_count": 19,
     "metadata": {},
     "output_type": "execute_result"
    }
   ],
   "source": [
    "output, counter = interpreter.run(r\"\"\"\n",
    "\n",
    "a = {\n",
    "    tmp1 = x + 1\n",
    "    tmp2 = x * 100\n",
    "    tmp2**2\n",
    "}\n",
    "\n",
    "\"\"\", instances); output"
   ]
  },
  {
   "cell_type": "markdown",
   "metadata": {},
   "source": [
    "## Set operations"
   ]
  },
  {
   "cell_type": "markdown",
   "metadata": {},
   "source": [
    "The `as` operator turns any set into a set of records nested within a single field.\n",
    "\n",
    "In the example below, `out1` does not have a record structure, but `out2` does—the same data is packed in a field named `nested`."
   ]
  },
  {
   "cell_type": "code",
   "execution_count": 20,
   "metadata": {},
   "outputs": [
    {
     "data": {
      "text/plain": [
       "List{ \n",
       "    Rec#0(0){ \n",
       "        out1 = List#0(0){ \n",
       "            Value#3(0 0){ 1 }\n",
       "            Value#3(0 1){ 2 }\n",
       "            Value#3(0 2){ 3 }\n",
       "        }\n",
       "        out2 = List#0(0){ \n",
       "            Rec#3(0 0){ \n",
       "                nested = Value#3(0 0){ 1 }\n",
       "            }\n",
       "            Rec#3(0 1){ \n",
       "                nested = Value#3(0 1){ 2 }\n",
       "            }\n",
       "            Rec#3(0 2){ \n",
       "                nested = Value#3(0 2){ 3 }\n",
       "            }\n",
       "        }\n",
       "    }\n",
       "    Rec#0(1){ \n",
       "        out1 = List#0(1){ \n",
       "        }\n",
       "        out2 = List#0(1){ \n",
       "        }\n",
       "    }\n",
       "    Rec#0(2){ \n",
       "        out1 = List#0(2){ \n",
       "            Value#3(2 0){ 4 }\n",
       "            Value#3(2 1){ 5 }\n",
       "        }\n",
       "        out2 = List#0(2){ \n",
       "            Rec#3(2 0){ \n",
       "                nested = Value#3(2 0){ 4 }\n",
       "            }\n",
       "            Rec#3(2 1){ \n",
       "                nested = Value#3(2 1){ 5 }\n",
       "            }\n",
       "        }\n",
       "    }\n",
       "}"
      ]
     },
     "execution_count": 20,
     "metadata": {},
     "output_type": "execute_result"
    }
   ],
   "source": [
    "output, counter = interpreter.run(r\"\"\"\n",
    "\n",
    "out1 = stuff\n",
    "out2 = stuff as nested\n",
    "\n",
    "\"\"\", instances); output"
   ]
  },
  {
   "cell_type": "markdown",
   "metadata": {},
   "source": [
    "It is also a special case of sampling without replacement.\n",
    "\n",
    "Below, we see that each record has an `x` and a `y` field, and these are unique pairs of the original data, per-event: `(1, 2)`, `(1, 3)`, `(2, 3)` in the first event and only `(4, 5)` in the third event. (The second event is empty.)"
   ]
  },
  {
   "cell_type": "code",
   "execution_count": 21,
   "metadata": {},
   "outputs": [
    {
     "data": {
      "text/plain": [
       "List{ \n",
       "    Rec#0(0){ \n",
       "        out = List#0(0){ \n",
       "            Rec#3*#3(0 0){ \n",
       "                x = Value#3(0 0){ 1 }\n",
       "                y = Value#3(0 1){ 2 }\n",
       "            }\n",
       "            Rec#3*#3(0 1){ \n",
       "                x = Value#3(0 0){ 1 }\n",
       "                y = Value#3(0 2){ 3 }\n",
       "            }\n",
       "            Rec#3*#3(0 2){ \n",
       "                x = Value#3(0 1){ 2 }\n",
       "                y = Value#3(0 2){ 3 }\n",
       "            }\n",
       "        }\n",
       "    }\n",
       "    Rec#0(1){ \n",
       "        out = List#0(1){ \n",
       "        }\n",
       "    }\n",
       "    Rec#0(2){ \n",
       "        out = List#0(2){ \n",
       "            Rec#3*#3(2 0){ \n",
       "                x = Value#3(2 0){ 4 }\n",
       "                y = Value#3(2 1){ 5 }\n",
       "            }\n",
       "        }\n",
       "    }\n",
       "}"
      ]
     },
     "execution_count": 21,
     "metadata": {},
     "output_type": "execute_result"
    }
   ],
   "source": [
    "output, counter = interpreter.run(r\"\"\"\n",
    "\n",
    "out = stuff as (x, y)\n",
    "\n",
    "\"\"\", instances); output"
   ]
  },
  {
   "cell_type": "markdown",
   "metadata": {},
   "source": [
    "The natural alternative to sampling without replacement is sampling with replacement, which can be built from `as` and `cross` (cross-join).\n",
    "\n",
    "The cross-join computes a Cartesian product, just as it does in SQL. Promoting each set of integers into sets of records makes them mergable (`x` and `y` go into the same output records).\n",
    "\n",
    "Now the pairs are `(1, 1)`, `(1, 2)`, `(1, 3)`, `(2, 1)`, `(2, 2)`, `(2, 3)`, `(3, 1)`, `(3, 2)`, `(3, 3)` in the first event and `(4, 4)`, `(4, 5)`, `(5, 4)`, `(5, 5)` in the third event. (The second event is empty.)"
   ]
  },
  {
   "cell_type": "code",
   "execution_count": 22,
   "metadata": {},
   "outputs": [
    {
     "data": {
      "text/plain": [
       "List{ \n",
       "    Rec#0(0){ \n",
       "        out = List#0(0){ \n",
       "            Rec#3*#3(0 0){ \n",
       "                x = Value#3(0 0){ 1 }\n",
       "                y = Value#3(0 0){ 1 }\n",
       "            }\n",
       "            Rec#3*#3(0 1){ \n",
       "                x = Value#3(0 0){ 1 }\n",
       "                y = Value#3(0 1){ 2 }\n",
       "            }\n",
       "            Rec#3*#3(0 2){ \n",
       "                x = Value#3(0 0){ 1 }\n",
       "                y = Value#3(0 2){ 3 }\n",
       "            }\n",
       "            Rec#3*#3(0 3){ \n",
       "                x = Value#3(0 1){ 2 }\n",
       "                y = Value#3(0 0){ 1 }\n",
       "            }\n",
       "            Rec#3*#3(0 4){ \n",
       "                x = Value#3(0 1){ 2 }\n",
       "                y = Value#3(0 1){ 2 }\n",
       "            }\n",
       "            Rec#3*#3(0 5){ \n",
       "                x = Value#3(0 1){ 2 }\n",
       "                y = Value#3(0 2){ 3 }\n",
       "            }\n",
       "            Rec#3*#3(0 6){ \n",
       "                x = Value#3(0 2){ 3 }\n",
       "                y = Value#3(0 0){ 1 }\n",
       "            }\n",
       "            Rec#3*#3(0 7){ \n",
       "                x = Value#3(0 2){ 3 }\n",
       "                y = Value#3(0 1){ 2 }\n",
       "            }\n",
       "            Rec#3*#3(0 8){ \n",
       "                x = Value#3(0 2){ 3 }\n",
       "                y = Value#3(0 2){ 3 }\n",
       "            }\n",
       "        }\n",
       "    }\n",
       "    Rec#0(1){ \n",
       "        out = List#0(1){ \n",
       "        }\n",
       "    }\n",
       "    Rec#0(2){ \n",
       "        out = List#0(2){ \n",
       "            Rec#3*#3(2 0){ \n",
       "                x = Value#3(2 0){ 4 }\n",
       "                y = Value#3(2 0){ 4 }\n",
       "            }\n",
       "            Rec#3*#3(2 1){ \n",
       "                x = Value#3(2 0){ 4 }\n",
       "                y = Value#3(2 1){ 5 }\n",
       "            }\n",
       "            Rec#3*#3(2 2){ \n",
       "                x = Value#3(2 1){ 5 }\n",
       "                y = Value#3(2 0){ 4 }\n",
       "            }\n",
       "            Rec#3*#3(2 3){ \n",
       "                x = Value#3(2 1){ 5 }\n",
       "                y = Value#3(2 1){ 5 }\n",
       "            }\n",
       "        }\n",
       "    }\n",
       "}"
      ]
     },
     "execution_count": 22,
     "metadata": {},
     "output_type": "execute_result"
    }
   ],
   "source": [
    "output, counter = interpreter.run(r\"\"\"\n",
    "\n",
    "out = stuff as x cross stuff as y\n",
    "\n",
    "\"\"\", instances); output"
   ]
  },
  {
   "cell_type": "markdown",
   "metadata": {},
   "source": [
    "For added flair, we can `group by` either `x` or `y` to build sets of sets. The Cartesian grid pattern should be more clear."
   ]
  },
  {
   "cell_type": "code",
   "execution_count": 23,
   "metadata": {},
   "outputs": [
    {
     "data": {
      "text/plain": [
       "List{ \n",
       "    Rec#0(0){ \n",
       "        out = List#0(0){ \n",
       "            List#4(0 0){ \n",
       "                Rec#3*#3(0 0){ \n",
       "                    x = Value#3(0 0){ 1 }\n",
       "                    y = Value#3(0 0){ 1 }\n",
       "                }\n",
       "                Rec#3*#3(0 1){ \n",
       "                    x = Value#3(0 0){ 1 }\n",
       "                    y = Value#3(0 1){ 2 }\n",
       "                }\n",
       "                Rec#3*#3(0 2){ \n",
       "                    x = Value#3(0 0){ 1 }\n",
       "                    y = Value#3(0 2){ 3 }\n",
       "                }\n",
       "            }\n",
       "            List#4(0 1){ \n",
       "                Rec#3*#3(0 3){ \n",
       "                    x = Value#3(0 1){ 2 }\n",
       "                    y = Value#3(0 0){ 1 }\n",
       "                }\n",
       "                Rec#3*#3(0 4){ \n",
       "                    x = Value#3(0 1){ 2 }\n",
       "                    y = Value#3(0 1){ 2 }\n",
       "                }\n",
       "                Rec#3*#3(0 5){ \n",
       "                    x = Value#3(0 1){ 2 }\n",
       "                    y = Value#3(0 2){ 3 }\n",
       "                }\n",
       "            }\n",
       "            List#4(0 2){ \n",
       "                Rec#3*#3(0 6){ \n",
       "                    x = Value#3(0 2){ 3 }\n",
       "                    y = Value#3(0 0){ 1 }\n",
       "                }\n",
       "                Rec#3*#3(0 7){ \n",
       "                    x = Value#3(0 2){ 3 }\n",
       "                    y = Value#3(0 1){ 2 }\n",
       "                }\n",
       "                Rec#3*#3(0 8){ \n",
       "                    x = Value#3(0 2){ 3 }\n",
       "                    y = Value#3(0 2){ 3 }\n",
       "                }\n",
       "            }\n",
       "        }\n",
       "    }\n",
       "    Rec#0(1){ \n",
       "        out = List#0(1){ \n",
       "        }\n",
       "    }\n",
       "    Rec#0(2){ \n",
       "        out = List#0(2){ \n",
       "            List#6(2 0){ \n",
       "                Rec#3*#3(2 0){ \n",
       "                    x = Value#3(2 0){ 4 }\n",
       "                    y = Value#3(2 0){ 4 }\n",
       "                }\n",
       "                Rec#3*#3(2 1){ \n",
       "                    x = Value#3(2 0){ 4 }\n",
       "                    y = Value#3(2 1){ 5 }\n",
       "                }\n",
       "            }\n",
       "            List#6(2 1){ \n",
       "                Rec#3*#3(2 2){ \n",
       "                    x = Value#3(2 1){ 5 }\n",
       "                    y = Value#3(2 0){ 4 }\n",
       "                }\n",
       "                Rec#3*#3(2 3){ \n",
       "                    x = Value#3(2 1){ 5 }\n",
       "                    y = Value#3(2 1){ 5 }\n",
       "                }\n",
       "            }\n",
       "        }\n",
       "    }\n",
       "}"
      ]
     },
     "execution_count": 23,
     "metadata": {},
     "output_type": "execute_result"
    }
   ],
   "source": [
    "output, counter = interpreter.run(r\"\"\"\n",
    "\n",
    "out = stuff as x cross stuff as y group by x\n",
    "\n",
    "\"\"\", instances); output"
   ]
  },
  {
   "cell_type": "markdown",
   "metadata": {},
   "source": [
    "The cross-join/Cartesian product is one kind of a join: two sets of records are combined to make one set of records. The output records have fields from both input record types and the set is derived from a combinatorial rule, in this case: \"for all in the left set, merge with each of the right set.\"\n",
    "\n",
    "If we didn't give the records in the left and right sets distinct field names with `as`, then they could overshadow each other. That is, if the left and right both had a field named `x`, only the left's `x` would show up in the results (by convention, left wins over right). Perhaps it would be better if a situation like this raises an error...\n",
    "\n",
    "The output records don't necessarily have distinct values for all fields. The entities, defined by hidden surrogate keys, are guaranteed distinct, but the field values might not be."
   ]
  },
  {
   "cell_type": "code",
   "execution_count": 24,
   "metadata": {},
   "outputs": [
    {
     "data": {
      "text/plain": [
       "List{ \n",
       "    Rec#0(0){ \n",
       "        out = List#0(0){ \n",
       "            Rec#3*#3(0 0){ \n",
       "                x = Value#3(0 0){ 1 }\n",
       "            }\n",
       "            Rec#3*#3(0 1){ \n",
       "                x = Value#3(0 0){ 1 }\n",
       "            }\n",
       "            Rec#3*#3(0 2){ \n",
       "                x = Value#3(0 0){ 1 }\n",
       "            }\n",
       "            Rec#3*#3(0 3){ \n",
       "                x = Value#3(0 1){ 2 }\n",
       "            }\n",
       "            Rec#3*#3(0 4){ \n",
       "                x = Value#3(0 1){ 2 }\n",
       "            }\n",
       "            Rec#3*#3(0 5){ \n",
       "                x = Value#3(0 1){ 2 }\n",
       "            }\n",
       "            Rec#3*#3(0 6){ \n",
       "                x = Value#3(0 2){ 3 }\n",
       "            }\n",
       "            Rec#3*#3(0 7){ \n",
       "                x = Value#3(0 2){ 3 }\n",
       "            }\n",
       "            Rec#3*#3(0 8){ \n",
       "                x = Value#3(0 2){ 3 }\n",
       "            }\n",
       "        }\n",
       "    }\n",
       "    Rec#0(1){ \n",
       "        out = List#0(1){ \n",
       "        }\n",
       "    }\n",
       "    Rec#0(2){ \n",
       "        out = List#0(2){ \n",
       "            Rec#3*#3(2 0){ \n",
       "                x = Value#3(2 0){ 4 }\n",
       "            }\n",
       "            Rec#3*#3(2 1){ \n",
       "                x = Value#3(2 0){ 4 }\n",
       "            }\n",
       "            Rec#3*#3(2 2){ \n",
       "                x = Value#3(2 1){ 5 }\n",
       "            }\n",
       "            Rec#3*#3(2 3){ \n",
       "                x = Value#3(2 1){ 5 }\n",
       "            }\n",
       "        }\n",
       "    }\n",
       "}"
      ]
     },
     "execution_count": 24,
     "metadata": {},
     "output_type": "execute_result"
    }
   ],
   "source": [
    "output, counter = interpreter.run(r\"\"\"\n",
    "\n",
    "out = stuff as x cross stuff as x\n",
    "\n",
    "\"\"\", instances); output"
   ]
  },
  {
   "cell_type": "markdown",
   "metadata": {},
   "source": [
    "In the above, it looks like these sets contain multiple values of `{\"x\": 4}` and `{\"x\": 5}`, but their index keys are different. (They are different ordered tuples of elements from the left and right sets.)"
   ]
  },
  {
   "cell_type": "code",
   "execution_count": 25,
   "metadata": {},
   "outputs": [
    {
     "data": {
      "text/plain": [
       "[[RowKey((0, 0), CrossRef(<Ref 3>, <Ref 3>)),\n",
       "  RowKey((0, 1), CrossRef(<Ref 3>, <Ref 3>)),\n",
       "  RowKey((0, 2), CrossRef(<Ref 3>, <Ref 3>)),\n",
       "  RowKey((0, 3), CrossRef(<Ref 3>, <Ref 3>)),\n",
       "  RowKey((0, 4), CrossRef(<Ref 3>, <Ref 3>)),\n",
       "  RowKey((0, 5), CrossRef(<Ref 3>, <Ref 3>)),\n",
       "  RowKey((0, 6), CrossRef(<Ref 3>, <Ref 3>)),\n",
       "  RowKey((0, 7), CrossRef(<Ref 3>, <Ref 3>)),\n",
       "  RowKey((0, 8), CrossRef(<Ref 3>, <Ref 3>))],\n",
       " [],\n",
       " [RowKey((2, 0), CrossRef(<Ref 3>, <Ref 3>)),\n",
       "  RowKey((2, 1), CrossRef(<Ref 3>, <Ref 3>)),\n",
       "  RowKey((2, 2), CrossRef(<Ref 3>, <Ref 3>)),\n",
       "  RowKey((2, 3), CrossRef(<Ref 3>, <Ref 3>))]]"
      ]
     },
     "execution_count": 25,
     "metadata": {},
     "output_type": "execute_result"
    }
   ],
   "source": [
    "[[y.row for y in x[\"out\"]] for x in output]"
   ]
  },
  {
   "cell_type": "markdown",
   "metadata": {},
   "source": [
    "Cross-join is, in a sense, the simplest join because it creates a new index: `CrossRef(<Ref X>, <Ref Y>)` is distinct from `<Ref X>` and `<Ref Y>`, and the only way to get another one is to `cross` sets with indexes `<Ref X>` and `<Ref Y>` again.\n",
    "\n",
    "The next-simplest is `join`, which requires the left and right sets to have the same index and returns a set with the same index. In SQL terms, PartiQL's `join` is an `INNER JOIN`, taking an element from the left and right sets only if they have the same index key. Again in SQL terms, this `INNER JOIN` is implicitly `ON` the hidden surrogate index, not any other columns. With that restriction, `join` effectively becomes set intersection.\n",
    "\n",
    "I had considered calling it `intersect`, rather than `join` because it is set intersection, but the way fields from records in the left and right sets are mixed is more reminiscent of an SQL join."
   ]
  },
  {
   "cell_type": "code",
   "execution_count": 26,
   "metadata": {},
   "outputs": [
    {
     "data": {
      "text/plain": [
       "List{ \n",
       "    Rec#0(0){ \n",
       "        out = List#0(0){ \n",
       "            Rec#3(0 0){ \n",
       "                x = Value#3(0 0){ 1 }\n",
       "                y = Value#3(0 0){ 1 }\n",
       "            }\n",
       "            Rec#3(0 1){ \n",
       "                x = Value#3(0 1){ 2 }\n",
       "                y = Value#3(0 1){ 2 }\n",
       "            }\n",
       "            Rec#3(0 2){ \n",
       "                x = Value#3(0 2){ 3 }\n",
       "                y = Value#3(0 2){ 3 }\n",
       "            }\n",
       "        }\n",
       "    }\n",
       "    Rec#0(1){ \n",
       "        out = List#0(1){ \n",
       "        }\n",
       "    }\n",
       "    Rec#0(2){ \n",
       "        out = List#0(2){ \n",
       "            Rec#3(2 0){ \n",
       "                x = Value#3(2 0){ 4 }\n",
       "                y = Value#3(2 0){ 4 }\n",
       "            }\n",
       "            Rec#3(2 1){ \n",
       "                x = Value#3(2 1){ 5 }\n",
       "                y = Value#3(2 1){ 5 }\n",
       "            }\n",
       "        }\n",
       "    }\n",
       "}"
      ]
     },
     "execution_count": 26,
     "metadata": {},
     "output_type": "execute_result"
    }
   ],
   "source": [
    "output, counter = interpreter.run(r\"\"\"\n",
    "\n",
    "out = stuff as x join stuff as y\n",
    "\n",
    "\"\"\", instances); output"
   ]
  },
  {
   "cell_type": "markdown",
   "metadata": {},
   "source": [
    "To show what this is doing, let's filter the left and right sets with `where`. Even and odd values have no overlap."
   ]
  },
  {
   "cell_type": "code",
   "execution_count": 27,
   "metadata": {},
   "outputs": [
    {
     "data": {
      "text/plain": [
       "List{ \n",
       "    Rec#0(0){ \n",
       "        evens = List#0(0){ \n",
       "            Rec#3(0 1){ \n",
       "                x = Value#3(0 1){ 2 }\n",
       "            }\n",
       "        }\n",
       "        odds = List#0(0){ \n",
       "            Rec#3(0 0){ \n",
       "                x = Value#3(0 0){ 1 }\n",
       "            }\n",
       "            Rec#3(0 2){ \n",
       "                x = Value#3(0 2){ 3 }\n",
       "            }\n",
       "        }\n",
       "        out = List#0(0){ \n",
       "        }\n",
       "    }\n",
       "    Rec#0(1){ \n",
       "        evens = List#0(1){ \n",
       "        }\n",
       "        odds = List#0(1){ \n",
       "        }\n",
       "        out = List#0(1){ \n",
       "        }\n",
       "    }\n",
       "    Rec#0(2){ \n",
       "        evens = List#0(2){ \n",
       "            Rec#3(2 0){ \n",
       "                x = Value#3(2 0){ 4 }\n",
       "            }\n",
       "        }\n",
       "        odds = List#0(2){ \n",
       "            Rec#3(2 1){ \n",
       "                x = Value#3(2 1){ 5 }\n",
       "            }\n",
       "        }\n",
       "        out = List#0(2){ \n",
       "        }\n",
       "    }\n",
       "}"
      ]
     },
     "execution_count": 27,
     "metadata": {},
     "output_type": "execute_result"
    }
   ],
   "source": [
    "output, counter = interpreter.run(r\"\"\"\n",
    "\n",
    "evens = stuff as x where x % 2 == 0\n",
    "odds  = stuff as x where x % 2 == 1\n",
    "\n",
    "out = evens join odds\n",
    "\n",
    "\"\"\", instances); output"
   ]
  },
  {
   "cell_type": "markdown",
   "metadata": {},
   "source": [
    "But the overlap of evens and `2 <= x and x <= 4` is `2` and `4`."
   ]
  },
  {
   "cell_type": "code",
   "execution_count": 28,
   "metadata": {},
   "outputs": [
    {
     "data": {
      "text/plain": [
       "List{ \n",
       "    Rec#0(0){ \n",
       "        evens = List#0(0){ \n",
       "            Rec#3(0 1){ \n",
       "                x = Value#3(0 1){ 2 }\n",
       "            }\n",
       "        }\n",
       "        middle = List#0(0){ \n",
       "            Rec#3(0 1){ \n",
       "                x = Value#3(0 1){ 2 }\n",
       "            }\n",
       "            Rec#3(0 2){ \n",
       "                x = Value#3(0 2){ 3 }\n",
       "            }\n",
       "        }\n",
       "        out = List#0(0){ \n",
       "            Rec#3(0 1){ \n",
       "                x = Value#3(0 1){ 2 }\n",
       "            }\n",
       "        }\n",
       "    }\n",
       "    Rec#0(1){ \n",
       "        evens = List#0(1){ \n",
       "        }\n",
       "        middle = List#0(1){ \n",
       "        }\n",
       "        out = List#0(1){ \n",
       "        }\n",
       "    }\n",
       "    Rec#0(2){ \n",
       "        evens = List#0(2){ \n",
       "            Rec#3(2 0){ \n",
       "                x = Value#3(2 0){ 4 }\n",
       "            }\n",
       "        }\n",
       "        middle = List#0(2){ \n",
       "            Rec#3(2 0){ \n",
       "                x = Value#3(2 0){ 4 }\n",
       "            }\n",
       "        }\n",
       "        out = List#0(2){ \n",
       "            Rec#3(2 0){ \n",
       "                x = Value#3(2 0){ 4 }\n",
       "            }\n",
       "        }\n",
       "    }\n",
       "}"
      ]
     },
     "execution_count": 28,
     "metadata": {},
     "output_type": "execute_result"
    }
   ],
   "source": [
    "output, counter = interpreter.run(r\"\"\"\n",
    "\n",
    "evens  = stuff as x where x % 2 == 0\n",
    "middle = stuff as x where 2 <= x and x <= 4\n",
    "\n",
    "out = evens join middle\n",
    "\n",
    "\"\"\", instances); output"
   ]
  },
  {
   "cell_type": "markdown",
   "metadata": {},
   "source": [
    "To see how this is like an SQL `INNER JOIN`, consider records with different fields: the left records have an `x` and the right records have a `y`. When they have an overlapping index, the merged records have `x` and `y`."
   ]
  },
  {
   "cell_type": "code",
   "execution_count": 29,
   "metadata": {},
   "outputs": [
    {
     "data": {
      "text/plain": [
       "List{ \n",
       "    Rec#0(0){ \n",
       "        evens = List#0(0){ \n",
       "            Rec#3(0 1){ \n",
       "                x = Value#3(0 1){ 2 }\n",
       "            }\n",
       "        }\n",
       "        middle = List#0(0){ \n",
       "            Rec#3(0 1){ \n",
       "                y = Value#3(0 1){ 2 }\n",
       "            }\n",
       "            Rec#3(0 2){ \n",
       "                y = Value#3(0 2){ 3 }\n",
       "            }\n",
       "        }\n",
       "        out = List#0(0){ \n",
       "            Rec#3(0 1){ \n",
       "                x = Value#3(0 1){ 2 }\n",
       "                y = Value#3(0 1){ 2 }\n",
       "            }\n",
       "        }\n",
       "    }\n",
       "    Rec#0(1){ \n",
       "        evens = List#0(1){ \n",
       "        }\n",
       "        middle = List#0(1){ \n",
       "        }\n",
       "        out = List#0(1){ \n",
       "        }\n",
       "    }\n",
       "    Rec#0(2){ \n",
       "        evens = List#0(2){ \n",
       "            Rec#3(2 0){ \n",
       "                x = Value#3(2 0){ 4 }\n",
       "            }\n",
       "        }\n",
       "        middle = List#0(2){ \n",
       "            Rec#3(2 0){ \n",
       "                y = Value#3(2 0){ 4 }\n",
       "            }\n",
       "        }\n",
       "        out = List#0(2){ \n",
       "            Rec#3(2 0){ \n",
       "                x = Value#3(2 0){ 4 }\n",
       "                y = Value#3(2 0){ 4 }\n",
       "            }\n",
       "        }\n",
       "    }\n",
       "}"
      ]
     },
     "execution_count": 29,
     "metadata": {},
     "output_type": "execute_result"
    }
   ],
   "source": [
    "output, counter = interpreter.run(r\"\"\"\n",
    "\n",
    "evens  = stuff as x where x % 2 == 0\n",
    "middle = stuff as y where 2 <= y and y <= 4\n",
    "\n",
    "out = evens join middle\n",
    "\n",
    "\"\"\", instances); output"
   ]
  },
  {
   "cell_type": "markdown",
   "metadata": {},
   "source": [
    "The opposite of PartiQL's `join` (like SQL's `INNER JOIN` on the hidden surrogate key) is PartiQL's `union` (like SQL's `FULL OUTER JOIN` on the hidden surrogate key).\n",
    "\n",
    "Just as `join` acts as set intersection, `union` acts as set union. I chose to use the word \"`union`\" in this case because field names of the records in the left and right sets are often different, so this behaves intuitively as a user would expect set union to behave.\n",
    "\n",
    "Here is an example where the field name is the same, but the left and right sets are non-overlapping (so the union is just their concatenation)."
   ]
  },
  {
   "cell_type": "code",
   "execution_count": 30,
   "metadata": {},
   "outputs": [
    {
     "data": {
      "text/plain": [
       "List{ \n",
       "    Rec#0(0){ \n",
       "        evens = List#0(0){ \n",
       "            Rec#3(0 1){ \n",
       "                x = Value#3(0 1){ 2 }\n",
       "            }\n",
       "        }\n",
       "        odds = List#0(0){ \n",
       "            Rec#3(0 0){ \n",
       "                x = Value#3(0 0){ 1 }\n",
       "            }\n",
       "            Rec#3(0 2){ \n",
       "                x = Value#3(0 2){ 3 }\n",
       "            }\n",
       "        }\n",
       "        out = List#0(0){ \n",
       "            Rec#3(0 1){ \n",
       "                x = Value#3(0 1){ 2 }\n",
       "            }\n",
       "            Rec#3(0 0){ \n",
       "                x = Value#3(0 0){ 1 }\n",
       "            }\n",
       "            Rec#3(0 2){ \n",
       "                x = Value#3(0 2){ 3 }\n",
       "            }\n",
       "        }\n",
       "    }\n",
       "    Rec#0(1){ \n",
       "        evens = List#0(1){ \n",
       "        }\n",
       "        odds = List#0(1){ \n",
       "        }\n",
       "        out = List#0(1){ \n",
       "        }\n",
       "    }\n",
       "    Rec#0(2){ \n",
       "        evens = List#0(2){ \n",
       "            Rec#3(2 0){ \n",
       "                x = Value#3(2 0){ 4 }\n",
       "            }\n",
       "        }\n",
       "        odds = List#0(2){ \n",
       "            Rec#3(2 1){ \n",
       "                x = Value#3(2 1){ 5 }\n",
       "            }\n",
       "        }\n",
       "        out = List#0(2){ \n",
       "            Rec#3(2 0){ \n",
       "                x = Value#3(2 0){ 4 }\n",
       "            }\n",
       "            Rec#3(2 1){ \n",
       "                x = Value#3(2 1){ 5 }\n",
       "            }\n",
       "        }\n",
       "    }\n",
       "}"
      ]
     },
     "execution_count": 30,
     "metadata": {},
     "output_type": "execute_result"
    }
   ],
   "source": [
    "output, counter = interpreter.run(r\"\"\"\n",
    "\n",
    "evens = stuff as x where x % 2 == 0\n",
    "odds  = stuff as x where x % 2 == 1\n",
    "\n",
    "out = evens union odds\n",
    "\n",
    "\"\"\", instances); output"
   ]
  },
  {
   "cell_type": "markdown",
   "metadata": {},
   "source": [
    "Here's the same example, but with fields named `x` and `y`. If the output has a field named `x`, you know it came from the left, and if it has a field named `y`, you know it came from the right."
   ]
  },
  {
   "cell_type": "code",
   "execution_count": 31,
   "metadata": {},
   "outputs": [
    {
     "data": {
      "text/plain": [
       "List{ \n",
       "    Rec#0(0){ \n",
       "        evens = List#0(0){ \n",
       "            Rec#3(0 1){ \n",
       "                x = Value#3(0 1){ 2 }\n",
       "            }\n",
       "        }\n",
       "        odds = List#0(0){ \n",
       "            Rec#3(0 0){ \n",
       "                y = Value#3(0 0){ 1 }\n",
       "            }\n",
       "            Rec#3(0 2){ \n",
       "                y = Value#3(0 2){ 3 }\n",
       "            }\n",
       "        }\n",
       "        out = List#0(0){ \n",
       "            Rec#3(0 1){ \n",
       "                x = Value#3(0 1){ 2 }\n",
       "            }\n",
       "            Rec#3(0 0){ \n",
       "                y = Value#3(0 0){ 1 }\n",
       "            }\n",
       "            Rec#3(0 2){ \n",
       "                y = Value#3(0 2){ 3 }\n",
       "            }\n",
       "        }\n",
       "    }\n",
       "    Rec#0(1){ \n",
       "        evens = List#0(1){ \n",
       "        }\n",
       "        odds = List#0(1){ \n",
       "        }\n",
       "        out = List#0(1){ \n",
       "        }\n",
       "    }\n",
       "    Rec#0(2){ \n",
       "        evens = List#0(2){ \n",
       "            Rec#3(2 0){ \n",
       "                x = Value#3(2 0){ 4 }\n",
       "            }\n",
       "        }\n",
       "        odds = List#0(2){ \n",
       "            Rec#3(2 1){ \n",
       "                y = Value#3(2 1){ 5 }\n",
       "            }\n",
       "        }\n",
       "        out = List#0(2){ \n",
       "            Rec#3(2 0){ \n",
       "                x = Value#3(2 0){ 4 }\n",
       "            }\n",
       "            Rec#3(2 1){ \n",
       "                y = Value#3(2 1){ 5 }\n",
       "            }\n",
       "        }\n",
       "    }\n",
       "}"
      ]
     },
     "execution_count": 31,
     "metadata": {},
     "output_type": "execute_result"
    }
   ],
   "source": [
    "output, counter = interpreter.run(r\"\"\"\n",
    "\n",
    "evens = stuff as x where x % 2 == 0\n",
    "odds  = stuff as y where y % 2 == 1\n",
    "\n",
    "out = evens union odds\n",
    "\n",
    "\"\"\", instances); output"
   ]
  },
  {
   "cell_type": "markdown",
   "metadata": {},
   "source": [
    "Often, that would be used to combine particle lists, like `leptons = electrons union muons`. In the example below, we'll take a union of `table1` and `table2`."
   ]
  },
  {
   "cell_type": "code",
   "execution_count": 33,
   "metadata": {},
   "outputs": [
    {
     "data": {
      "text/plain": [
       "List{ \n",
       "    Rec#0(0){ \n",
       "        out = List#0(0){ \n",
       "            Rec#1(0 0){ \n",
       "                a = Value#1(0 0){ 1.1 }\n",
       "                b = Value#1(0 0){ 100 }\n",
       "            }\n",
       "            Rec#1(0 1){ \n",
       "                a = Value#1(0 1){ 2.2 }\n",
       "                b = Value#1(0 1){ 200 }\n",
       "            }\n",
       "            Rec#1(0 2){ \n",
       "                a = Value#1(0 2){ 3.3 }\n",
       "                b = Value#1(0 2){ 300 }\n",
       "            }\n",
       "            Rec#2(0 0){ \n",
       "                b = Value#2(0 0){ True }\n",
       "                c = Value#2(0 0){ 10 }\n",
       "            }\n",
       "            Rec#2(0 1){ \n",
       "                b = Value#2(0 1){ False }\n",
       "                c = Value#2(0 1){ 20 }\n",
       "            }\n",
       "        }\n",
       "    }\n",
       "    Rec#0(1){ \n",
       "        out = List#0(1){ \n",
       "            Rec#2(1 0){ \n",
       "                b = Value#2(1 0){ True }\n",
       "                c = Value#2(1 0){ 100 }\n",
       "            }\n",
       "        }\n",
       "    }\n",
       "    Rec#0(2){ \n",
       "        out = List#0(2){ \n",
       "            Rec#1(2 0){ \n",
       "                a = Value#1(2 0){ 4.4 }\n",
       "                b = Value#1(2 0){ 400 }\n",
       "            }\n",
       "            Rec#1(2 1){ \n",
       "                a = Value#1(2 1){ 5.5 }\n",
       "                b = Value#1(2 1){ 500 }\n",
       "            }\n",
       "            Rec#2(2 0){ \n",
       "                b = Value#2(2 0){ False }\n",
       "                c = Value#2(2 0){ 1 }\n",
       "            }\n",
       "            Rec#2(2 1){ \n",
       "                b = Value#2(2 1){ False }\n",
       "                c = Value#2(2 1){ 2 }\n",
       "            }\n",
       "            Rec#2(2 2){ \n",
       "                b = Value#2(2 2){ True }\n",
       "                c = Value#2(2 2){ 3 }\n",
       "            }\n",
       "            Rec#2(2 3){ \n",
       "                b = Value#2(2 3){ True }\n",
       "                c = Value#2(2 3){ 4 }\n",
       "            }\n",
       "            Rec#2(2 4){ \n",
       "                b = Value#2(2 4){ True }\n",
       "                c = Value#2(2 4){ 5 }\n",
       "            }\n",
       "        }\n",
       "    }\n",
       "}"
      ]
     },
     "execution_count": 33,
     "metadata": {},
     "output_type": "execute_result"
    }
   ],
   "source": [
    "output, counter = interpreter.run(r\"\"\"\n",
    "\n",
    "out = table1 union table2\n",
    "\n",
    "\"\"\", instances); output"
   ]
  },
  {
   "cell_type": "markdown",
   "metadata": {},
   "source": [
    "The `table1` and `table2` sets both have a `b` field, so `b` in the output records might have come from `table1` (in which case, it's an integer) or might have come from `table2` (in which case, it's boolean). To make the provenance clear, we can use `as` to label them.\n",
    "\n",
    "Below, the output records either have a `left` field or they have a `right` field."
   ]
  },
  {
   "cell_type": "code",
   "execution_count": 34,
   "metadata": {},
   "outputs": [
    {
     "data": {
      "text/plain": [
       "List{ \n",
       "    Rec#0(0){ \n",
       "        out = List#0(0){ \n",
       "            Rec#1(0 0){ \n",
       "                left = Rec#1(0 0){ \n",
       "                    a = Value#1(0 0){ 1.1 }\n",
       "                    b = Value#1(0 0){ 100 }\n",
       "                }\n",
       "            }\n",
       "            Rec#1(0 1){ \n",
       "                left = Rec#1(0 1){ \n",
       "                    a = Value#1(0 1){ 2.2 }\n",
       "                    b = Value#1(0 1){ 200 }\n",
       "                }\n",
       "            }\n",
       "            Rec#1(0 2){ \n",
       "                left = Rec#1(0 2){ \n",
       "                    a = Value#1(0 2){ 3.3 }\n",
       "                    b = Value#1(0 2){ 300 }\n",
       "                }\n",
       "            }\n",
       "            Rec#2(0 0){ \n",
       "                right = Rec#2(0 0){ \n",
       "                    b = Value#2(0 0){ True }\n",
       "                    c = Value#2(0 0){ 10 }\n",
       "                }\n",
       "            }\n",
       "            Rec#2(0 1){ \n",
       "                right = Rec#2(0 1){ \n",
       "                    b = Value#2(0 1){ False }\n",
       "                    c = Value#2(0 1){ 20 }\n",
       "                }\n",
       "            }\n",
       "        }\n",
       "    }\n",
       "    Rec#0(1){ \n",
       "        out = List#0(1){ \n",
       "            Rec#2(1 0){ \n",
       "                right = Rec#2(1 0){ \n",
       "                    b = Value#2(1 0){ True }\n",
       "                    c = Value#2(1 0){ 100 }\n",
       "                }\n",
       "            }\n",
       "        }\n",
       "    }\n",
       "    Rec#0(2){ \n",
       "        out = List#0(2){ \n",
       "            Rec#1(2 0){ \n",
       "                left = Rec#1(2 0){ \n",
       "                    a = Value#1(2 0){ 4.4 }\n",
       "                    b = Value#1(2 0){ 400 }\n",
       "                }\n",
       "            }\n",
       "            Rec#1(2 1){ \n",
       "                left = Rec#1(2 1){ \n",
       "                    a = Value#1(2 1){ 5.5 }\n",
       "                    b = Value#1(2 1){ 500 }\n",
       "                }\n",
       "            }\n",
       "            Rec#2(2 0){ \n",
       "                right = Rec#2(2 0){ \n",
       "                    b = Value#2(2 0){ False }\n",
       "                    c = Value#2(2 0){ 1 }\n",
       "                }\n",
       "            }\n",
       "            Rec#2(2 1){ \n",
       "                right = Rec#2(2 1){ \n",
       "                    b = Value#2(2 1){ False }\n",
       "                    c = Value#2(2 1){ 2 }\n",
       "                }\n",
       "            }\n",
       "            Rec#2(2 2){ \n",
       "                right = Rec#2(2 2){ \n",
       "                    b = Value#2(2 2){ True }\n",
       "                    c = Value#2(2 2){ 3 }\n",
       "                }\n",
       "            }\n",
       "            Rec#2(2 3){ \n",
       "                right = Rec#2(2 3){ \n",
       "                    b = Value#2(2 3){ True }\n",
       "                    c = Value#2(2 3){ 4 }\n",
       "                }\n",
       "            }\n",
       "            Rec#2(2 4){ \n",
       "                right = Rec#2(2 4){ \n",
       "                    b = Value#2(2 4){ True }\n",
       "                    c = Value#2(2 4){ 5 }\n",
       "                }\n",
       "            }\n",
       "        }\n",
       "    }\n",
       "}"
      ]
     },
     "execution_count": 34,
     "metadata": {},
     "output_type": "execute_result"
    }
   ],
   "source": [
    "output, counter = interpreter.run(r\"\"\"\n",
    "\n",
    "out = table1 as left union table2 as right\n",
    "\n",
    "\"\"\", instances); output"
   ]
  },
  {
   "cell_type": "markdown",
   "metadata": {},
   "source": [
    "Also notice that the index is a union of the two input indexes. Keys either come from `<Ref 1>` or `<Ref 2>`."
   ]
  },
  {
   "cell_type": "code",
   "execution_count": 35,
   "metadata": {},
   "outputs": [
    {
     "data": {
      "text/plain": [
       "[[RowKey((0, 0), <Ref 1>),\n",
       "  RowKey((0, 1), <Ref 1>),\n",
       "  RowKey((0, 2), <Ref 1>),\n",
       "  RowKey((0, 0), <Ref 2>),\n",
       "  RowKey((0, 1), <Ref 2>)],\n",
       " [RowKey((1, 0), <Ref 2>)],\n",
       " [RowKey((2, 0), <Ref 1>),\n",
       "  RowKey((2, 1), <Ref 1>),\n",
       "  RowKey((2, 0), <Ref 2>),\n",
       "  RowKey((2, 1), <Ref 2>),\n",
       "  RowKey((2, 2), <Ref 2>),\n",
       "  RowKey((2, 3), <Ref 2>),\n",
       "  RowKey((2, 4), <Ref 2>)]]"
      ]
     },
     "execution_count": 35,
     "metadata": {},
     "output_type": "execute_result"
    }
   ],
   "source": [
    "[[y.row for y in x[\"out\"]] for x in output]"
   ]
  },
  {
   "cell_type": "markdown",
   "metadata": {},
   "source": [
    "So `cross` creates a new index reference (`CrossRef(<Ref X>, <Ref Y>)`), `join` returns the input index references (finding the ones that are in both left and right), and `union` creates a union of keys out of the left and right index references.\n",
    "\n",
    "There's one more set operation: `except`. This is a set difference, removing elements from the left set of records whose keys can be found in the right set of records."
   ]
  },
  {
   "cell_type": "code",
   "execution_count": 37,
   "metadata": {},
   "outputs": [
    {
     "data": {
      "text/plain": [
       "List{ \n",
       "    Rec#0(0){ \n",
       "        evens = List#0(0){ \n",
       "            Rec#3(0 1){ \n",
       "                x = Value#3(0 1){ 2 }\n",
       "            }\n",
       "        }\n",
       "        out = List#0(0){ \n",
       "            Rec#3(0 0){ \n",
       "                x = Value#3(0 0){ 1 }\n",
       "            }\n",
       "            Rec#3(0 2){ \n",
       "                x = Value#3(0 2){ 3 }\n",
       "            }\n",
       "        }\n",
       "    }\n",
       "    Rec#0(1){ \n",
       "        evens = List#0(1){ \n",
       "        }\n",
       "        out = List#0(1){ \n",
       "        }\n",
       "    }\n",
       "    Rec#0(2){ \n",
       "        evens = List#0(2){ \n",
       "            Rec#3(2 0){ \n",
       "                x = Value#3(2 0){ 4 }\n",
       "            }\n",
       "        }\n",
       "        out = List#0(2){ \n",
       "            Rec#3(2 1){ \n",
       "                x = Value#3(2 1){ 5 }\n",
       "            }\n",
       "        }\n",
       "    }\n",
       "}"
      ]
     },
     "execution_count": 37,
     "metadata": {},
     "output_type": "execute_result"
    }
   ],
   "source": [
    "output, counter = interpreter.run(r\"\"\"\n",
    "\n",
    "evens = stuff as x where x % 2 == 0\n",
    "\n",
    "out = stuff as x except evens\n",
    "\n",
    "\"\"\", instances); output"
   ]
  },
  {
   "cell_type": "markdown",
   "metadata": {},
   "source": [
    "I could have implemented a symmetric set difference or an equivalent of SQL's `LEFT OUTER JOIN` and `RIGHT OUTER JOIN`, but they're straightforward extensions of what I've implemented here (and it's not clear they would be needed for a physics analysis)."
   ]
  },
  {
   "cell_type": "markdown",
   "metadata": {},
   "source": [
    "### Equality and set membership\n",
    "\n",
    "It should be emphasized that the set operations defined above use a definition of equality that only requires two objects' index keys to be the same. They can have different field names and different values of their fields and be considered mergable by `join` and they can have the same field names and the same field values and be considered different elements by `union`.\n",
    "\n",
    "This is useful because a user might want to enrich a subset of particles with new computed values and then mix in particles from the original set. The \"entity identity\" that must be maintained is the *particles,* not any attached values. To illustrate this, let's do some work on a subset of `table2`, different work on another subset of `table2`, and then bring them together for the final result.\n",
    "\n",
    "This is an example of a DAG, described in the abstract in [02-data-model.ipynb#Joins-and-index-compatibility](02-data-model.ipynb#Joins-and-index-compatibility)."
   ]
  },
  {
   "cell_type": "code",
   "execution_count": 41,
   "metadata": {},
   "outputs": [
    {
     "data": {
      "text/plain": [
       "List{ \n",
       "    Rec#0(0){ \n",
       "        out = List#0(0){ \n",
       "            Rec#2(0 1){ \n",
       "                b = Value#2(0 1){ False }\n",
       "                c = Value#2(0 1){ 20 }\n",
       "                z = Value#2(0 1){ 200 }\n",
       "            }\n",
       "        }\n",
       "    }\n",
       "    Rec#0(1){ \n",
       "        out = List#0(1){ \n",
       "        }\n",
       "    }\n",
       "    Rec#0(2){ \n",
       "        out = List#0(2){ \n",
       "            Rec#2(2 0){ \n",
       "                b = Value#2(2 0){ False }\n",
       "                c = Value#2(2 0){ 1 }\n",
       "                z = Value#2(2 0){ 2 }\n",
       "            }\n",
       "            Rec#2(2 2){ \n",
       "                b = Value#2(2 2){ True }\n",
       "                c = Value#2(2 2){ 3 }\n",
       "                z = Value#2(2 2){ 6 }\n",
       "            }\n",
       "            Rec#2(2 4){ \n",
       "                b = Value#2(2 4){ True }\n",
       "                c = Value#2(2 4){ 5 }\n",
       "                z = Value#2(2 4){ 10 }\n",
       "            }\n",
       "            Rec#2(2 1){ \n",
       "                b = Value#2(2 1){ False }\n",
       "                c = Value#2(2 1){ 2 }\n",
       "                z = Value#2(2 1){ 20 }\n",
       "            }\n",
       "        }\n",
       "    }\n",
       "}"
      ]
     },
     "execution_count": 41,
     "metadata": {},
     "output_type": "execute_result"
    }
   ],
   "source": [
    "output, counter = interpreter.run(r\"\"\"\n",
    "out = {\n",
    "    subset1 = table2 where c % 2 == 1 with {\n",
    "        z = 2*c\n",
    "    }\n",
    "    subset2 = table2 where not b with {\n",
    "        z = 10*c\n",
    "    }\n",
    "    subset1 union subset2\n",
    "}\n",
    "\"\"\", instances); output"
   ]
  },
  {
   "cell_type": "markdown",
   "metadata": {},
   "source": [
    "Note that this is not how simple equality—tested by the `==` operator—should work. Simple equality should return `True` if the left and right are the same value or have the same field names and field values, irrespective of whether they have the same indexes. The same applies to `!=`, `in`, and `not in`, which are all scalar expressions."
   ]
  },
  {
   "cell_type": "code",
   "execution_count": 42,
   "metadata": {},
   "outputs": [
    {
     "data": {
      "text/plain": [
       "List{ \n",
       "    Rec#0(0){ \n",
       "        out = Value#0(0){ True }\n",
       "    }\n",
       "    Rec#0(1){ \n",
       "        out = Value#0(1){ False }\n",
       "    }\n",
       "    Rec#0(2){ \n",
       "        out = Value#0(2){ False }\n",
       "    }\n",
       "}"
      ]
     },
     "execution_count": 42,
     "metadata": {},
     "output_type": "execute_result"
    }
   ],
   "source": [
    "output, counter = interpreter.run(r\"\"\"\n",
    "\n",
    "out = 2 in stuff\n",
    "\n",
    "\"\"\", instances); output"
   ]
  },
  {
   "cell_type": "markdown",
   "metadata": {},
   "source": [
    "## Modifying sets of records\n",
    "\n",
    "SQL's `SELECT` statement lets you create, replace, and remove columns from a table without changing its index (except inasmuch as a visible or natural index is a column that can be changed like any other). The equivalents in PartiQL are:\n",
    "\n",
    "   * `with { ... }` to create or replace fields to a set of records (copying over any fields not specified),\n",
    "   * `to { ... }` to replace all fields in a set of records (only copying a field if `x = x` is specified),\n",
    "   * `to ...` to replace the set of records with the result of an expression, which might not even be a record.\n",
    "\n",
    "Here are a few examples."
   ]
  },
  {
   "cell_type": "code",
   "execution_count": 4,
   "metadata": {},
   "outputs": [
    {
     "data": {
      "text/plain": [
       "List{ \n",
       "    Rec#0(0){ \n",
       "        out = List#0(0){ \n",
       "            Rec#1(0 0){ \n",
       "                a = Value#1(0 0){ 1.1 }\n",
       "                b = Value#1(0 0){ 100 }\n",
       "                c = Value#1(0 0){ 11.0 }\n",
       "            }\n",
       "            Rec#1(0 1){ \n",
       "                a = Value#1(0 1){ 2.2 }\n",
       "                b = Value#1(0 1){ 200 }\n",
       "                c = Value#1(0 1){ 22.0 }\n",
       "            }\n",
       "            Rec#1(0 2){ \n",
       "                a = Value#1(0 2){ 3.3 }\n",
       "                b = Value#1(0 2){ 300 }\n",
       "                c = Value#1(0 2){ 33.0 }\n",
       "            }\n",
       "        }\n",
       "    }\n",
       "    Rec#0(1){ \n",
       "        out = List#0(1){ \n",
       "        }\n",
       "    }\n",
       "    Rec#0(2){ \n",
       "        out = List#0(2){ \n",
       "            Rec#1(2 0){ \n",
       "                a = Value#1(2 0){ 4.4 }\n",
       "                b = Value#1(2 0){ 400 }\n",
       "                c = Value#1(2 0){ 44.0 }\n",
       "            }\n",
       "            Rec#1(2 1){ \n",
       "                a = Value#1(2 1){ 5.5 }\n",
       "                b = Value#1(2 1){ 500 }\n",
       "                c = Value#1(2 1){ 55.0 }\n",
       "            }\n",
       "        }\n",
       "    }\n",
       "}"
      ]
     },
     "execution_count": 4,
     "metadata": {},
     "output_type": "execute_result"
    }
   ],
   "source": [
    "output, counter = interpreter.run(r\"\"\"\n",
    "\n",
    "out = table1 with {\n",
    "    c = 10*a     # add c as a new field\n",
    "}\n",
    "\n",
    "\"\"\", instances); output"
   ]
  },
  {
   "cell_type": "code",
   "execution_count": 5,
   "metadata": {},
   "outputs": [
    {
     "data": {
      "text/plain": [
       "List{ \n",
       "    Rec#0(0){ \n",
       "        out = List#0(0){ \n",
       "            Rec#1(0 0){ \n",
       "                c = Value#1(0 0){ 11.0 }\n",
       "            }\n",
       "            Rec#1(0 1){ \n",
       "                c = Value#1(0 1){ 22.0 }\n",
       "            }\n",
       "            Rec#1(0 2){ \n",
       "                c = Value#1(0 2){ 33.0 }\n",
       "            }\n",
       "        }\n",
       "    }\n",
       "    Rec#0(1){ \n",
       "        out = List#0(1){ \n",
       "        }\n",
       "    }\n",
       "    Rec#0(2){ \n",
       "        out = List#0(2){ \n",
       "            Rec#1(2 0){ \n",
       "                c = Value#1(2 0){ 44.0 }\n",
       "            }\n",
       "            Rec#1(2 1){ \n",
       "                c = Value#1(2 1){ 55.0 }\n",
       "            }\n",
       "        }\n",
       "    }\n",
       "}"
      ]
     },
     "execution_count": 5,
     "metadata": {},
     "output_type": "execute_result"
    }
   ],
   "source": [
    "output, counter = interpreter.run(r\"\"\"\n",
    "\n",
    "out = table1 to {\n",
    "    c = 10*a     # c is the only field in a new set of records\n",
    "}\n",
    "\n",
    "\"\"\", instances); output"
   ]
  },
  {
   "cell_type": "code",
   "execution_count": 6,
   "metadata": {},
   "outputs": [
    {
     "data": {
      "text/plain": [
       "List{ \n",
       "    Rec#0(0){ \n",
       "        out = List#0(0){ \n",
       "            Value#1(0 0){ 11.0 }\n",
       "            Value#1(0 1){ 22.0 }\n",
       "            Value#1(0 2){ 33.0 }\n",
       "        }\n",
       "    }\n",
       "    Rec#0(1){ \n",
       "        out = List#0(1){ \n",
       "        }\n",
       "    }\n",
       "    Rec#0(2){ \n",
       "        out = List#0(2){ \n",
       "            Value#1(2 0){ 44.0 }\n",
       "            Value#1(2 1){ 55.0 }\n",
       "        }\n",
       "    }\n",
       "}"
      ]
     },
     "execution_count": 6,
     "metadata": {},
     "output_type": "execute_result"
    }
   ],
   "source": [
    "output, counter = interpreter.run(r\"\"\"\n",
    "\n",
    "out = table1 to 10*a     # the results are simple values, not records (in this case, numbers)\n",
    "\n",
    "\"\"\", instances); output"
   ]
  },
  {
   "cell_type": "markdown",
   "metadata": {},
   "source": [
    "## Group-by\n",
    "\n",
    "The `GROUP BY` operator is a major part of SQL: it changes a `SELECT` operation from a filtered transformation of a table into an aggregation over subtables, each defined by a distinct value of the expression following `GROUP BY`. It changes the nature of the whole query—expressions after `SELECT` must be reducers (converting lists/sets into scalars).\n",
    "\n",
    "In PartiQL, `group by` acts as a simple function that converts sets of records into sets of sets of those records, grouped by distinct values of the expression following `group by`. If you decide to aggregate those inner sets, that's your choice."
   ]
  },
  {
   "cell_type": "code",
   "execution_count": 44,
   "metadata": {},
   "outputs": [
    {
     "data": {
      "text/plain": [
       "List{ \n",
       "    Rec#0(0){ \n",
       "        grouped = List#0(0){ \n",
       "            List#10(0 0){ \n",
       "                Rec#2(0 0){ \n",
       "                    b = Value#2(0 0){ True }\n",
       "                    c = Value#2(0 0){ 10 }\n",
       "                }\n",
       "            }\n",
       "            List#10(0 1){ \n",
       "                Rec#2(0 1){ \n",
       "                    b = Value#2(0 1){ False }\n",
       "                    c = Value#2(0 1){ 20 }\n",
       "                }\n",
       "            }\n",
       "        }\n",
       "    }\n",
       "    Rec#0(1){ \n",
       "        grouped = List#0(1){ \n",
       "            List#11(1 0){ \n",
       "                Rec#2(1 0){ \n",
       "                    b = Value#2(1 0){ True }\n",
       "                    c = Value#2(1 0){ 100 }\n",
       "                }\n",
       "            }\n",
       "        }\n",
       "    }\n",
       "    Rec#0(2){ \n",
       "        grouped = List#0(2){ \n",
       "            List#12(2 0){ \n",
       "                Rec#2(2 0){ \n",
       "                    b = Value#2(2 0){ False }\n",
       "                    c = Value#2(2 0){ 1 }\n",
       "                }\n",
       "                Rec#2(2 1){ \n",
       "                    b = Value#2(2 1){ False }\n",
       "                    c = Value#2(2 1){ 2 }\n",
       "                }\n",
       "            }\n",
       "            List#12(2 1){ \n",
       "                Rec#2(2 2){ \n",
       "                    b = Value#2(2 2){ True }\n",
       "                    c = Value#2(2 2){ 3 }\n",
       "                }\n",
       "                Rec#2(2 3){ \n",
       "                    b = Value#2(2 3){ True }\n",
       "                    c = Value#2(2 3){ 4 }\n",
       "                }\n",
       "                Rec#2(2 4){ \n",
       "                    b = Value#2(2 4){ True }\n",
       "                    c = Value#2(2 4){ 5 }\n",
       "                }\n",
       "            }\n",
       "        }\n",
       "    }\n",
       "}"
      ]
     },
     "execution_count": 44,
     "metadata": {},
     "output_type": "execute_result"
    }
   ],
   "source": [
    "output, counter = interpreter.run(r\"\"\"\n",
    "\n",
    "grouped = table2 group by b\n",
    "\n",
    "\"\"\", instances); output"
   ]
  },
  {
   "cell_type": "markdown",
   "metadata": {},
   "source": [
    "Below, we aggregate over the inner sets by modifying the set of records as we would modify any other set of records—by defining new fields in a `to` block. The aggregation functions (`count`, `sum`, `min`, `max`, `any`, `all`) operate on sets of values.\n",
    "\n",
    "If we wanted to aggregate `b` (because we grouped by `b`; it would have the same value in every element) without aggregating `c`, we could do that. The data model is capable of managing sets of records whose fields are a scalar and a set."
   ]
  },
  {
   "cell_type": "code",
   "execution_count": 10,
   "metadata": {},
   "outputs": [
    {
     "data": {
      "text/plain": [
       "List{ \n",
       "    Rec#0(0){ \n",
       "        aggregated = List#0(0){ \n",
       "            Rec#22(0 0){ \n",
       "                b = Value#22(0 0){ True }\n",
       "                c = Value#22(0 0){ 10 }\n",
       "            }\n",
       "            Rec#22(0 1){ \n",
       "                b = Value#22(0 1){ False }\n",
       "                c = Value#22(0 1){ 20 }\n",
       "            }\n",
       "        }\n",
       "    }\n",
       "    Rec#0(1){ \n",
       "        aggregated = List#0(1){ \n",
       "            Rec#23(1 0){ \n",
       "                b = Value#23(1 0){ True }\n",
       "                c = Value#23(1 0){ 100 }\n",
       "            }\n",
       "        }\n",
       "    }\n",
       "    Rec#0(2){ \n",
       "        aggregated = List#0(2){ \n",
       "            Rec#24(2 0){ \n",
       "                b = Value#24(2 0){ False }\n",
       "                c = Value#24(2 0){ 3 }\n",
       "            }\n",
       "            Rec#24(2 1){ \n",
       "                b = Value#24(2 1){ True }\n",
       "                c = Value#24(2 1){ 12 }\n",
       "            }\n",
       "        }\n",
       "    }\n",
       "}"
      ]
     },
     "execution_count": 10,
     "metadata": {},
     "output_type": "execute_result"
    }
   ],
   "source": [
    "output, counter = interpreter.run(r\"\"\"\n",
    "\n",
    "aggregated = table2 group by b as grouped to {\n",
    "    b = any(grouped.b)\n",
    "    c = sum(grouped.c)\n",
    "}\n",
    "\n",
    "\"\"\", instances); output"
   ]
  },
  {
   "cell_type": "markdown",
   "metadata": {},
   "source": [
    "## Min by and max by\n",
    "\n",
    "Whereas `group by` restructures a set of records into a set of sets of records, `min by` and `max by` restructure a set of records into a single record. If the set is empty, this returns missing data."
   ]
  },
  {
   "cell_type": "code",
   "execution_count": 11,
   "metadata": {},
   "outputs": [
    {
     "data": {
      "text/plain": [
       "List{ \n",
       "    Rec#0(0){ \n",
       "        out = Rec#1(0 2){ \n",
       "            a = Value#1(0 2){ 3.3 }\n",
       "            b = Value#1(0 2){ 300 }\n",
       "        }\n",
       "    }\n",
       "    Rec#0(2){ \n",
       "        out = Rec#1(2 1){ \n",
       "            a = Value#1(2 1){ 5.5 }\n",
       "            b = Value#1(2 1){ 500 }\n",
       "        }\n",
       "    }\n",
       "}"
      ]
     },
     "execution_count": 11,
     "metadata": {},
     "output_type": "execute_result"
    }
   ],
   "source": [
    "output, counter = interpreter.run(r\"\"\"\n",
    "\n",
    "out = table1 max by a\n",
    "\n",
    "\"\"\", instances); output"
   ]
  },
  {
   "cell_type": "code",
   "execution_count": 12,
   "metadata": {},
   "outputs": [
    {
     "data": {
      "text/plain": [
       "List{ \n",
       "    Rec#0(0){ \n",
       "        out = Value#1(0 2){ 300 }\n",
       "    }\n",
       "    Rec#0(2){ \n",
       "        out = Value#1(2 1){ 500 }\n",
       "    }\n",
       "}"
      ]
     },
     "execution_count": 12,
     "metadata": {},
     "output_type": "execute_result"
    }
   ],
   "source": [
    "output, counter = interpreter.run(r\"\"\"\n",
    "\n",
    "out = (table1 max by a).b\n",
    "\n",
    "\"\"\", instances); output"
   ]
  },
  {
   "cell_type": "markdown",
   "metadata": {},
   "source": [
    "# Concluding remarks\n",
    "\n",
    "SQL has broad applicability because it is a complete system for transforming sets without the complexity of a generic programming language. Unlike functional programming, which is an implementation of Alonzo Church's Lambda Calculus (Turing complete), SQL is an implementation of Edgar Codd's [Relational Algebra](https://en.wikipedia.org/wiki/Relational_algebra), a more restricted but still useful system. In principle, a Turing complete language must be executed to find out what it does, but set operations can be analyzed analytically.\n",
    "\n",
    "SQL's claims to \"completeness\" rest on its implementation of *almost* every operation in the Relational Algebra. PartiQL has the same features:\n",
    "\n",
    "   * Cartesian product: `cross`,\n",
    "   * projection: `to` (without curly brackets),\n",
    "   * selection: `with` or `to` (with curly brackets),\n",
    "   * rename: `to` (with curly brackets),\n",
    "   * inner and outer join: `join` and `union`, which double as intersection and union, given our choice of surrogate index,\n",
    "   * θ-join: `join` with `where`,\n",
    "   * semijoin: (not implemented; this is the `LEFT OUTER JOIN` and `RIGHT OUTER JOIN` of SQL, discussed above),\n",
    "   * antijoin: `except`,\n",
    "   * division: (not implemented, but not implemented in SQL, either),\n",
    "\n",
    "Furthermore, PartiQL uses true sets as containers, not bags (sets with duplicates). Unlike SQL, PartiQL has prescribed indexes and doesn't let the user choose new indexes for `JOIN` operations, but this is because entity identity is defined by reconstruction and does not have to be discovered from natural keys in the data.\n",
    "\n",
    "Like SQL, PartiQL has aggregation (reducer functions) and `group by`, both of which are extensions beyond Relational Algebra.\n",
    "\n",
    "SQL's only container type is a table, which is a bag of relations, but PartiQL handles sets of values, relations (\"records\" in PartiQL), as well as sets. This can be modeled in SQL using multiple tables and foreign keys, but PartiQL hides the keys and presents conventional data structures.\n",
    "\n",
    "Additionally, PartiQL is capable of all the `JaggedArray` operations that have been needed in awkward-array, except for those dealing with order and forcing arrays to have a fixed size (e.g. `JaggedArray.pad`).\n",
    "\n",
    "The pattern matching of my May 2019 language is expressible in PartiQL, though without the nicety of a pattern-match syntax. There could be an elegant way to merge the two, though PartiQL's paradigm of naming samples with and without replacement before building any structures is more powerful than the pattern-matching syntax. (There are long-distance constraints that can't be expressed in pattern-matching, but can with PartiQL.)\n",
    "\n",
    "Difficult combinatorics, such as [Benchmark 8](https://github.com/iris-hep/adl-benchmarks-index#functionality-benchmarks), appear to be trivial and quite readable in this language.\n",
    "\n",
    "Thus, I conclude that a language built out of\n",
    "\n",
    "   1. SQL-style surrogate keys (hidden),\n",
    "   2. SQL-style joins (on the hidden keys),\n",
    "   3. with a deep structure-friendly data model and a more composable syntax than SQL\n",
    "\n",
    "would be a useful language for doing particle physics, would be different enough in capabilities to provide more \"value added,\" and would be more tightly controlled (more declarative, more optimizable) than a general programming language, including functional languages like Spark and LINQ."
   ]
  }
 ],
 "metadata": {
  "kernelspec": {
   "display_name": "Python 3",
   "language": "python",
   "name": "python3"
  },
  "language_info": {
   "codemirror_mode": {
    "name": "ipython",
    "version": 3
   },
   "file_extension": ".py",
   "mimetype": "text/x-python",
   "name": "python",
   "nbconvert_exporter": "python",
   "pygments_lexer": "ipython3",
   "version": "3.7.3"
  }
 },
 "nbformat": 4,
 "nbformat_minor": 4
}
