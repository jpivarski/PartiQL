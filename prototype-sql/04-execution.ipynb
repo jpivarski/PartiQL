{
 "cells": [
  {
   "cell_type": "markdown",
   "metadata": {},
   "source": [
    "# Execution\n",
    "\n",
    "This notebook explains how PartiQL executes, with some discussion of its implementation."
   ]
  },
  {
   "cell_type": "markdown",
   "metadata": {},
   "source": [
    "## Data model\n",
    "\n",
    "As discussed in [02-data-model.ipynb](02-data-model.ipynb), the only allowed types are PLURP (PLUR in this demo). In a rowwise, dynamically typed interpreter, this means there are only values, records, and lists. Since PartiQL is list order-independent and merges items with the same key, the lists are really sets, though the word \"list\" appears in the implementation and error messages.\n",
    "\n",
    "Every value entering or exiting the PartiQL interpreter is a `data.Instance`, even simple numbers."
   ]
  },
  {
   "cell_type": "code",
   "execution_count": 35,
   "metadata": {},
   "outputs": [
    {
     "data": {
      "text/plain": [
       "[{'x': 0.1,\n",
       "  'y': 1000,\n",
       "  'table1': [{'a': 1.1, 'b': 100}, {'a': 2.2, 'b': 200}, {'a': 3.3, 'b': 300}],\n",
       "  'table2': [{'b': True, 'c': 10}, {'b': False, 'c': 20}],\n",
       "  'stuff': [1, 2, 3]},\n",
       " {'x': 0.2,\n",
       "  'y': 2000,\n",
       "  'table1': [],\n",
       "  'table2': [{'b': True, 'c': 100}],\n",
       "  'stuff': []},\n",
       " {'x': 0.3,\n",
       "  'y': 3000,\n",
       "  'table1': [{'a': 4.4, 'b': 400}, {'a': 5.5, 'b': 500}],\n",
       "  'table2': [{'b': False, 'c': 1},\n",
       "   {'b': False, 'c': 2},\n",
       "   {'b': True, 'c': 3},\n",
       "   {'b': True, 'c': 4},\n",
       "   {'b': True, 'c': 5}],\n",
       "  'stuff': [4, 5]}]"
      ]
     },
     "execution_count": 35,
     "metadata": {},
     "output_type": "execute_result"
    }
   ],
   "source": [
    "import data\n",
    "\n",
    "arrays = data.RecordArray({\n",
    "    \"x\": data.PrimitiveArray([0.1, 0.2, 0.3]),\n",
    "    \"y\": data.PrimitiveArray([1000, 2000, 3000]),\n",
    "    \"table1\": data.ListArray([0, 3, 3], [3, 3, 5], data.RecordArray({\n",
    "            \"a\": data.PrimitiveArray([1.1, 2.2, 3.3, 4.4, 5.5]),\n",
    "            \"b\": data.PrimitiveArray([100, 200, 300, 400, 500])\n",
    "        })\n",
    "    ),\n",
    "    \"table2\": data.ListArray([0, 2, 3], [2, 3, 8], data.RecordArray({\n",
    "            \"b\": data.PrimitiveArray([True, False, True, False, False, True, True, True]),\n",
    "            \"c\": data.PrimitiveArray([10, 20, 100, 1, 2, 3, 4, 5])\n",
    "        })\n",
    "    ),\n",
    "    \"stuff\": data.ListArray([0, 3, 3], [3, 3, 5], data.PrimitiveArray([1, 2, 3, 4, 5]))\n",
    "})\n",
    "\n",
    "arrays.tolist()"
   ]
  },
  {
   "cell_type": "code",
   "execution_count": 36,
   "metadata": {},
   "outputs": [
    {
     "data": {
      "text/plain": [
       "List{ \n",
       "    Rec#3(0){ \n",
       "        x = Value#3(0){ 0.1 }\n",
       "        y = Value#3(0){ 1000 }\n",
       "        table1 = List#3(0){ \n",
       "            Rec#4(0 0){ \n",
       "                a = Value#4(0 0){ 1.1 }\n",
       "                b = Value#4(0 0){ 100 }\n",
       "            }\n",
       "            Rec#4(0 1){ \n",
       "                a = Value#4(0 1){ 2.2 }\n",
       "                b = Value#4(0 1){ 200 }\n",
       "            }\n",
       "            Rec#4(0 2){ \n",
       "                a = Value#4(0 2){ 3.3 }\n",
       "                b = Value#4(0 2){ 300 }\n",
       "            }\n",
       "        }\n",
       "        table2 = List#3(0){ \n",
       "            Rec#5(0 0){ \n",
       "                b = Value#5(0 0){ True }\n",
       "                c = Value#5(0 0){ 10 }\n",
       "            }\n",
       "            Rec#5(0 1){ \n",
       "                b = Value#5(0 1){ False }\n",
       "                c = Value#5(0 1){ 20 }\n",
       "            }\n",
       "        }\n",
       "        stuff = List#3(0){ \n",
       "            Value#6(0 0){ 1 }\n",
       "            Value#6(0 1){ 2 }\n",
       "            Value#6(0 2){ 3 }\n",
       "        }\n",
       "    }\n",
       "    Rec#3(1){ \n",
       "        x = Value#3(1){ 0.2 }\n",
       "        y = Value#3(1){ 2000 }\n",
       "        table1 = List#3(1){ \n",
       "        }\n",
       "        table2 = List#3(1){ \n",
       "            Rec#5(1 0){ \n",
       "                b = Value#5(1 0){ True }\n",
       "                c = Value#5(1 0){ 100 }\n",
       "            }\n",
       "        }\n",
       "        stuff = List#3(1){ \n",
       "        }\n",
       "    }\n",
       "    Rec#3(2){ \n",
       "        x = Value#3(2){ 0.3 }\n",
       "        y = Value#3(2){ 3000 }\n",
       "        table1 = List#3(2){ \n",
       "            Rec#4(2 0){ \n",
       "                a = Value#4(2 0){ 4.4 }\n",
       "                b = Value#4(2 0){ 400 }\n",
       "            }\n",
       "            Rec#4(2 1){ \n",
       "                a = Value#4(2 1){ 5.5 }\n",
       "                b = Value#4(2 1){ 500 }\n",
       "            }\n",
       "        }\n",
       "        table2 = List#3(2){ \n",
       "            Rec#5(2 0){ \n",
       "                b = Value#5(2 0){ False }\n",
       "                c = Value#5(2 0){ 1 }\n",
       "            }\n",
       "            Rec#5(2 1){ \n",
       "                b = Value#5(2 1){ False }\n",
       "                c = Value#5(2 1){ 2 }\n",
       "            }\n",
       "            Rec#5(2 2){ \n",
       "                b = Value#5(2 2){ True }\n",
       "                c = Value#5(2 2){ 3 }\n",
       "            }\n",
       "            Rec#5(2 3){ \n",
       "                b = Value#5(2 3){ True }\n",
       "                c = Value#5(2 3){ 4 }\n",
       "            }\n",
       "            Rec#5(2 4){ \n",
       "                b = Value#5(2 4){ True }\n",
       "                c = Value#5(2 4){ 5 }\n",
       "            }\n",
       "        }\n",
       "        stuff = List#3(2){ \n",
       "            Value#6(2 0){ 4 }\n",
       "            Value#6(2 1){ 5 }\n",
       "        }\n",
       "    }\n",
       "}"
      ]
     },
     "execution_count": 36,
     "metadata": {},
     "output_type": "execute_result"
    }
   ],
   "source": [
    "arrays.setindex()\n",
    "\n",
    "instances = data.instantiate(arrays)\n",
    "instances"
   ]
  },
  {
   "cell_type": "markdown",
   "metadata": {},
   "source": [
    "## Inputs and outputs\n",
    "\n",
    "Next, we'll run a few simple examples to show what the runtime engine requires and produces.\n",
    "\n",
    "If you have not already done so, install the [Lark parser](https://github.com/lark-parser/lark#readme) and Matplotlib."
   ]
  },
  {
   "cell_type": "code",
   "execution_count": 6,
   "metadata": {},
   "outputs": [
    {
     "name": "stdout",
     "output_type": "stream",
     "text": [
      "Requirement already satisfied: lark-parser in /home/jpivarski/miniconda3/lib/python3.7/site-packages (0.7.1)\n",
      "Requirement already satisfied: matplotlib in /home/jpivarski/miniconda3/lib/python3.7/site-packages (3.1.1)\n",
      "Requirement already satisfied: cycler>=0.10 in /home/jpivarski/miniconda3/lib/python3.7/site-packages (from matplotlib) (0.10.0)\n",
      "Requirement already satisfied: pyparsing!=2.0.4,!=2.1.2,!=2.1.6,>=2.0.1 in /home/jpivarski/miniconda3/lib/python3.7/site-packages (from matplotlib) (2.4.0)\n",
      "Requirement already satisfied: python-dateutil>=2.1 in /home/jpivarski/miniconda3/lib/python3.7/site-packages (from matplotlib) (2.8.0)\n",
      "Requirement already satisfied: numpy>=1.11 in /home/jpivarski/miniconda3/lib/python3.7/site-packages (from matplotlib) (1.16.4)\n",
      "Requirement already satisfied: kiwisolver>=1.0.1 in /home/jpivarski/miniconda3/lib/python3.7/site-packages (from matplotlib) (1.1.0)\n",
      "Requirement already satisfied: six in /home/jpivarski/miniconda3/lib/python3.7/site-packages (from cycler>=0.10->matplotlib) (1.12.0)\n",
      "Requirement already satisfied: setuptools in /home/jpivarski/miniconda3/lib/python3.7/site-packages (from kiwisolver>=1.0.1->matplotlib) (41.0.1)\n"
     ]
    }
   ],
   "source": [
    "!pip install lark-parser matplotlib"
   ]
  },
  {
   "cell_type": "code",
   "execution_count": 3,
   "metadata": {},
   "outputs": [],
   "source": [
    "import interpreter"
   ]
  },
  {
   "cell_type": "markdown",
   "metadata": {},
   "source": [
    "The interpreter takes a source string and a `data.ListInstance` of `data.RecordInstances` as input.\n",
    "\n",
    "It returns any newly assigned variables (as a `data.ListInstance` of `data.RecordInstances`) and the hierarchy of counters, which may be a single counter (total number of events) or a directory of histograms."
   ]
  },
  {
   "cell_type": "code",
   "execution_count": 4,
   "metadata": {},
   "outputs": [],
   "source": [
    "output, counter = interpreter.run(r\"\"\"\n",
    "\n",
    "z = x + 1\n",
    "\n",
    "hist z by regular(100, 1, 1.5) named \"h\"\n",
    "\n",
    "\"\"\", instances)"
   ]
  },
  {
   "cell_type": "code",
   "execution_count": 5,
   "metadata": {},
   "outputs": [
    {
     "data": {
      "text/plain": [
       "List{ \n",
       "    Rec#0(0){ \n",
       "        z = Value#0(0){ 1.1 }\n",
       "    }\n",
       "    Rec#0(1){ \n",
       "        z = Value#0(1){ 1.2 }\n",
       "    }\n",
       "    Rec#0(2){ \n",
       "        z = Value#0(2){ 1.3 }\n",
       "    }\n",
       "}"
      ]
     },
     "execution_count": 5,
     "metadata": {},
     "output_type": "execute_result"
    }
   ],
   "source": [
    "output"
   ]
  },
  {
   "cell_type": "code",
   "execution_count": 6,
   "metadata": {},
   "outputs": [
    {
     "data": {
      "text/plain": [
       "['h']"
      ]
     },
     "execution_count": 6,
     "metadata": {},
     "output_type": "execute_result"
    }
   ],
   "source": [
    "counter.allkeys()"
   ]
  },
  {
   "cell_type": "code",
   "execution_count": 7,
   "metadata": {},
   "outputs": [
    {
     "data": {
      "image/png": "[encoded data removed]",
      "text/plain": [
       "<Figure size 432x288 with 1 Axes>"
      ]
     },
     "metadata": {
      "needs_background": "light"
     },
     "output_type": "display_data"
    }
   ],
   "source": [
    "counter[\"h\"].mpl()"
   ]
  },
  {
   "cell_type": "markdown",
   "metadata": {},
   "source": [
    "Variables assigned in nested blocks will *not* be returned, but histograms defined in these blocks will."
   ]
  },
  {
   "cell_type": "code",
   "execution_count": 8,
   "metadata": {},
   "outputs": [],
   "source": [
    "output, counter = interpreter.run(r\"\"\"\n",
    "\n",
    "table1 with {\n",
    "    z = a + 1\n",
    "    hist z by regular(100, 0, 10) named \"h\"\n",
    "}\n",
    "\n",
    "\"\"\", instances)"
   ]
  },
  {
   "cell_type": "code",
   "execution_count": 9,
   "metadata": {},
   "outputs": [
    {
     "data": {
      "text/plain": [
       "List{ \n",
       "}"
      ]
     },
     "execution_count": 9,
     "metadata": {},
     "output_type": "execute_result"
    }
   ],
   "source": [
    "output"
   ]
  },
  {
   "cell_type": "code",
   "execution_count": 10,
   "metadata": {},
   "outputs": [
    {
     "data": {
      "image/png": "[encoded data removed]",
      "text/plain": [
       "<Figure size 432x288 with 1 Axes>"
      ]
     },
     "metadata": {
      "needs_background": "light"
     },
     "output_type": "display_data"
    }
   ],
   "source": [
    "counter[\"h\"].mpl()"
   ]
  },
  {
   "cell_type": "markdown",
   "metadata": {},
   "source": [
    "To get nested quantities as output, be sure to assign them to a top-level variable."
   ]
  },
  {
   "cell_type": "code",
   "execution_count": 11,
   "metadata": {},
   "outputs": [],
   "source": [
    "output, counter = interpreter.run(r\"\"\"\n",
    "\n",
    "top = table1 with {\n",
    "    z = a + 1\n",
    "    hist z by regular(100, 0, 10) named \"h\"\n",
    "}\n",
    "\n",
    "\"\"\", instances)"
   ]
  },
  {
   "cell_type": "code",
   "execution_count": 12,
   "metadata": {},
   "outputs": [
    {
     "data": {
      "text/plain": [
       "List{ \n",
       "    Rec#0(0){ \n",
       "        top = List#0(0){ \n",
       "            Rec#1(0 0){ \n",
       "                a = Value#1(0 0){ 1.1 }\n",
       "                b = Value#1(0 0){ 100 }\n",
       "                z = Value#1(0 0){ 2.1 }\n",
       "            }\n",
       "            Rec#1(0 1){ \n",
       "                a = Value#1(0 1){ 2.2 }\n",
       "                b = Value#1(0 1){ 200 }\n",
       "                z = Value#1(0 1){ 3.2 }\n",
       "            }\n",
       "            Rec#1(0 2){ \n",
       "                a = Value#1(0 2){ 3.3 }\n",
       "                b = Value#1(0 2){ 300 }\n",
       "                z = Value#1(0 2){ 4.3 }\n",
       "            }\n",
       "        }\n",
       "    }\n",
       "    Rec#0(1){ \n",
       "        top = List#0(1){ \n",
       "        }\n",
       "    }\n",
       "    Rec#0(2){ \n",
       "        top = List#0(2){ \n",
       "            Rec#1(2 0){ \n",
       "                a = Value#1(2 0){ 4.4 }\n",
       "                b = Value#1(2 0){ 400 }\n",
       "                z = Value#1(2 0){ 5.4 }\n",
       "            }\n",
       "            Rec#1(2 1){ \n",
       "                a = Value#1(2 1){ 5.5 }\n",
       "                b = Value#1(2 1){ 500 }\n",
       "                z = Value#1(2 1){ 6.5 }\n",
       "            }\n",
       "        }\n",
       "    }\n",
       "}"
      ]
     },
     "execution_count": 12,
     "metadata": {},
     "output_type": "execute_result"
    }
   ],
   "source": [
    "output"
   ]
  },
  {
   "cell_type": "markdown",
   "metadata": {},
   "source": [
    "Variables assigned at the top-level of the source are a functional return value, but histograms and counters are a side-effect.\n",
    "\n",
    "Histograms nested in a `cut` or `vary` are nested in their counters."
   ]
  },
  {
   "cell_type": "code",
   "execution_count": 23,
   "metadata": {},
   "outputs": [],
   "source": [
    "output, counter = interpreter.run(r\"\"\"\n",
    "cut x > 0.1 named \"c\" {\n",
    "    table2 with {\n",
    "        hist c by regular(100, 0, 10) named \"h\"\n",
    "    }\n",
    "}\n",
    "\"\"\", instances)"
   ]
  },
  {
   "cell_type": "code",
   "execution_count": 24,
   "metadata": {},
   "outputs": [
    {
     "data": {
      "text/plain": [
       "['c', 'c/h']"
      ]
     },
     "execution_count": 24,
     "metadata": {},
     "output_type": "execute_result"
    }
   ],
   "source": [
    "counter.allkeys()"
   ]
  },
  {
   "cell_type": "code",
   "execution_count": 25,
   "metadata": {},
   "outputs": [
    {
     "data": {
      "text/plain": [
       "<DirectoryCounter 2 (2.0 +- 1.4142135623730951)>"
      ]
     },
     "execution_count": 25,
     "metadata": {},
     "output_type": "execute_result"
    }
   ],
   "source": [
    "counter[\"c\"]"
   ]
  },
  {
   "cell_type": "code",
   "execution_count": 27,
   "metadata": {},
   "outputs": [
    {
     "data": {
      "image/png": "[encoded data removed]",
      "text/plain": [
       "<Figure size 432x288 with 1 Axes>"
      ]
     },
     "metadata": {
      "needs_background": "light"
     },
     "output_type": "display_data"
    }
   ],
   "source": [
    "counter[\"c/h\"].mpl()"
   ]
  },
  {
   "cell_type": "markdown",
   "metadata": {},
   "source": [
    "## Scalar expressions"
   ]
  },
  {
   "cell_type": "markdown",
   "metadata": {},
   "source": [
    "Trivial assignment is one way to pass on values from intput to output."
   ]
  },
  {
   "cell_type": "code",
   "execution_count": 28,
   "metadata": {},
   "outputs": [
    {
     "data": {
      "text/plain": [
       "List{ \n",
       "    Rec#0(0){ \n",
       "        x = Value#0(0){ 0.1 }\n",
       "    }\n",
       "    Rec#0(1){ \n",
       "        x = Value#0(1){ 0.2 }\n",
       "    }\n",
       "    Rec#0(2){ \n",
       "        x = Value#0(2){ 0.3 }\n",
       "    }\n",
       "}"
      ]
     },
     "execution_count": 28,
     "metadata": {},
     "output_type": "execute_result"
    }
   ],
   "source": [
    "output, counter = interpreter.run(r\"\"\"\n",
    "\n",
    "x = x\n",
    "\n",
    "\"\"\", instances); output"
   ]
  },
  {
   "cell_type": "markdown",
   "metadata": {},
   "source": [
    "Missing values are handled as unions of records with a field with records without that field. They're only passed through an expression if safe navigation operators (`?`) are used (or explicit checks for `has`)."
   ]
  },
  {
   "cell_type": "code",
   "execution_count": 30,
   "metadata": {},
   "outputs": [
    {
     "data": {
      "text/plain": [
       "List{ \n",
       "    Rec#0(0){ \n",
       "        b = Value{ 200 }\n",
       "        d = Value{ 200 }\n",
       "    }\n",
       "    Rec#0(1){ \n",
       "        a = Value{ 100 }\n",
       "        b = Value{ 100 }\n",
       "        c = Value{ 100 }\n",
       "        d = Value{ 100 }\n",
       "    }\n",
       "    Rec#0(2){ \n",
       "        a = Value{ 100 }\n",
       "        b = Value{ 100 }\n",
       "        c = Value{ 100 }\n",
       "        d = Value{ 100 }\n",
       "    }\n",
       "}"
      ]
     },
     "execution_count": 30,
     "metadata": {},
     "output_type": "execute_result"
    }
   ],
   "source": [
    "output, counter = interpreter.run(r\"\"\"\n",
    "\n",
    "a = if x > 0.1 then 100\n",
    "\n",
    "b = if x > 0.1 then 100 else 200\n",
    "\n",
    "c = ?a\n",
    "\n",
    "d = if has a then 100 else 200\n",
    "\n",
    "\"\"\", instances); output"
   ]
  },
  {
   "cell_type": "markdown",
   "metadata": {},
   "source": [
    "Temporary variables don't appear if they're in a curly-brackets scope."
   ]
  },
  {
   "cell_type": "code",
   "execution_count": 31,
   "metadata": {},
   "outputs": [
    {
     "data": {
      "text/plain": [
       "List{ \n",
       "    Rec#0(0){ \n",
       "        a = Value#0(0){ 100.0 }\n",
       "    }\n",
       "    Rec#0(1){ \n",
       "        a = Value#0(1){ 400.0 }\n",
       "    }\n",
       "    Rec#0(2){ \n",
       "        a = Value#0(2){ 900.0 }\n",
       "    }\n",
       "}"
      ]
     },
     "execution_count": 31,
     "metadata": {},
     "output_type": "execute_result"
    }
   ],
   "source": [
    "output, counter = interpreter.run(r\"\"\"\n",
    "\n",
    "a = {\n",
    "    tmp1 = x + 1\n",
    "    tmp2 = x * 100\n",
    "    tmp2**2\n",
    "}\n",
    "\n",
    "\"\"\", instances); output"
   ]
  },
  {
   "cell_type": "markdown",
   "metadata": {},
   "source": [
    "## Table (set of records) expressions"
   ]
  },
  {
   "cell_type": "markdown",
   "metadata": {},
   "source": [
    "The `as` operator turns any set into a set of records nested within a single field.\n",
    "\n",
    "In the example below, `out1` does not have a record structure, but `out2` does—the same data is packed in a field named `nested`."
   ]
  },
  {
   "cell_type": "code",
   "execution_count": 37,
   "metadata": {},
   "outputs": [
    {
     "data": {
      "text/plain": [
       "List{ \n",
       "    Rec#3(0){ \n",
       "        out1 = List#3(0){ \n",
       "            Value#6(0 0){ 1 }\n",
       "            Value#6(0 1){ 2 }\n",
       "            Value#6(0 2){ 3 }\n",
       "        }\n",
       "        out2 = List#3(0){ \n",
       "            Rec#6(0 0){ \n",
       "                nested = Value#6(0 0){ 1 }\n",
       "            }\n",
       "            Rec#6(0 1){ \n",
       "                nested = Value#6(0 1){ 2 }\n",
       "            }\n",
       "            Rec#6(0 2){ \n",
       "                nested = Value#6(0 2){ 3 }\n",
       "            }\n",
       "        }\n",
       "    }\n",
       "    Rec#3(1){ \n",
       "        out1 = List#3(1){ \n",
       "        }\n",
       "        out2 = List#3(1){ \n",
       "        }\n",
       "    }\n",
       "    Rec#3(2){ \n",
       "        out1 = List#3(2){ \n",
       "            Value#6(2 0){ 4 }\n",
       "            Value#6(2 1){ 5 }\n",
       "        }\n",
       "        out2 = List#3(2){ \n",
       "            Rec#6(2 0){ \n",
       "                nested = Value#6(2 0){ 4 }\n",
       "            }\n",
       "            Rec#6(2 1){ \n",
       "                nested = Value#6(2 1){ 5 }\n",
       "            }\n",
       "        }\n",
       "    }\n",
       "}"
      ]
     },
     "execution_count": 37,
     "metadata": {},
     "output_type": "execute_result"
    }
   ],
   "source": [
    "output, counter = interpreter.run(r\"\"\"\n",
    "\n",
    "out1 = stuff\n",
    "out2 = stuff as nested\n",
    "\n",
    "\"\"\", instances); output"
   ]
  },
  {
   "cell_type": "markdown",
   "metadata": {},
   "source": [
    "It is also a special case of sampling without replacement."
   ]
  },
  {
   "cell_type": "code",
   "execution_count": 38,
   "metadata": {},
   "outputs": [
    {
     "data": {
      "text/plain": [
       "List{ \n",
       "    Rec#3(0){ \n",
       "        out1 = List#3(0){ \n",
       "            Rec#6*#6(0 0){ \n",
       "                x = Value#6(0 0){ 1 }\n",
       "                y = Value#6(0 1){ 2 }\n",
       "            }\n",
       "            Rec#6*#6(0 1){ \n",
       "                x = Value#6(0 0){ 1 }\n",
       "                y = Value#6(0 2){ 3 }\n",
       "            }\n",
       "            Rec#6*#6(0 2){ \n",
       "                x = Value#6(0 1){ 2 }\n",
       "                y = Value#6(0 2){ 3 }\n",
       "            }\n",
       "        }\n",
       "    }\n",
       "    Rec#3(1){ \n",
       "        out1 = List#3(1){ \n",
       "        }\n",
       "    }\n",
       "    Rec#3(2){ \n",
       "        out1 = List#3(2){ \n",
       "            Rec#6*#6(2 0){ \n",
       "                x = Value#6(2 0){ 4 }\n",
       "                y = Value#6(2 1){ 5 }\n",
       "            }\n",
       "        }\n",
       "    }\n",
       "}"
      ]
     },
     "execution_count": 38,
     "metadata": {},
     "output_type": "execute_result"
    }
   ],
   "source": [
    "output, counter = interpreter.run(r\"\"\"\n",
    "\n",
    "out1 = stuff as (x, y)\n",
    "\n",
    "\"\"\", instances); output"
   ]
  }
 ],
 "metadata": {
  "kernelspec": {
   "display_name": "Python 3",
   "language": "python",
   "name": "python3"
  },
  "language_info": {
   "codemirror_mode": {
    "name": "ipython",
    "version": 3
   },
   "file_extension": ".py",
   "mimetype": "text/x-python",
   "name": "python",
   "nbconvert_exporter": "python",
   "pygments_lexer": "ipython3",
   "version": "3.7.3"
  }
 },
 "nbformat": 4,
 "nbformat_minor": 4
}
