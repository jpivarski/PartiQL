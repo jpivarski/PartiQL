{
 "cells": [
  {
   "cell_type": "markdown",
   "metadata": {},
   "source": [
    "# Execution\n",
    "\n",
    "This notebook explains how PartiQL executes, with some discussion of its implementation."
   ]
  },
  {
   "cell_type": "markdown",
   "metadata": {},
   "source": [
    "## Data model\n",
    "\n",
    "As discussed in [02-data-model.ipynb](02-data-model.ipynb), the only allowed types are PLURP (PLUR in this demo). In a rowwise, dynamically typed interpreter, this means there are only values, records, and lists. Since PartiQL is list order-independent and merges items with the same key, the lists are really sets, though the word \"list\" appears in the implementation and error messages.\n",
    "\n",
    "Every value entering or exiting the PartiQL interpreter is a `data.Instance`, even simple numbers."
   ]
  },
  {
   "cell_type": "code",
   "execution_count": 3,
   "metadata": {},
   "outputs": [
    {
     "data": {
      "text/plain": [
       "[{'x': 0.1,\n",
       "  'y': 1000,\n",
       "  'table1': [{'a': 1.1, 'b': 100}, {'a': 2.2, 'b': 200}, {'a': 3.3, 'b': 300}],\n",
       "  'table2': [{'b': True, 'c': 10}, {'b': False, 'c': 20}]},\n",
       " {'x': 0.2, 'y': 2000, 'table1': [], 'table2': [{'b': True, 'c': 100}]},\n",
       " {'x': 0.3,\n",
       "  'y': 3000,\n",
       "  'table1': [{'a': 4.4, 'b': 400}, {'a': 5.5, 'b': 500}],\n",
       "  'table2': [{'b': False, 'c': 1},\n",
       "   {'b': False, 'c': 2},\n",
       "   {'b': True, 'c': 3},\n",
       "   {'b': True, 'c': 4},\n",
       "   {'b': True, 'c': 5}]}]"
      ]
     },
     "execution_count": 3,
     "metadata": {},
     "output_type": "execute_result"
    }
   ],
   "source": [
    "import data\n",
    "\n",
    "arrays = data.RecordArray({\n",
    "    \"x\": data.PrimitiveArray([0.1, 0.2, 0.3]),\n",
    "    \"y\": data.PrimitiveArray([1000, 2000, 3000]),\n",
    "    \"table1\": data.ListArray([0, 3, 3], [3, 3, 5], data.RecordArray({\n",
    "            \"a\": data.PrimitiveArray([1.1, 2.2, 3.3, 4.4, 5.5]),\n",
    "            \"b\": data.PrimitiveArray([100, 200, 300, 400, 500])\n",
    "        })\n",
    "    ),\n",
    "    \"table2\": data.ListArray([0, 2, 3], [2, 3, 8], data.RecordArray({\n",
    "            \"b\": data.PrimitiveArray([True, False, True, False, False, True, True, True]),\n",
    "            \"c\": data.PrimitiveArray([10, 20, 100, 1, 2, 3, 4, 5])\n",
    "        })\n",
    "    )\n",
    "})\n",
    "\n",
    "arrays.tolist()"
   ]
  },
  {
   "cell_type": "code",
   "execution_count": 5,
   "metadata": {},
   "outputs": [
    {
     "data": {
      "text/plain": [
       "List{ \n",
       "    Rec#0(0)(){ \n",
       "        x = Value#0(0)('x'){ 0.1 }\n",
       "        y = Value#0(0)('y'){ 1000 }\n",
       "        table1 = List#0(0)('table1'){ \n",
       "            Rec#1(0 0)('table1'){ \n",
       "                a = Value#1(0 0)('table1' 'a'){ 1.1 }\n",
       "                b = Value#1(0 0)('table1' 'b'){ 100 }\n",
       "            }\n",
       "            Rec#1(0 1)('table1'){ \n",
       "                a = Value#1(0 1)('table1' 'a'){ 2.2 }\n",
       "                b = Value#1(0 1)('table1' 'b'){ 200 }\n",
       "            }\n",
       "            Rec#1(0 2)('table1'){ \n",
       "                a = Value#1(0 2)('table1' 'a'){ 3.3 }\n",
       "                b = Value#1(0 2)('table1' 'b'){ 300 }\n",
       "            }\n",
       "        }\n",
       "        table2 = List#0(0)('table2'){ \n",
       "            Rec#2(0 0)('table2'){ \n",
       "                b = Value#2(0 0)('table2' 'b'){ True }\n",
       "                c = Value#2(0 0)('table2' 'c'){ 10 }\n",
       "            }\n",
       "            Rec#2(0 1)('table2'){ \n",
       "                b = Value#2(0 1)('table2' 'b'){ False }\n",
       "                c = Value#2(0 1)('table2' 'c'){ 20 }\n",
       "            }\n",
       "        }\n",
       "    }\n",
       "    Rec#0(1)(){ \n",
       "        x = Value#0(1)('x'){ 0.2 }\n",
       "        y = Value#0(1)('y'){ 2000 }\n",
       "        table1 = List#0(1)('table1'){ \n",
       "        }\n",
       "        table2 = List#0(1)('table2'){ \n",
       "            Rec#2(1 0)('table2'){ \n",
       "                b = Value#2(1 0)('table2' 'b'){ True }\n",
       "                c = Value#2(1 0)('table2' 'c'){ 100 }\n",
       "            }\n",
       "        }\n",
       "    }\n",
       "    Rec#0(2)(){ \n",
       "        x = Value#0(2)('x'){ 0.3 }\n",
       "        y = Value#0(2)('y'){ 3000 }\n",
       "        table1 = List#0(2)('table1'){ \n",
       "            Rec#1(2 0)('table1'){ \n",
       "                a = Value#1(2 0)('table1' 'a'){ 4.4 }\n",
       "                b = Value#1(2 0)('table1' 'b'){ 400 }\n",
       "            }\n",
       "            Rec#1(2 1)('table1'){ \n",
       "                a = Value#1(2 1)('table1' 'a'){ 5.5 }\n",
       "                b = Value#1(2 1)('table1' 'b'){ 500 }\n",
       "            }\n",
       "        }\n",
       "        table2 = List#0(2)('table2'){ \n",
       "            Rec#2(2 0)('table2'){ \n",
       "                b = Value#2(2 0)('table2' 'b'){ False }\n",
       "                c = Value#2(2 0)('table2' 'c'){ 1 }\n",
       "            }\n",
       "            Rec#2(2 1)('table2'){ \n",
       "                b = Value#2(2 1)('table2' 'b'){ False }\n",
       "                c = Value#2(2 1)('table2' 'c'){ 2 }\n",
       "            }\n",
       "            Rec#2(2 2)('table2'){ \n",
       "                b = Value#2(2 2)('table2' 'b'){ True }\n",
       "                c = Value#2(2 2)('table2' 'c'){ 3 }\n",
       "            }\n",
       "            Rec#2(2 3)('table2'){ \n",
       "                b = Value#2(2 3)('table2' 'b'){ True }\n",
       "                c = Value#2(2 3)('table2' 'c'){ 4 }\n",
       "            }\n",
       "            Rec#2(2 4)('table2'){ \n",
       "                b = Value#2(2 4)('table2' 'b'){ True }\n",
       "                c = Value#2(2 4)('table2' 'c'){ 5 }\n",
       "            }\n",
       "        }\n",
       "    }\n",
       "}"
      ]
     },
     "execution_count": 5,
     "metadata": {},
     "output_type": "execute_result"
    }
   ],
   "source": [
    "arrays.setindex()\n",
    "\n",
    "instances = data.instantiate(arrays)\n",
    "instances"
   ]
  },
  {
   "cell_type": "markdown",
   "metadata": {},
   "source": [
    "## Inputs and outputs\n",
    "\n",
    "Next, we'll run a few simple examples to show what the runtime engine requires and produces.\n",
    "\n",
    "If you have not already done so, install the [Lark parser](https://github.com/lark-parser/lark#readme) and Matplotlib."
   ]
  },
  {
   "cell_type": "code",
   "execution_count": 6,
   "metadata": {},
   "outputs": [
    {
     "name": "stdout",
     "output_type": "stream",
     "text": [
      "Requirement already satisfied: lark-parser in /home/jpivarski/miniconda3/lib/python3.7/site-packages (0.7.1)\n",
      "Requirement already satisfied: matplotlib in /home/jpivarski/miniconda3/lib/python3.7/site-packages (3.1.1)\n",
      "Requirement already satisfied: cycler>=0.10 in /home/jpivarski/miniconda3/lib/python3.7/site-packages (from matplotlib) (0.10.0)\n",
      "Requirement already satisfied: pyparsing!=2.0.4,!=2.1.2,!=2.1.6,>=2.0.1 in /home/jpivarski/miniconda3/lib/python3.7/site-packages (from matplotlib) (2.4.0)\n",
      "Requirement already satisfied: python-dateutil>=2.1 in /home/jpivarski/miniconda3/lib/python3.7/site-packages (from matplotlib) (2.8.0)\n",
      "Requirement already satisfied: numpy>=1.11 in /home/jpivarski/miniconda3/lib/python3.7/site-packages (from matplotlib) (1.16.4)\n",
      "Requirement already satisfied: kiwisolver>=1.0.1 in /home/jpivarski/miniconda3/lib/python3.7/site-packages (from matplotlib) (1.1.0)\n",
      "Requirement already satisfied: six in /home/jpivarski/miniconda3/lib/python3.7/site-packages (from cycler>=0.10->matplotlib) (1.12.0)\n",
      "Requirement already satisfied: setuptools in /home/jpivarski/miniconda3/lib/python3.7/site-packages (from kiwisolver>=1.0.1->matplotlib) (41.0.1)\n"
     ]
    }
   ],
   "source": [
    "!pip install lark-parser matplotlib"
   ]
  },
  {
   "cell_type": "code",
   "execution_count": null,
   "metadata": {},
   "outputs": [],
   "source": []
  }
 ],
 "metadata": {
  "kernelspec": {
   "display_name": "Python 3",
   "language": "python",
   "name": "python3"
  },
  "language_info": {
   "codemirror_mode": {
    "name": "ipython",
    "version": 3
   },
   "file_extension": ".py",
   "mimetype": "text/x-python",
   "name": "python",
   "nbconvert_exporter": "python",
   "pygments_lexer": "ipython3",
   "version": "3.7.3"
  }
 },
 "nbformat": 4,
 "nbformat_minor": 4
}
